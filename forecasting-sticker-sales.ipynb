{
 "cells": [
  {
   "cell_type": "code",
   "execution_count": 1,
   "id": "8a1159d6",
   "metadata": {
    "_cell_guid": "b1076dfc-b9ad-4769-8c92-a6c4dae69d19",
    "_uuid": "8f2839f25d086af736a60e9eeb907d3b93b6e0e5",
    "execution": {
     "iopub.execute_input": "2025-08-11T09:50:39.565692Z",
     "iopub.status.busy": "2025-08-11T09:50:39.564764Z",
     "iopub.status.idle": "2025-08-11T09:50:41.393982Z",
     "shell.execute_reply": "2025-08-11T09:50:41.392916Z"
    },
    "papermill": {
     "duration": 1.835538,
     "end_time": "2025-08-11T09:50:41.395546",
     "exception": false,
     "start_time": "2025-08-11T09:50:39.560008",
     "status": "completed"
    },
    "tags": []
   },
   "outputs": [
    {
     "name": "stdout",
     "output_type": "stream",
     "text": [
      "/kaggle/input/playground-series-s5e1/sample_submission.csv\n",
      "/kaggle/input/playground-series-s5e1/train.csv\n",
      "/kaggle/input/playground-series-s5e1/test.csv\n"
     ]
    }
   ],
   "source": [
    "# This Python 3 environment comes with many helpful analytics libraries installed\n",
    "# It is defined by the kaggle/python Docker image: https://github.com/kaggle/docker-python\n",
    "# For example, here's several helpful packages to load\n",
    "\n",
    "import numpy as np # linear algebra\n",
    "import pandas as pd # data processing, CSV file I/O (e.g. pd.read_csv)\n",
    "\n",
    "# Input data files are available in the read-only \"../input/\" directory\n",
    "# For example, running this (by clicking run or pressing Shift+Enter) will list all files under the input directory\n",
    "\n",
    "import os\n",
    "for dirname, _, filenames in os.walk('/kaggle/input'):\n",
    "    for filename in filenames:\n",
    "        print(os.path.join(dirname, filename))\n",
    "\n",
    "# You can write up to 20GB to the current directory (/kaggle/working/) that gets preserved as output when you create a version using \"Save & Run All\" \n",
    "# You can also write temporary files to /kaggle/temp/, but they won't be saved outside of the current session"
   ]
  },
  {
   "cell_type": "code",
   "execution_count": 2,
   "id": "ed00c21e",
   "metadata": {
    "execution": {
     "iopub.execute_input": "2025-08-11T09:50:41.404063Z",
     "iopub.status.busy": "2025-08-11T09:50:41.402983Z",
     "iopub.status.idle": "2025-08-11T09:50:41.967147Z",
     "shell.execute_reply": "2025-08-11T09:50:41.966104Z"
    },
    "papermill": {
     "duration": 0.569809,
     "end_time": "2025-08-11T09:50:41.968754",
     "exception": false,
     "start_time": "2025-08-11T09:50:41.398945",
     "status": "completed"
    },
    "tags": []
   },
   "outputs": [],
   "source": [
    "train = pd.read_csv('/kaggle/input/playground-series-s5e1/train.csv')\n",
    "test = pd.read_csv('/kaggle/input/playground-series-s5e1/test.csv')"
   ]
  },
  {
   "cell_type": "code",
   "execution_count": 3,
   "id": "e66074c1",
   "metadata": {
    "execution": {
     "iopub.execute_input": "2025-08-11T09:50:41.976346Z",
     "iopub.status.busy": "2025-08-11T09:50:41.976049Z",
     "iopub.status.idle": "2025-08-11T09:50:41.980378Z",
     "shell.execute_reply": "2025-08-11T09:50:41.979488Z"
    },
    "papermill": {
     "duration": 0.009758,
     "end_time": "2025-08-11T09:50:41.981801",
     "exception": false,
     "start_time": "2025-08-11T09:50:41.972043",
     "status": "completed"
    },
    "tags": []
   },
   "outputs": [],
   "source": [
    "categorical = ['country', 'store', 'product']\n",
    "numerical = ['num_sold', 'day', 'month', 'year', 'day_of_week']"
   ]
  },
  {
   "cell_type": "code",
   "execution_count": 4,
   "id": "95efeb4b",
   "metadata": {
    "execution": {
     "iopub.execute_input": "2025-08-11T09:50:41.989383Z",
     "iopub.status.busy": "2025-08-11T09:50:41.989040Z",
     "iopub.status.idle": "2025-08-11T09:50:43.370434Z",
     "shell.execute_reply": "2025-08-11T09:50:43.369565Z"
    },
    "papermill": {
     "duration": 1.387019,
     "end_time": "2025-08-11T09:50:43.372042",
     "exception": false,
     "start_time": "2025-08-11T09:50:41.985023",
     "status": "completed"
    },
    "tags": []
   },
   "outputs": [],
   "source": [
    "from sklearn.preprocessing import OneHotEncoder\n",
    "\n",
    "def preprocess(df, categorical, numerical):\n",
    "    df = df.copy()\n",
    "    df.bfill(inplace = True)\n",
    "    \n",
    "    df['date'] = pd.to_datetime(df['date']) #converting to pd datetime to be handled easier \n",
    "    \n",
    "    #making separate columns for day, month, year, day of week\n",
    "    df['day'] = df['date'].dt.day\n",
    "    df['month'] = df['date'].dt.month\n",
    "    df['year'] = df['date'].dt.year\n",
    "    df['day_of_week'] = df['date'].dt.dayofweek #from 0 to 5\n",
    "    \n",
    "    df.drop(columns = ['date'], inplace = True) #dropping original date \n",
    "\n",
    "    encoder = OneHotEncoder(sparse = False, handle_unknown = 'ignore') #instantiate encoder\n",
    "    encoded_array = encoder.fit_transform(df[categorical])\n",
    "    encoded_df = pd.DataFrame(encoded_array, columns=encoder.get_feature_names_out(categorical), index=df.index)\n",
    "    df.drop(columns=categorical, inplace=True)\n",
    "    df = pd.concat([df, encoded_df], axis=1)\n",
    "\n",
    "    return df"
   ]
  },
  {
   "cell_type": "code",
   "execution_count": 5,
   "id": "43d920ad",
   "metadata": {
    "execution": {
     "iopub.execute_input": "2025-08-11T09:50:43.379702Z",
     "iopub.status.busy": "2025-08-11T09:50:43.378828Z",
     "iopub.status.idle": "2025-08-11T09:50:43.877430Z",
     "shell.execute_reply": "2025-08-11T09:50:43.876664Z"
    },
    "papermill": {
     "duration": 0.503866,
     "end_time": "2025-08-11T09:50:43.879008",
     "exception": false,
     "start_time": "2025-08-11T09:50:43.375142",
     "status": "completed"
    },
    "tags": []
   },
   "outputs": [
    {
     "name": "stderr",
     "output_type": "stream",
     "text": [
      "/usr/local/lib/python3.11/dist-packages/sklearn/preprocessing/_encoders.py:868: FutureWarning: `sparse` was renamed to `sparse_output` in version 1.2 and will be removed in 1.4. `sparse_output` is ignored unless you leave `sparse` to its default value.\n",
      "  warnings.warn(\n"
     ]
    }
   ],
   "source": [
    "train = preprocess(train, categorical, numerical)"
   ]
  },
  {
   "cell_type": "code",
   "execution_count": 6,
   "id": "3701aba9",
   "metadata": {
    "execution": {
     "iopub.execute_input": "2025-08-11T09:50:43.886368Z",
     "iopub.status.busy": "2025-08-11T09:50:43.886068Z",
     "iopub.status.idle": "2025-08-11T09:50:44.316390Z",
     "shell.execute_reply": "2025-08-11T09:50:44.315518Z"
    },
    "papermill": {
     "duration": 0.435793,
     "end_time": "2025-08-11T09:50:44.318043",
     "exception": false,
     "start_time": "2025-08-11T09:50:43.882250",
     "status": "completed"
    },
    "tags": []
   },
   "outputs": [],
   "source": [
    "import xgboost as xgb\n",
    "\n",
    "xgb = xgb.XGBRegressor(n_estimators=300,\n",
    "                       learning_rate=0.1,\n",
    "                       max_depth=6,\n",
    "                       subsample=0.8,\n",
    "                       colsample_bytree=0.8,\n",
    "                       random_state=42,\n",
    "                       n_jobs=-1,\n",
    "                       verbosity=2)"
   ]
  },
  {
   "cell_type": "code",
   "execution_count": 7,
   "id": "a775e016",
   "metadata": {
    "execution": {
     "iopub.execute_input": "2025-08-11T09:50:44.325883Z",
     "iopub.status.busy": "2025-08-11T09:50:44.325198Z",
     "iopub.status.idle": "2025-08-11T09:50:44.342833Z",
     "shell.execute_reply": "2025-08-11T09:50:44.341894Z"
    },
    "papermill": {
     "duration": 0.023243,
     "end_time": "2025-08-11T09:50:44.344521",
     "exception": false,
     "start_time": "2025-08-11T09:50:44.321278",
     "status": "completed"
    },
    "tags": []
   },
   "outputs": [],
   "source": [
    "x_train = train.drop(columns = ['id', 'num_sold'])\n",
    "y_train = train['num_sold']"
   ]
  },
  {
   "cell_type": "code",
   "execution_count": 8,
   "id": "016f44b5",
   "metadata": {
    "execution": {
     "iopub.execute_input": "2025-08-11T09:50:44.352101Z",
     "iopub.status.busy": "2025-08-11T09:50:44.351754Z",
     "iopub.status.idle": "2025-08-11T09:50:47.114577Z",
     "shell.execute_reply": "2025-08-11T09:50:47.113746Z"
    },
    "papermill": {
     "duration": 2.768325,
     "end_time": "2025-08-11T09:50:47.116076",
     "exception": false,
     "start_time": "2025-08-11T09:50:44.347751",
     "status": "completed"
    },
    "tags": []
   },
   "outputs": [
    {
     "data": {
      "text/html": [
       "<style>#sk-container-id-1 {color: black;background-color: white;}#sk-container-id-1 pre{padding: 0;}#sk-container-id-1 div.sk-toggleable {background-color: white;}#sk-container-id-1 label.sk-toggleable__label {cursor: pointer;display: block;width: 100%;margin-bottom: 0;padding: 0.3em;box-sizing: border-box;text-align: center;}#sk-container-id-1 label.sk-toggleable__label-arrow:before {content: \"▸\";float: left;margin-right: 0.25em;color: #696969;}#sk-container-id-1 label.sk-toggleable__label-arrow:hover:before {color: black;}#sk-container-id-1 div.sk-estimator:hover label.sk-toggleable__label-arrow:before {color: black;}#sk-container-id-1 div.sk-toggleable__content {max-height: 0;max-width: 0;overflow: hidden;text-align: left;background-color: #f0f8ff;}#sk-container-id-1 div.sk-toggleable__content pre {margin: 0.2em;color: black;border-radius: 0.25em;background-color: #f0f8ff;}#sk-container-id-1 input.sk-toggleable__control:checked~div.sk-toggleable__content {max-height: 200px;max-width: 100%;overflow: auto;}#sk-container-id-1 input.sk-toggleable__control:checked~label.sk-toggleable__label-arrow:before {content: \"▾\";}#sk-container-id-1 div.sk-estimator input.sk-toggleable__control:checked~label.sk-toggleable__label {background-color: #d4ebff;}#sk-container-id-1 div.sk-label input.sk-toggleable__control:checked~label.sk-toggleable__label {background-color: #d4ebff;}#sk-container-id-1 input.sk-hidden--visually {border: 0;clip: rect(1px 1px 1px 1px);clip: rect(1px, 1px, 1px, 1px);height: 1px;margin: -1px;overflow: hidden;padding: 0;position: absolute;width: 1px;}#sk-container-id-1 div.sk-estimator {font-family: monospace;background-color: #f0f8ff;border: 1px dotted black;border-radius: 0.25em;box-sizing: border-box;margin-bottom: 0.5em;}#sk-container-id-1 div.sk-estimator:hover {background-color: #d4ebff;}#sk-container-id-1 div.sk-parallel-item::after {content: \"\";width: 100%;border-bottom: 1px solid gray;flex-grow: 1;}#sk-container-id-1 div.sk-label:hover label.sk-toggleable__label {background-color: #d4ebff;}#sk-container-id-1 div.sk-serial::before {content: \"\";position: absolute;border-left: 1px solid gray;box-sizing: border-box;top: 0;bottom: 0;left: 50%;z-index: 0;}#sk-container-id-1 div.sk-serial {display: flex;flex-direction: column;align-items: center;background-color: white;padding-right: 0.2em;padding-left: 0.2em;position: relative;}#sk-container-id-1 div.sk-item {position: relative;z-index: 1;}#sk-container-id-1 div.sk-parallel {display: flex;align-items: stretch;justify-content: center;background-color: white;position: relative;}#sk-container-id-1 div.sk-item::before, #sk-container-id-1 div.sk-parallel-item::before {content: \"\";position: absolute;border-left: 1px solid gray;box-sizing: border-box;top: 0;bottom: 0;left: 50%;z-index: -1;}#sk-container-id-1 div.sk-parallel-item {display: flex;flex-direction: column;z-index: 1;position: relative;background-color: white;}#sk-container-id-1 div.sk-parallel-item:first-child::after {align-self: flex-end;width: 50%;}#sk-container-id-1 div.sk-parallel-item:last-child::after {align-self: flex-start;width: 50%;}#sk-container-id-1 div.sk-parallel-item:only-child::after {width: 0;}#sk-container-id-1 div.sk-dashed-wrapped {border: 1px dashed gray;margin: 0 0.4em 0.5em 0.4em;box-sizing: border-box;padding-bottom: 0.4em;background-color: white;}#sk-container-id-1 div.sk-label label {font-family: monospace;font-weight: bold;display: inline-block;line-height: 1.2em;}#sk-container-id-1 div.sk-label-container {text-align: center;}#sk-container-id-1 div.sk-container {/* jupyter's `normalize.less` sets `[hidden] { display: none; }` but bootstrap.min.css set `[hidden] { display: none !important; }` so we also need the `!important` here to be able to override the default hidden behavior on the sphinx rendered scikit-learn.org. See: https://github.com/scikit-learn/scikit-learn/issues/21755 */display: inline-block !important;position: relative;}#sk-container-id-1 div.sk-text-repr-fallback {display: none;}</style><div id=\"sk-container-id-1\" class=\"sk-top-container\"><div class=\"sk-text-repr-fallback\"><pre>XGBRegressor(base_score=None, booster=None, callbacks=None,\n",
       "             colsample_bylevel=None, colsample_bynode=None,\n",
       "             colsample_bytree=0.8, device=None, early_stopping_rounds=None,\n",
       "             enable_categorical=False, eval_metric=None, feature_types=None,\n",
       "             gamma=None, grow_policy=None, importance_type=None,\n",
       "             interaction_constraints=None, learning_rate=0.1, max_bin=None,\n",
       "             max_cat_threshold=None, max_cat_to_onehot=None,\n",
       "             max_delta_step=None, max_depth=6, max_leaves=None,\n",
       "             min_child_weight=None, missing=nan, monotone_constraints=None,\n",
       "             multi_strategy=None, n_estimators=300, n_jobs=-1,\n",
       "             num_parallel_tree=None, random_state=42, ...)</pre><b>In a Jupyter environment, please rerun this cell to show the HTML representation or trust the notebook. <br />On GitHub, the HTML representation is unable to render, please try loading this page with nbviewer.org.</b></div><div class=\"sk-container\" hidden><div class=\"sk-item\"><div class=\"sk-estimator sk-toggleable\"><input class=\"sk-toggleable__control sk-hidden--visually\" id=\"sk-estimator-id-1\" type=\"checkbox\" checked><label for=\"sk-estimator-id-1\" class=\"sk-toggleable__label sk-toggleable__label-arrow\">XGBRegressor</label><div class=\"sk-toggleable__content\"><pre>XGBRegressor(base_score=None, booster=None, callbacks=None,\n",
       "             colsample_bylevel=None, colsample_bynode=None,\n",
       "             colsample_bytree=0.8, device=None, early_stopping_rounds=None,\n",
       "             enable_categorical=False, eval_metric=None, feature_types=None,\n",
       "             gamma=None, grow_policy=None, importance_type=None,\n",
       "             interaction_constraints=None, learning_rate=0.1, max_bin=None,\n",
       "             max_cat_threshold=None, max_cat_to_onehot=None,\n",
       "             max_delta_step=None, max_depth=6, max_leaves=None,\n",
       "             min_child_weight=None, missing=nan, monotone_constraints=None,\n",
       "             multi_strategy=None, n_estimators=300, n_jobs=-1,\n",
       "             num_parallel_tree=None, random_state=42, ...)</pre></div></div></div></div></div>"
      ],
      "text/plain": [
       "XGBRegressor(base_score=None, booster=None, callbacks=None,\n",
       "             colsample_bylevel=None, colsample_bynode=None,\n",
       "             colsample_bytree=0.8, device=None, early_stopping_rounds=None,\n",
       "             enable_categorical=False, eval_metric=None, feature_types=None,\n",
       "             gamma=None, grow_policy=None, importance_type=None,\n",
       "             interaction_constraints=None, learning_rate=0.1, max_bin=None,\n",
       "             max_cat_threshold=None, max_cat_to_onehot=None,\n",
       "             max_delta_step=None, max_depth=6, max_leaves=None,\n",
       "             min_child_weight=None, missing=nan, monotone_constraints=None,\n",
       "             multi_strategy=None, n_estimators=300, n_jobs=-1,\n",
       "             num_parallel_tree=None, random_state=42, ...)"
      ]
     },
     "execution_count": 8,
     "metadata": {},
     "output_type": "execute_result"
    }
   ],
   "source": [
    "xgb.fit(x_train, y_train)"
   ]
  },
  {
   "cell_type": "code",
   "execution_count": 9,
   "id": "eee56eb6",
   "metadata": {
    "execution": {
     "iopub.execute_input": "2025-08-11T09:50:47.124504Z",
     "iopub.status.busy": "2025-08-11T09:50:47.123788Z",
     "iopub.status.idle": "2025-08-11T09:50:47.303799Z",
     "shell.execute_reply": "2025-08-11T09:50:47.302751Z"
    },
    "papermill": {
     "duration": 0.185721,
     "end_time": "2025-08-11T09:50:47.305279",
     "exception": false,
     "start_time": "2025-08-11T09:50:47.119558",
     "status": "completed"
    },
    "tags": []
   },
   "outputs": [
    {
     "name": "stderr",
     "output_type": "stream",
     "text": [
      "/usr/local/lib/python3.11/dist-packages/sklearn/preprocessing/_encoders.py:868: FutureWarning: `sparse` was renamed to `sparse_output` in version 1.2 and will be removed in 1.4. `sparse_output` is ignored unless you leave `sparse` to its default value.\n",
      "  warnings.warn(\n"
     ]
    }
   ],
   "source": [
    "test = preprocess(test, categorical, numerical)\n",
    "x_test = test.drop(columns  = ['id'])"
   ]
  },
  {
   "cell_type": "code",
   "execution_count": 10,
   "id": "ed09c14e",
   "metadata": {
    "execution": {
     "iopub.execute_input": "2025-08-11T09:50:47.313344Z",
     "iopub.status.busy": "2025-08-11T09:50:47.312583Z",
     "iopub.status.idle": "2025-08-11T09:50:47.616531Z",
     "shell.execute_reply": "2025-08-11T09:50:47.615848Z"
    },
    "papermill": {
     "duration": 0.309844,
     "end_time": "2025-08-11T09:50:47.618391",
     "exception": false,
     "start_time": "2025-08-11T09:50:47.308547",
     "status": "completed"
    },
    "tags": []
   },
   "outputs": [],
   "source": [
    "preds = xgb.predict(x_test)"
   ]
  },
  {
   "cell_type": "code",
   "execution_count": 11,
   "id": "b0651059",
   "metadata": {
    "execution": {
     "iopub.execute_input": "2025-08-11T09:50:47.626470Z",
     "iopub.status.busy": "2025-08-11T09:50:47.626153Z",
     "iopub.status.idle": "2025-08-11T09:50:47.631377Z",
     "shell.execute_reply": "2025-08-11T09:50:47.630448Z"
    },
    "papermill": {
     "duration": 0.010649,
     "end_time": "2025-08-11T09:50:47.632688",
     "exception": false,
     "start_time": "2025-08-11T09:50:47.622039",
     "status": "completed"
    },
    "tags": []
   },
   "outputs": [],
   "source": [
    "test['num_sold'] = preds"
   ]
  },
  {
   "cell_type": "code",
   "execution_count": 12,
   "id": "f311122d",
   "metadata": {
    "execution": {
     "iopub.execute_input": "2025-08-11T09:50:47.640803Z",
     "iopub.status.busy": "2025-08-11T09:50:47.640247Z",
     "iopub.status.idle": "2025-08-11T09:50:47.645281Z",
     "shell.execute_reply": "2025-08-11T09:50:47.644458Z"
    },
    "papermill": {
     "duration": 0.010423,
     "end_time": "2025-08-11T09:50:47.646583",
     "exception": false,
     "start_time": "2025-08-11T09:50:47.636160",
     "status": "completed"
    },
    "tags": []
   },
   "outputs": [],
   "source": [
    "submission = pd.DataFrame({\n",
    "    'id' : test['id'],\n",
    "    'num_sold' : test['num_sold']\n",
    "}) "
   ]
  },
  {
   "cell_type": "code",
   "execution_count": 13,
   "id": "0171bd21",
   "metadata": {
    "execution": {
     "iopub.execute_input": "2025-08-11T09:50:47.655275Z",
     "iopub.status.busy": "2025-08-11T09:50:47.654963Z",
     "iopub.status.idle": "2025-08-11T09:50:47.820315Z",
     "shell.execute_reply": "2025-08-11T09:50:47.819391Z"
    },
    "papermill": {
     "duration": 0.171263,
     "end_time": "2025-08-11T09:50:47.822057",
     "exception": false,
     "start_time": "2025-08-11T09:50:47.650794",
     "status": "completed"
    },
    "tags": []
   },
   "outputs": [],
   "source": [
    "submission.to_csv('submission.csv', index = False)"
   ]
  },
  {
   "cell_type": "code",
   "execution_count": null,
   "id": "feff0d93",
   "metadata": {
    "papermill": {
     "duration": 0.003054,
     "end_time": "2025-08-11T09:50:47.828534",
     "exception": false,
     "start_time": "2025-08-11T09:50:47.825480",
     "status": "completed"
    },
    "tags": []
   },
   "outputs": [],
   "source": []
  }
 ],
 "metadata": {
  "kaggle": {
   "accelerator": "none",
   "dataSources": [
    {
     "databundleVersionId": 10652996,
     "sourceId": 85723,
     "sourceType": "competition"
    }
   ],
   "dockerImageVersionId": 31089,
   "isGpuEnabled": false,
   "isInternetEnabled": true,
   "language": "python",
   "sourceType": "notebook"
  },
  "kernelspec": {
   "display_name": "Python 3",
   "language": "python",
   "name": "python3"
  },
  "language_info": {
   "codemirror_mode": {
    "name": "ipython",
    "version": 3
   },
   "file_extension": ".py",
   "mimetype": "text/x-python",
   "name": "python",
   "nbconvert_exporter": "python",
   "pygments_lexer": "ipython3",
   "version": "3.11.13"
  },
  "papermill": {
   "default_parameters": {},
   "duration": 13.731964,
   "end_time": "2025-08-11T09:50:48.550990",
   "environment_variables": {},
   "exception": null,
   "input_path": "__notebook__.ipynb",
   "output_path": "__notebook__.ipynb",
   "parameters": {},
   "start_time": "2025-08-11T09:50:34.819026",
   "version": "2.6.0"
  }
 },
 "nbformat": 4,
 "nbformat_minor": 5
}
