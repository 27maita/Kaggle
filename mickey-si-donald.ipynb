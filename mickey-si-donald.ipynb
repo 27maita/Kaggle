{
 "cells": [
  {
   "cell_type": "code",
   "execution_count": 1,
   "id": "2ffb5a17",
   "metadata": {
    "_cell_guid": "8164185d-4fcd-4230-b891-35608f52d670",
    "_uuid": "f2060330-a06d-4e9c-8100-cde5cddb7e65",
    "collapsed": false,
    "execution": {
     "iopub.execute_input": "2025-08-19T11:24:38.346569Z",
     "iopub.status.busy": "2025-08-19T11:24:38.345728Z",
     "iopub.status.idle": "2025-08-19T11:24:40.119903Z",
     "shell.execute_reply": "2025-08-19T11:24:40.118792Z"
    },
    "jupyter": {
     "outputs_hidden": false
    },
    "papermill": {
     "duration": 1.781734,
     "end_time": "2025-08-19T11:24:40.121379",
     "exception": false,
     "start_time": "2025-08-19T11:24:38.339645",
     "status": "completed"
    },
    "tags": []
   },
   "outputs": [
    {
     "name": "stdout",
     "output_type": "stream",
     "text": [
      "/kaggle/input/mickey-donald/test_data(13).csv\n",
      "/kaggle/input/mickey-donald/sample_output(16).csv\n",
      "/kaggle/input/mickey-donald/train_data(14).csv\n"
     ]
    }
   ],
   "source": [
    "# This Python 3 environment comes with many helpful analytics libraries installed\n",
    "# It is defined by the kaggle/python Docker image: https://github.com/kaggle/docker-python\n",
    "# For example, here's several helpful packages to load\n",
    "\n",
    "import numpy as np # linear algebra\n",
    "import pandas as pd # data processing, CSV file I/O (e.g. pd.read_csv)\n",
    "\n",
    "# Input data files are available in the read-only \"../input/\" directory\n",
    "# For example, running this (by clicking run or pressing Shift+Enter) will list all files under the input directory\n",
    "\n",
    "import os\n",
    "for dirname, _, filenames in os.walk('/kaggle/input'):\n",
    "    for filename in filenames:\n",
    "        print(os.path.join(dirname, filename))\n",
    "\n",
    "# You can write up to 20GB to the current directory (/kaggle/working/) that gets preserved as output when you create a version using \"Save & Run All\" \n",
    "# You can also write temporary files to /kaggle/temp/, but they won't be saved outside of the current session"
   ]
  },
  {
   "cell_type": "code",
   "execution_count": 2,
   "id": "1f918d22",
   "metadata": {
    "_cell_guid": "1a31d133-ed45-4d00-827f-4b960ea4a84a",
    "_uuid": "c6a2bd8f-535c-4f67-a163-62ecb879bcbe",
    "collapsed": false,
    "execution": {
     "iopub.execute_input": "2025-08-19T11:24:40.131355Z",
     "iopub.status.busy": "2025-08-19T11:24:40.130714Z",
     "iopub.status.idle": "2025-08-19T11:24:40.305773Z",
     "shell.execute_reply": "2025-08-19T11:24:40.304831Z"
    },
    "jupyter": {
     "outputs_hidden": false
    },
    "papermill": {
     "duration": 0.181736,
     "end_time": "2025-08-19T11:24:40.307440",
     "exception": false,
     "start_time": "2025-08-19T11:24:40.125704",
     "status": "completed"
    },
    "tags": []
   },
   "outputs": [],
   "source": [
    "train = pd.read_csv('/kaggle/input/mickey-donald/train_data(14).csv')\n",
    "test = pd.read_csv('/kaggle/input/mickey-donald/test_data(13).csv')"
   ]
  },
  {
   "cell_type": "code",
   "execution_count": 3,
   "id": "880693c5",
   "metadata": {
    "_cell_guid": "ab975542-d483-4e7d-bb6f-96565fb4d4e3",
    "_uuid": "86069b77-f382-49c3-81a7-7527c0388abe",
    "collapsed": false,
    "execution": {
     "iopub.execute_input": "2025-08-19T11:24:40.318291Z",
     "iopub.status.busy": "2025-08-19T11:24:40.317963Z",
     "iopub.status.idle": "2025-08-19T11:24:40.347536Z",
     "shell.execute_reply": "2025-08-19T11:24:40.346323Z"
    },
    "jupyter": {
     "outputs_hidden": false
    },
    "papermill": {
     "duration": 0.037139,
     "end_time": "2025-08-19T11:24:40.349007",
     "exception": false,
     "start_time": "2025-08-19T11:24:40.311868",
     "status": "completed"
    },
    "tags": []
   },
   "outputs": [
    {
     "data": {
      "text/html": [
       "<div>\n",
       "<style scoped>\n",
       "    .dataframe tbody tr th:only-of-type {\n",
       "        vertical-align: middle;\n",
       "    }\n",
       "\n",
       "    .dataframe tbody tr th {\n",
       "        vertical-align: top;\n",
       "    }\n",
       "\n",
       "    .dataframe thead th {\n",
       "        text-align: right;\n",
       "    }\n",
       "</style>\n",
       "<table border=\"1\" class=\"dataframe\">\n",
       "  <thead>\n",
       "    <tr style=\"text-align: right;\">\n",
       "      <th></th>\n",
       "      <th>datapointID</th>\n",
       "      <th>sample</th>\n",
       "      <th>dialect</th>\n",
       "      <th>category</th>\n",
       "    </tr>\n",
       "  </thead>\n",
       "  <tbody>\n",
       "    <tr>\n",
       "      <th>0</th>\n",
       "      <td>516</td>\n",
       "      <td>$NE$ $NE$ fin suplinite folosului notificările...</td>\n",
       "      <td>2</td>\n",
       "      <td>5</td>\n",
       "    </tr>\n",
       "    <tr>\n",
       "      <th>1</th>\n",
       "      <td>135</td>\n",
       "      <td>asigurator săgeată, predicție cover înfrângă a...</td>\n",
       "      <td>2</td>\n",
       "      <td>2</td>\n",
       "    </tr>\n",
       "    <tr>\n",
       "      <th>2</th>\n",
       "      <td>568</td>\n",
       "      <td>notificările asigurator importanţei $NE$ $NE$ ...</td>\n",
       "      <td>1</td>\n",
       "      <td>5</td>\n",
       "    </tr>\n",
       "    <tr>\n",
       "      <th>3</th>\n",
       "      <td>1180</td>\n",
       "      <td>$NE$ $NE$ privatizată robotic beijingul \"$NE$ ...</td>\n",
       "      <td>1</td>\n",
       "      <td>5</td>\n",
       "    </tr>\n",
       "    <tr>\n",
       "      <th>4</th>\n",
       "      <td>871</td>\n",
       "      <td>$NE$ $NE$ 1 întocmească saptămână fundaţie mod...</td>\n",
       "      <td>2</td>\n",
       "      <td>3</td>\n",
       "    </tr>\n",
       "    <tr>\n",
       "      <th>...</th>\n",
       "      <td>...</td>\n",
       "      <td>...</td>\n",
       "      <td>...</td>\n",
       "      <td>...</td>\n",
       "    </tr>\n",
       "    <tr>\n",
       "      <th>1147</th>\n",
       "      <td>1225</td>\n",
       "      <td>\"$NE$ irite adolescentă ilicită dictatorial \"m...</td>\n",
       "      <td>1</td>\n",
       "      <td>3</td>\n",
       "    </tr>\n",
       "    <tr>\n",
       "      <th>1148</th>\n",
       "      <td>658</td>\n",
       "      <td>ntechne indispensabile $NE$ $NE$ ajutata testa...</td>\n",
       "      <td>1</td>\n",
       "      <td>5</td>\n",
       "    </tr>\n",
       "    <tr>\n",
       "      <th>1149</th>\n",
       "      <td>578</td>\n",
       "      <td>$NE$ $NE$ nerăbdători stadiului $NE$ #$NE$ – $...</td>\n",
       "      <td>2</td>\n",
       "      <td>3</td>\n",
       "    </tr>\n",
       "    <tr>\n",
       "      <th>1150</th>\n",
       "      <td>391</td>\n",
       "      <td>$NE$ $NE$ $NE$ soţii tendinţe - prindea $NE$ $...</td>\n",
       "      <td>1</td>\n",
       "      <td>3</td>\n",
       "    </tr>\n",
       "    <tr>\n",
       "      <th>1151</th>\n",
       "      <td>1044</td>\n",
       "      <td>neamurile - acestă ilicită cosurile împrejur ....</td>\n",
       "      <td>2</td>\n",
       "      <td>5</td>\n",
       "    </tr>\n",
       "  </tbody>\n",
       "</table>\n",
       "<p>1152 rows × 4 columns</p>\n",
       "</div>"
      ],
      "text/plain": [
       "      datapointID                                             sample  dialect  \\\n",
       "0             516  $NE$ $NE$ fin suplinite folosului notificările...        2   \n",
       "1             135  asigurator săgeată, predicție cover înfrângă a...        2   \n",
       "2             568  notificările asigurator importanţei $NE$ $NE$ ...        1   \n",
       "3            1180  $NE$ $NE$ privatizată robotic beijingul \"$NE$ ...        1   \n",
       "4             871  $NE$ $NE$ 1 întocmească saptămână fundaţie mod...        2   \n",
       "...           ...                                                ...      ...   \n",
       "1147         1225  \"$NE$ irite adolescentă ilicită dictatorial \"m...        1   \n",
       "1148          658  ntechne indispensabile $NE$ $NE$ ajutata testa...        1   \n",
       "1149          578  $NE$ $NE$ nerăbdători stadiului $NE$ #$NE$ – $...        2   \n",
       "1150          391  $NE$ $NE$ $NE$ soţii tendinţe - prindea $NE$ $...        1   \n",
       "1151         1044  neamurile - acestă ilicită cosurile împrejur ....        2   \n",
       "\n",
       "      category  \n",
       "0            5  \n",
       "1            2  \n",
       "2            5  \n",
       "3            5  \n",
       "4            3  \n",
       "...        ...  \n",
       "1147         3  \n",
       "1148         5  \n",
       "1149         3  \n",
       "1150         3  \n",
       "1151         5  \n",
       "\n",
       "[1152 rows x 4 columns]"
      ]
     },
     "execution_count": 3,
     "metadata": {},
     "output_type": "execute_result"
    }
   ],
   "source": [
    "train"
   ]
  },
  {
   "cell_type": "code",
   "execution_count": 4,
   "id": "49d49f87",
   "metadata": {
    "_cell_guid": "cbb20305-446f-4658-ab97-d6b28e1444bc",
    "_uuid": "6924a81e-eb1b-46df-9adb-e76f17f454a1",
    "collapsed": false,
    "execution": {
     "iopub.execute_input": "2025-08-19T11:24:40.359161Z",
     "iopub.status.busy": "2025-08-19T11:24:40.358841Z",
     "iopub.status.idle": "2025-08-19T11:24:40.368079Z",
     "shell.execute_reply": "2025-08-19T11:24:40.367269Z"
    },
    "jupyter": {
     "outputs_hidden": false
    },
    "papermill": {
     "duration": 0.015743,
     "end_time": "2025-08-19T11:24:40.369412",
     "exception": false,
     "start_time": "2025-08-19T11:24:40.353669",
     "status": "completed"
    },
    "tags": []
   },
   "outputs": [
    {
     "data": {
      "text/plain": [
       "array([2, 1])"
      ]
     },
     "execution_count": 4,
     "metadata": {},
     "output_type": "execute_result"
    }
   ],
   "source": [
    "train['dialect'].unique()"
   ]
  },
  {
   "cell_type": "code",
   "execution_count": 5,
   "id": "2bcfe4be",
   "metadata": {
    "_cell_guid": "f3be9bf4-103f-4fd6-9458-da3c89e0d371",
    "_uuid": "dc046d7d-19d9-4a9b-8f79-f2d9bd75cc0b",
    "collapsed": false,
    "execution": {
     "iopub.execute_input": "2025-08-19T11:24:40.379499Z",
     "iopub.status.busy": "2025-08-19T11:24:40.379199Z",
     "iopub.status.idle": "2025-08-19T11:24:42.668967Z",
     "shell.execute_reply": "2025-08-19T11:24:42.667923Z"
    },
    "jupyter": {
     "outputs_hidden": false
    },
    "papermill": {
     "duration": 2.296553,
     "end_time": "2025-08-19T11:24:42.670371",
     "exception": false,
     "start_time": "2025-08-19T11:24:40.373818",
     "status": "completed"
    },
    "tags": []
   },
   "outputs": [
    {
     "name": "stderr",
     "output_type": "stream",
     "text": [
      "[nltk_data] Downloading package stopwords to /usr/share/nltk_data...\n",
      "[nltk_data]   Package stopwords is already up-to-date!\n"
     ]
    },
    {
     "data": {
      "text/plain": [
       "True"
      ]
     },
     "execution_count": 5,
     "metadata": {},
     "output_type": "execute_result"
    }
   ],
   "source": [
    "import re\n",
    "import nltk\n",
    "from nltk.corpus import stopwords\n",
    "nltk.download('stopwords')\n",
    "\n"
   ]
  },
  {
   "cell_type": "code",
   "execution_count": null,
   "id": "b83a3a17",
   "metadata": {
    "execution": {
     "iopub.execute_input": "2025-08-19T11:20:26.809280Z",
     "iopub.status.busy": "2025-08-19T11:20:26.808923Z",
     "iopub.status.idle": "2025-08-19T11:20:26.822993Z",
     "shell.execute_reply": "2025-08-19T11:20:26.821514Z",
     "shell.execute_reply.started": "2025-08-19T11:20:26.809257Z"
    },
    "papermill": {
     "duration": 0.004461,
     "end_time": "2025-08-19T11:24:42.679568",
     "exception": false,
     "start_time": "2025-08-19T11:24:42.675107",
     "status": "completed"
    },
    "tags": []
   },
   "outputs": [],
   "source": []
  },
  {
   "cell_type": "code",
   "execution_count": 6,
   "id": "076019b0",
   "metadata": {
    "_cell_guid": "f091c735-0e58-42f5-82c6-cc18e9f547ea",
    "_uuid": "16b64202-2a82-4985-ae86-b41d136443fe",
    "collapsed": false,
    "execution": {
     "iopub.execute_input": "2025-08-19T11:24:42.690553Z",
     "iopub.status.busy": "2025-08-19T11:24:42.689727Z",
     "iopub.status.idle": "2025-08-19T11:24:42.695654Z",
     "shell.execute_reply": "2025-08-19T11:24:42.694800Z"
    },
    "jupyter": {
     "outputs_hidden": false
    },
    "papermill": {
     "duration": 0.012815,
     "end_time": "2025-08-19T11:24:42.697058",
     "exception": false,
     "start_time": "2025-08-19T11:24:42.684243",
     "status": "completed"
    },
    "tags": []
   },
   "outputs": [],
   "source": [
    "def dialect(value):\n",
    "    return value == 1 #1=1, 0=2\n",
    "\n",
    "def cleantext(text):\n",
    "    text = re.sub(r'[^a-z0-9\\s]', '', text)\n",
    "    text = text.replace('$NE$', '')    \n",
    "    text = text.lower()\n",
    "\n",
    "    return text\n",
    "\n",
    "def prep(df, mode = 'train'):\n",
    "    df = df.copy()\n",
    "    df.bfill(inplace = True)\n",
    "    df['sample'] = df['sample'].apply(cleantext)\n",
    "    if mode == 'train':\n",
    "        df['dialect'] = df['dialect'].apply(dialect)\n",
    "\n",
    "    return df"
   ]
  },
  {
   "cell_type": "code",
   "execution_count": 7,
   "id": "cf497560",
   "metadata": {
    "_cell_guid": "33bac3d2-0b0b-4ded-b75d-aa76dcfc66fe",
    "_uuid": "a9f805b0-c77c-45f3-ad5b-dcf12d349bc9",
    "collapsed": false,
    "execution": {
     "iopub.execute_input": "2025-08-19T11:24:42.708265Z",
     "iopub.status.busy": "2025-08-19T11:24:42.707896Z",
     "iopub.status.idle": "2025-08-19T11:24:42.842400Z",
     "shell.execute_reply": "2025-08-19T11:24:42.841643Z"
    },
    "jupyter": {
     "outputs_hidden": false
    },
    "papermill": {
     "duration": 0.142445,
     "end_time": "2025-08-19T11:24:42.844112",
     "exception": false,
     "start_time": "2025-08-19T11:24:42.701667",
     "status": "completed"
    },
    "tags": []
   },
   "outputs": [],
   "source": [
    "train = prep(train)"
   ]
  },
  {
   "cell_type": "code",
   "execution_count": 8,
   "id": "f1c5a6bf",
   "metadata": {
    "_cell_guid": "d1a06fa5-5594-49c6-8b31-6de0bfe66f10",
    "_uuid": "bbf954a2-6ea3-46ad-a324-0ece1609a908",
    "collapsed": false,
    "execution": {
     "iopub.execute_input": "2025-08-19T11:24:42.854568Z",
     "iopub.status.busy": "2025-08-19T11:24:42.854270Z",
     "iopub.status.idle": "2025-08-19T11:24:43.141854Z",
     "shell.execute_reply": "2025-08-19T11:24:43.141134Z"
    },
    "jupyter": {
     "outputs_hidden": false
    },
    "papermill": {
     "duration": 0.294629,
     "end_time": "2025-08-19T11:24:43.143485",
     "exception": false,
     "start_time": "2025-08-19T11:24:42.848856",
     "status": "completed"
    },
    "tags": []
   },
   "outputs": [],
   "source": [
    "from sklearn.feature_extraction.text import TfidfVectorizer\n",
    "vectorizer = TfidfVectorizer()\n",
    "vectorized = vectorizer.fit_transform(train['sample'])"
   ]
  },
  {
   "cell_type": "code",
   "execution_count": 9,
   "id": "ebe81d64",
   "metadata": {
    "_cell_guid": "84ad912b-dc4b-4916-b4b5-47e83a3d3480",
    "_uuid": "bbbae390-9792-49bb-80fe-ac0351f3fd8e",
    "collapsed": false,
    "execution": {
     "iopub.execute_input": "2025-08-19T11:24:43.153776Z",
     "iopub.status.busy": "2025-08-19T11:24:43.153461Z",
     "iopub.status.idle": "2025-08-19T11:24:43.411099Z",
     "shell.execute_reply": "2025-08-19T11:24:43.410000Z"
    },
    "jupyter": {
     "outputs_hidden": false
    },
    "papermill": {
     "duration": 0.264675,
     "end_time": "2025-08-19T11:24:43.412856",
     "exception": false,
     "start_time": "2025-08-19T11:24:43.148181",
     "status": "completed"
    },
    "tags": []
   },
   "outputs": [],
   "source": [
    "import xgboost as xgb\n",
    "\n",
    "xgb = xgb.XGBClassifier()"
   ]
  },
  {
   "cell_type": "code",
   "execution_count": 10,
   "id": "75a96339",
   "metadata": {
    "_cell_guid": "7520591b-dd61-4c7a-9944-96ce217e7bab",
    "_uuid": "51e7129a-41b9-4202-a957-e2a1adf4f1f0",
    "collapsed": false,
    "execution": {
     "iopub.execute_input": "2025-08-19T11:24:43.424066Z",
     "iopub.status.busy": "2025-08-19T11:24:43.423420Z",
     "iopub.status.idle": "2025-08-19T11:24:48.295133Z",
     "shell.execute_reply": "2025-08-19T11:24:48.294068Z"
    },
    "jupyter": {
     "outputs_hidden": false
    },
    "papermill": {
     "duration": 4.878807,
     "end_time": "2025-08-19T11:24:48.296582",
     "exception": false,
     "start_time": "2025-08-19T11:24:43.417775",
     "status": "completed"
    },
    "tags": []
   },
   "outputs": [
    {
     "data": {
      "text/html": [
       "<style>#sk-container-id-1 {color: black;background-color: white;}#sk-container-id-1 pre{padding: 0;}#sk-container-id-1 div.sk-toggleable {background-color: white;}#sk-container-id-1 label.sk-toggleable__label {cursor: pointer;display: block;width: 100%;margin-bottom: 0;padding: 0.3em;box-sizing: border-box;text-align: center;}#sk-container-id-1 label.sk-toggleable__label-arrow:before {content: \"▸\";float: left;margin-right: 0.25em;color: #696969;}#sk-container-id-1 label.sk-toggleable__label-arrow:hover:before {color: black;}#sk-container-id-1 div.sk-estimator:hover label.sk-toggleable__label-arrow:before {color: black;}#sk-container-id-1 div.sk-toggleable__content {max-height: 0;max-width: 0;overflow: hidden;text-align: left;background-color: #f0f8ff;}#sk-container-id-1 div.sk-toggleable__content pre {margin: 0.2em;color: black;border-radius: 0.25em;background-color: #f0f8ff;}#sk-container-id-1 input.sk-toggleable__control:checked~div.sk-toggleable__content {max-height: 200px;max-width: 100%;overflow: auto;}#sk-container-id-1 input.sk-toggleable__control:checked~label.sk-toggleable__label-arrow:before {content: \"▾\";}#sk-container-id-1 div.sk-estimator input.sk-toggleable__control:checked~label.sk-toggleable__label {background-color: #d4ebff;}#sk-container-id-1 div.sk-label input.sk-toggleable__control:checked~label.sk-toggleable__label {background-color: #d4ebff;}#sk-container-id-1 input.sk-hidden--visually {border: 0;clip: rect(1px 1px 1px 1px);clip: rect(1px, 1px, 1px, 1px);height: 1px;margin: -1px;overflow: hidden;padding: 0;position: absolute;width: 1px;}#sk-container-id-1 div.sk-estimator {font-family: monospace;background-color: #f0f8ff;border: 1px dotted black;border-radius: 0.25em;box-sizing: border-box;margin-bottom: 0.5em;}#sk-container-id-1 div.sk-estimator:hover {background-color: #d4ebff;}#sk-container-id-1 div.sk-parallel-item::after {content: \"\";width: 100%;border-bottom: 1px solid gray;flex-grow: 1;}#sk-container-id-1 div.sk-label:hover label.sk-toggleable__label {background-color: #d4ebff;}#sk-container-id-1 div.sk-serial::before {content: \"\";position: absolute;border-left: 1px solid gray;box-sizing: border-box;top: 0;bottom: 0;left: 50%;z-index: 0;}#sk-container-id-1 div.sk-serial {display: flex;flex-direction: column;align-items: center;background-color: white;padding-right: 0.2em;padding-left: 0.2em;position: relative;}#sk-container-id-1 div.sk-item {position: relative;z-index: 1;}#sk-container-id-1 div.sk-parallel {display: flex;align-items: stretch;justify-content: center;background-color: white;position: relative;}#sk-container-id-1 div.sk-item::before, #sk-container-id-1 div.sk-parallel-item::before {content: \"\";position: absolute;border-left: 1px solid gray;box-sizing: border-box;top: 0;bottom: 0;left: 50%;z-index: -1;}#sk-container-id-1 div.sk-parallel-item {display: flex;flex-direction: column;z-index: 1;position: relative;background-color: white;}#sk-container-id-1 div.sk-parallel-item:first-child::after {align-self: flex-end;width: 50%;}#sk-container-id-1 div.sk-parallel-item:last-child::after {align-self: flex-start;width: 50%;}#sk-container-id-1 div.sk-parallel-item:only-child::after {width: 0;}#sk-container-id-1 div.sk-dashed-wrapped {border: 1px dashed gray;margin: 0 0.4em 0.5em 0.4em;box-sizing: border-box;padding-bottom: 0.4em;background-color: white;}#sk-container-id-1 div.sk-label label {font-family: monospace;font-weight: bold;display: inline-block;line-height: 1.2em;}#sk-container-id-1 div.sk-label-container {text-align: center;}#sk-container-id-1 div.sk-container {/* jupyter's `normalize.less` sets `[hidden] { display: none; }` but bootstrap.min.css set `[hidden] { display: none !important; }` so we also need the `!important` here to be able to override the default hidden behavior on the sphinx rendered scikit-learn.org. See: https://github.com/scikit-learn/scikit-learn/issues/21755 */display: inline-block !important;position: relative;}#sk-container-id-1 div.sk-text-repr-fallback {display: none;}</style><div id=\"sk-container-id-1\" class=\"sk-top-container\"><div class=\"sk-text-repr-fallback\"><pre>XGBClassifier(base_score=None, booster=None, callbacks=None,\n",
       "              colsample_bylevel=None, colsample_bynode=None,\n",
       "              colsample_bytree=None, device=None, early_stopping_rounds=None,\n",
       "              enable_categorical=False, eval_metric=None, feature_types=None,\n",
       "              gamma=None, grow_policy=None, importance_type=None,\n",
       "              interaction_constraints=None, learning_rate=None, max_bin=None,\n",
       "              max_cat_threshold=None, max_cat_to_onehot=None,\n",
       "              max_delta_step=None, max_depth=None, max_leaves=None,\n",
       "              min_child_weight=None, missing=nan, monotone_constraints=None,\n",
       "              multi_strategy=None, n_estimators=None, n_jobs=None,\n",
       "              num_parallel_tree=None, random_state=None, ...)</pre><b>In a Jupyter environment, please rerun this cell to show the HTML representation or trust the notebook. <br />On GitHub, the HTML representation is unable to render, please try loading this page with nbviewer.org.</b></div><div class=\"sk-container\" hidden><div class=\"sk-item\"><div class=\"sk-estimator sk-toggleable\"><input class=\"sk-toggleable__control sk-hidden--visually\" id=\"sk-estimator-id-1\" type=\"checkbox\" checked><label for=\"sk-estimator-id-1\" class=\"sk-toggleable__label sk-toggleable__label-arrow\">XGBClassifier</label><div class=\"sk-toggleable__content\"><pre>XGBClassifier(base_score=None, booster=None, callbacks=None,\n",
       "              colsample_bylevel=None, colsample_bynode=None,\n",
       "              colsample_bytree=None, device=None, early_stopping_rounds=None,\n",
       "              enable_categorical=False, eval_metric=None, feature_types=None,\n",
       "              gamma=None, grow_policy=None, importance_type=None,\n",
       "              interaction_constraints=None, learning_rate=None, max_bin=None,\n",
       "              max_cat_threshold=None, max_cat_to_onehot=None,\n",
       "              max_delta_step=None, max_depth=None, max_leaves=None,\n",
       "              min_child_weight=None, missing=nan, monotone_constraints=None,\n",
       "              multi_strategy=None, n_estimators=None, n_jobs=None,\n",
       "              num_parallel_tree=None, random_state=None, ...)</pre></div></div></div></div></div>"
      ],
      "text/plain": [
       "XGBClassifier(base_score=None, booster=None, callbacks=None,\n",
       "              colsample_bylevel=None, colsample_bynode=None,\n",
       "              colsample_bytree=None, device=None, early_stopping_rounds=None,\n",
       "              enable_categorical=False, eval_metric=None, feature_types=None,\n",
       "              gamma=None, grow_policy=None, importance_type=None,\n",
       "              interaction_constraints=None, learning_rate=None, max_bin=None,\n",
       "              max_cat_threshold=None, max_cat_to_onehot=None,\n",
       "              max_delta_step=None, max_depth=None, max_leaves=None,\n",
       "              min_child_weight=None, missing=nan, monotone_constraints=None,\n",
       "              multi_strategy=None, n_estimators=None, n_jobs=None,\n",
       "              num_parallel_tree=None, random_state=None, ...)"
      ]
     },
     "execution_count": 10,
     "metadata": {},
     "output_type": "execute_result"
    }
   ],
   "source": [
    "x_train = vectorized\n",
    "y_train = train['dialect']\n",
    "\n",
    "xgb.fit(x_train,y_train)"
   ]
  },
  {
   "cell_type": "code",
   "execution_count": 11,
   "id": "15cb5ac1",
   "metadata": {
    "_cell_guid": "22f18610-28d0-4801-ad20-12113e930c46",
    "_uuid": "7b5e4fa6-a8bb-45df-94b4-7326b51a9784",
    "collapsed": false,
    "execution": {
     "iopub.execute_input": "2025-08-19T11:24:48.308090Z",
     "iopub.status.busy": "2025-08-19T11:24:48.307721Z",
     "iopub.status.idle": "2025-08-19T11:24:48.485643Z",
     "shell.execute_reply": "2025-08-19T11:24:48.484797Z"
    },
    "jupyter": {
     "outputs_hidden": false
    },
    "papermill": {
     "duration": 0.185487,
     "end_time": "2025-08-19T11:24:48.487272",
     "exception": false,
     "start_time": "2025-08-19T11:24:48.301785",
     "status": "completed"
    },
    "tags": []
   },
   "outputs": [],
   "source": [
    "test = prep(test, 'test')\n",
    "x_test = vectorizer.transform(test['sample'])"
   ]
  },
  {
   "cell_type": "code",
   "execution_count": 12,
   "id": "b6906dd4",
   "metadata": {
    "_cell_guid": "a2fa34b2-bbb0-48e4-a9dd-f7f6548e3bea",
    "_uuid": "6d41fb50-a219-4a81-a2ee-e7bc8421acbd",
    "collapsed": false,
    "execution": {
     "iopub.execute_input": "2025-08-19T11:24:48.498315Z",
     "iopub.status.busy": "2025-08-19T11:24:48.497608Z",
     "iopub.status.idle": "2025-08-19T11:24:48.512867Z",
     "shell.execute_reply": "2025-08-19T11:24:48.512201Z"
    },
    "jupyter": {
     "outputs_hidden": false
    },
    "papermill": {
     "duration": 0.022532,
     "end_time": "2025-08-19T11:24:48.514609",
     "exception": false,
     "start_time": "2025-08-19T11:24:48.492077",
     "status": "completed"
    },
    "tags": []
   },
   "outputs": [],
   "source": [
    "preds = xgb.predict(x_test)"
   ]
  },
  {
   "cell_type": "code",
   "execution_count": 13,
   "id": "b1d0b5c8",
   "metadata": {
    "_cell_guid": "2bf8f0cd-9e6c-4997-a6e7-a64f4c711005",
    "_uuid": "e2c83212-4552-45c5-95ef-2d20a5352f90",
    "collapsed": false,
    "execution": {
     "iopub.execute_input": "2025-08-19T11:24:48.525827Z",
     "iopub.status.busy": "2025-08-19T11:24:48.525170Z",
     "iopub.status.idle": "2025-08-19T11:24:48.529796Z",
     "shell.execute_reply": "2025-08-19T11:24:48.529020Z"
    },
    "jupyter": {
     "outputs_hidden": false
    },
    "papermill": {
     "duration": 0.01172,
     "end_time": "2025-08-19T11:24:48.531369",
     "exception": false,
     "start_time": "2025-08-19T11:24:48.519649",
     "status": "completed"
    },
    "tags": []
   },
   "outputs": [],
   "source": [
    "for i in range(0, len(preds)):\n",
    "    if preds[i]==1:\n",
    "        preds[i] = 1\n",
    "    else:\n",
    "        preds[i] = 2"
   ]
  },
  {
   "cell_type": "code",
   "execution_count": 14,
   "id": "18dfa06a",
   "metadata": {
    "_cell_guid": "ac049cbc-1223-4621-9424-95f393c1a6a2",
    "_uuid": "760bbe2a-4d04-4082-8e14-968f318e1976",
    "collapsed": false,
    "execution": {
     "iopub.execute_input": "2025-08-19T11:24:48.542195Z",
     "iopub.status.busy": "2025-08-19T11:24:48.541613Z",
     "iopub.status.idle": "2025-08-19T11:24:48.547831Z",
     "shell.execute_reply": "2025-08-19T11:24:48.547038Z"
    },
    "jupyter": {
     "outputs_hidden": false
    },
    "papermill": {
     "duration": 0.013025,
     "end_time": "2025-08-19T11:24:48.549224",
     "exception": false,
     "start_time": "2025-08-19T11:24:48.536199",
     "status": "completed"
    },
    "tags": []
   },
   "outputs": [
    {
     "data": {
      "text/plain": [
       "array([2, 1, 2, 1, 1, 1, 1, 2, 1, 1, 1, 1, 1, 1, 1, 1, 2, 1, 1, 2, 1, 2,\n",
       "       1, 2, 1, 1, 1, 1, 1, 2, 1, 2, 2, 2, 2, 1, 2, 1, 2, 2, 1, 1, 2, 2,\n",
       "       1, 2, 1, 2, 2, 2, 2, 2, 2, 1, 1, 2, 2, 2, 1, 2, 2, 2, 2, 2, 2, 1,\n",
       "       1, 2, 2, 1, 1, 1, 2, 1, 2, 1, 2, 2, 1, 2, 2, 2, 2, 2, 2, 2, 1, 2,\n",
       "       2, 2, 2, 1, 1, 1, 2, 2, 1, 1, 1, 1, 1, 2, 2, 2, 2, 1, 1, 1, 2, 2,\n",
       "       1, 2, 2, 1, 2, 2, 1, 1, 1, 1, 1, 1, 1, 1, 1, 2, 2, 2, 1, 2, 1, 2,\n",
       "       1, 2, 1, 2, 2, 2, 1, 1, 1, 2, 1, 2, 1, 1, 1, 2, 2, 1, 1, 2, 1, 1,\n",
       "       2, 2, 2, 2, 2, 1, 1, 2, 2, 2, 2, 2, 2, 2, 2, 2, 2, 2, 2, 1, 2, 1,\n",
       "       2, 1, 1, 1, 2, 2, 2, 2, 2, 2, 2, 1, 2, 2, 2, 1, 2, 1, 1, 1, 1, 1,\n",
       "       1, 1, 1, 2, 1, 1, 2, 2, 1, 2, 1, 2, 1, 1, 1, 1, 2, 2, 2, 2, 2, 1,\n",
       "       1, 2, 1, 1, 2, 2, 1, 2, 2, 2, 1, 1, 2, 2, 1, 1, 2, 2, 1, 1, 2, 1,\n",
       "       2, 1, 2, 2, 2, 2, 2, 2, 1, 1, 1, 2, 1, 2, 2, 2, 2, 1, 2, 2, 2, 2,\n",
       "       2, 2, 2, 1, 2, 2, 1, 2, 1, 1, 2, 1, 2, 2, 1, 2, 2, 2, 1, 2, 2, 2,\n",
       "       1, 2, 2, 2, 1, 2, 1, 1, 1, 1, 1, 1, 2, 2, 1, 2, 2, 2, 1, 2, 2, 1,\n",
       "       2, 2, 2, 2, 1, 1, 2, 1, 2, 2, 1, 1, 2, 1, 2, 2, 2, 2, 2, 2, 2, 1,\n",
       "       1, 2, 1, 2, 2, 1, 2, 2, 1, 2, 2, 2, 1, 2, 1, 2, 1, 1, 1, 2, 2, 2,\n",
       "       1, 2, 1, 2, 2, 2, 2, 2, 2, 2, 2, 2, 1, 1, 2, 1, 2, 1, 1, 2, 1, 1,\n",
       "       1, 1, 1, 2, 2, 1, 1, 2, 2, 2, 1, 1, 1, 2, 2, 2, 1, 1, 2, 1, 2, 1,\n",
       "       2, 1, 2, 2, 2, 2, 2, 1, 2, 1, 2, 2, 1, 2, 2, 2, 1, 1, 2, 1, 1, 1,\n",
       "       1, 1, 1, 1, 2, 2, 1, 2, 1, 1, 2, 2, 2, 1, 2, 1, 2, 2, 2, 2, 2, 1,\n",
       "       1, 2, 1, 1, 2, 2, 1, 2, 2, 2, 1, 1, 2, 2, 1, 2, 2, 2, 2, 2, 2, 1,\n",
       "       2, 2, 2, 2, 1, 1, 2, 2, 2, 2, 2, 1, 1, 2, 2, 2, 1, 2, 1, 1, 2, 2,\n",
       "       1, 2, 1, 1, 1, 2, 2, 2, 2, 2, 1, 2, 1, 1, 2, 1, 1, 2, 2, 2, 1, 2,\n",
       "       2, 2, 1, 1, 2, 2, 2, 2, 1, 1, 1, 2, 2, 1, 1, 2, 1, 2, 2, 2, 2, 2,\n",
       "       1, 1, 2, 2, 2, 1, 2, 1, 1, 2, 1, 2, 2, 1, 2, 1, 2, 1, 2, 2, 2, 1,\n",
       "       2, 1, 2, 1, 1, 2, 2, 1, 2, 2, 2, 1, 2, 2, 2, 2, 2, 1])"
      ]
     },
     "execution_count": 14,
     "metadata": {},
     "output_type": "execute_result"
    }
   ],
   "source": [
    "preds"
   ]
  },
  {
   "cell_type": "raw",
   "id": "250fa8d1",
   "metadata": {
    "_cell_guid": "a5140947-eb22-4108-8f59-c23ac5619d35",
    "_uuid": "f9677707-6fb2-42b9-acc5-07eab1e2e762",
    "collapsed": false,
    "jupyter": {
     "outputs_hidden": false
    },
    "papermill": {
     "duration": 0.004497,
     "end_time": "2025-08-19T11:24:48.558722",
     "exception": false,
     "start_time": "2025-08-19T11:24:48.554225",
     "status": "completed"
    },
    "tags": []
   },
   "source": [
    "preds"
   ]
  },
  {
   "cell_type": "code",
   "execution_count": 15,
   "id": "33a1da9b",
   "metadata": {
    "_cell_guid": "46c2f22a-4264-44e4-a038-21956d8e3271",
    "_uuid": "c5493c6a-5bee-4c44-9993-c1db1244fb85",
    "collapsed": false,
    "execution": {
     "iopub.execute_input": "2025-08-19T11:24:48.570114Z",
     "iopub.status.busy": "2025-08-19T11:24:48.569755Z",
     "iopub.status.idle": "2025-08-19T11:24:48.576102Z",
     "shell.execute_reply": "2025-08-19T11:24:48.575356Z"
    },
    "jupyter": {
     "outputs_hidden": false
    },
    "papermill": {
     "duration": 0.013557,
     "end_time": "2025-08-19T11:24:48.577469",
     "exception": false,
     "start_time": "2025-08-19T11:24:48.563912",
     "status": "completed"
    },
    "tags": []
   },
   "outputs": [],
   "source": [
    "submission = pd.DataFrame({\n",
    "    'subtaskID' : (['1'] * len(test)) + (['2'] * len(test)),\n",
    "    'datapointID' : test['datapointID'].tolist() + test['datapointID'].tolist(),\n",
    "    'answer' : preds.tolist() + preds.tolist()\n",
    "})"
   ]
  },
  {
   "cell_type": "code",
   "execution_count": 16,
   "id": "a6d36c17",
   "metadata": {
    "_cell_guid": "8ee3b352-1648-4317-9d7b-9b422ea285f9",
    "_uuid": "42493375-a7f0-49a1-b68e-61938a44717a",
    "collapsed": false,
    "execution": {
     "iopub.execute_input": "2025-08-19T11:24:48.589109Z",
     "iopub.status.busy": "2025-08-19T11:24:48.588309Z",
     "iopub.status.idle": "2025-08-19T11:24:48.599806Z",
     "shell.execute_reply": "2025-08-19T11:24:48.598908Z"
    },
    "jupyter": {
     "outputs_hidden": false
    },
    "papermill": {
     "duration": 0.018976,
     "end_time": "2025-08-19T11:24:48.601464",
     "exception": false,
     "start_time": "2025-08-19T11:24:48.582488",
     "status": "completed"
    },
    "tags": []
   },
   "outputs": [],
   "source": [
    "submission.to_csv('submission.csv', index = False)"
   ]
  },
  {
   "cell_type": "code",
   "execution_count": null,
   "id": "98b60c1e",
   "metadata": {
    "_cell_guid": "c542c7bf-a6dd-4eb6-b862-67170d312289",
    "_uuid": "2d3aca69-6954-4a9e-bae4-4f7c3175cb10",
    "collapsed": false,
    "jupyter": {
     "outputs_hidden": false
    },
    "papermill": {
     "duration": 0.004415,
     "end_time": "2025-08-19T11:24:48.610766",
     "exception": false,
     "start_time": "2025-08-19T11:24:48.606351",
     "status": "completed"
    },
    "tags": []
   },
   "outputs": [],
   "source": []
  }
 ],
 "metadata": {
  "kaggle": {
   "accelerator": "none",
   "dataSources": [
    {
     "datasetId": 8097341,
     "sourceId": 12806212,
     "sourceType": "datasetVersion"
    }
   ],
   "dockerImageVersionId": 31089,
   "isGpuEnabled": false,
   "isInternetEnabled": true,
   "language": "python",
   "sourceType": "notebook"
  },
  "kernelspec": {
   "display_name": "Python 3",
   "language": "python",
   "name": "python3"
  },
  "language_info": {
   "codemirror_mode": {
    "name": "ipython",
    "version": 3
   },
   "file_extension": ".py",
   "mimetype": "text/x-python",
   "name": "python",
   "nbconvert_exporter": "python",
   "pygments_lexer": "ipython3",
   "version": "3.11.13"
  },
  "papermill": {
   "default_parameters": {},
   "duration": 15.632279,
   "end_time": "2025-08-19T11:24:49.335629",
   "environment_variables": {},
   "exception": null,
   "input_path": "__notebook__.ipynb",
   "output_path": "__notebook__.ipynb",
   "parameters": {},
   "start_time": "2025-08-19T11:24:33.703350",
   "version": "2.6.0"
  }
 },
 "nbformat": 4,
 "nbformat_minor": 5
}
