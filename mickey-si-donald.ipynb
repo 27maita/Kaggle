{
 "cells": [
  {
   "cell_type": "code",
   "execution_count": 1,
   "id": "087e6056",
   "metadata": {
    "_cell_guid": "a2d300da-bb39-4b2f-a83c-236af5a0a81c",
    "_uuid": "71ef22bf-bbb1-4aac-9bae-5b3867b1e36c",
    "collapsed": false,
    "execution": {
     "iopub.execute_input": "2025-08-19T13:20:43.362719Z",
     "iopub.status.busy": "2025-08-19T13:20:43.362206Z",
     "iopub.status.idle": "2025-08-19T13:20:46.264563Z",
     "shell.execute_reply": "2025-08-19T13:20:46.262599Z"
    },
    "jupyter": {
     "outputs_hidden": false
    },
    "papermill": {
     "duration": 2.913824,
     "end_time": "2025-08-19T13:20:46.266982",
     "exception": false,
     "start_time": "2025-08-19T13:20:43.353158",
     "status": "completed"
    },
    "tags": []
   },
   "outputs": [
    {
     "name": "stdout",
     "output_type": "stream",
     "text": [
      "/kaggle/input/mickey-donald/test_data(13).csv\n",
      "/kaggle/input/mickey-donald/sample_output(16).csv\n",
      "/kaggle/input/mickey-donald/train_data(14).csv\n"
     ]
    }
   ],
   "source": [
    "# This Python 3 environment comes with many helpful analytics libraries installed\n",
    "# It is defined by the kaggle/python Docker image: https://github.com/kaggle/docker-python\n",
    "# For example, here's several helpful packages to load\n",
    "\n",
    "import numpy as np # linear algebra\n",
    "import pandas as pd # data processing, CSV file I/O (e.g. pd.read_csv)\n",
    "\n",
    "# Input data files are available in the read-only \"../input/\" directory\n",
    "# For example, running this (by clicking run or pressing Shift+Enter) will list all files under the input directory\n",
    "\n",
    "import os\n",
    "for dirname, _, filenames in os.walk('/kaggle/input'):\n",
    "    for filename in filenames:\n",
    "        print(os.path.join(dirname, filename))\n",
    "\n",
    "# You can write up to 20GB to the current directory (/kaggle/working/) that gets preserved as output when you create a version using \"Save & Run All\" \n",
    "# You can also write temporary files to /kaggle/temp/, but they won't be saved outside of the current session"
   ]
  },
  {
   "cell_type": "code",
   "execution_count": 2,
   "id": "4d8f7ba3",
   "metadata": {
    "_cell_guid": "01eff427-5b30-479f-833b-a8995fa39c34",
    "_uuid": "48bd8dc8-4f42-41ca-93fd-7c0362d3e537",
    "collapsed": false,
    "execution": {
     "iopub.execute_input": "2025-08-19T13:20:46.279957Z",
     "iopub.status.busy": "2025-08-19T13:20:46.279463Z",
     "iopub.status.idle": "2025-08-19T13:20:46.505388Z",
     "shell.execute_reply": "2025-08-19T13:20:46.503421Z"
    },
    "jupyter": {
     "outputs_hidden": false
    },
    "papermill": {
     "duration": 0.235844,
     "end_time": "2025-08-19T13:20:46.508569",
     "exception": false,
     "start_time": "2025-08-19T13:20:46.272725",
     "status": "completed"
    },
    "tags": []
   },
   "outputs": [],
   "source": [
    "train = pd.read_csv('/kaggle/input/mickey-donald/train_data(14).csv')\n",
    "test = pd.read_csv('/kaggle/input/mickey-donald/test_data(13).csv')"
   ]
  },
  {
   "cell_type": "code",
   "execution_count": 3,
   "id": "8472702f",
   "metadata": {
    "_cell_guid": "9dd2e50a-5054-4e60-a20d-126fecb7cb7e",
    "_uuid": "d2fadd27-92fa-4d6d-985c-e4b15af3628e",
    "collapsed": false,
    "execution": {
     "iopub.execute_input": "2025-08-19T13:20:46.521896Z",
     "iopub.status.busy": "2025-08-19T13:20:46.521529Z",
     "iopub.status.idle": "2025-08-19T13:20:46.568997Z",
     "shell.execute_reply": "2025-08-19T13:20:46.567094Z"
    },
    "jupyter": {
     "outputs_hidden": false
    },
    "papermill": {
     "duration": 0.057338,
     "end_time": "2025-08-19T13:20:46.571656",
     "exception": false,
     "start_time": "2025-08-19T13:20:46.514318",
     "status": "completed"
    },
    "tags": []
   },
   "outputs": [
    {
     "data": {
      "text/html": [
       "<div>\n",
       "<style scoped>\n",
       "    .dataframe tbody tr th:only-of-type {\n",
       "        vertical-align: middle;\n",
       "    }\n",
       "\n",
       "    .dataframe tbody tr th {\n",
       "        vertical-align: top;\n",
       "    }\n",
       "\n",
       "    .dataframe thead th {\n",
       "        text-align: right;\n",
       "    }\n",
       "</style>\n",
       "<table border=\"1\" class=\"dataframe\">\n",
       "  <thead>\n",
       "    <tr style=\"text-align: right;\">\n",
       "      <th></th>\n",
       "      <th>datapointID</th>\n",
       "      <th>sample</th>\n",
       "      <th>dialect</th>\n",
       "      <th>category</th>\n",
       "    </tr>\n",
       "  </thead>\n",
       "  <tbody>\n",
       "    <tr>\n",
       "      <th>0</th>\n",
       "      <td>516</td>\n",
       "      <td>$NE$ $NE$ fin suplinite folosului notificările...</td>\n",
       "      <td>2</td>\n",
       "      <td>5</td>\n",
       "    </tr>\n",
       "    <tr>\n",
       "      <th>1</th>\n",
       "      <td>135</td>\n",
       "      <td>asigurator săgeată, predicție cover înfrângă a...</td>\n",
       "      <td>2</td>\n",
       "      <td>2</td>\n",
       "    </tr>\n",
       "    <tr>\n",
       "      <th>2</th>\n",
       "      <td>568</td>\n",
       "      <td>notificările asigurator importanţei $NE$ $NE$ ...</td>\n",
       "      <td>1</td>\n",
       "      <td>5</td>\n",
       "    </tr>\n",
       "    <tr>\n",
       "      <th>3</th>\n",
       "      <td>1180</td>\n",
       "      <td>$NE$ $NE$ privatizată robotic beijingul \"$NE$ ...</td>\n",
       "      <td>1</td>\n",
       "      <td>5</td>\n",
       "    </tr>\n",
       "    <tr>\n",
       "      <th>4</th>\n",
       "      <td>871</td>\n",
       "      <td>$NE$ $NE$ 1 întocmească saptămână fundaţie mod...</td>\n",
       "      <td>2</td>\n",
       "      <td>3</td>\n",
       "    </tr>\n",
       "    <tr>\n",
       "      <th>...</th>\n",
       "      <td>...</td>\n",
       "      <td>...</td>\n",
       "      <td>...</td>\n",
       "      <td>...</td>\n",
       "    </tr>\n",
       "    <tr>\n",
       "      <th>1147</th>\n",
       "      <td>1225</td>\n",
       "      <td>\"$NE$ irite adolescentă ilicită dictatorial \"m...</td>\n",
       "      <td>1</td>\n",
       "      <td>3</td>\n",
       "    </tr>\n",
       "    <tr>\n",
       "      <th>1148</th>\n",
       "      <td>658</td>\n",
       "      <td>ntechne indispensabile $NE$ $NE$ ajutata testa...</td>\n",
       "      <td>1</td>\n",
       "      <td>5</td>\n",
       "    </tr>\n",
       "    <tr>\n",
       "      <th>1149</th>\n",
       "      <td>578</td>\n",
       "      <td>$NE$ $NE$ nerăbdători stadiului $NE$ #$NE$ – $...</td>\n",
       "      <td>2</td>\n",
       "      <td>3</td>\n",
       "    </tr>\n",
       "    <tr>\n",
       "      <th>1150</th>\n",
       "      <td>391</td>\n",
       "      <td>$NE$ $NE$ $NE$ soţii tendinţe - prindea $NE$ $...</td>\n",
       "      <td>1</td>\n",
       "      <td>3</td>\n",
       "    </tr>\n",
       "    <tr>\n",
       "      <th>1151</th>\n",
       "      <td>1044</td>\n",
       "      <td>neamurile - acestă ilicită cosurile împrejur ....</td>\n",
       "      <td>2</td>\n",
       "      <td>5</td>\n",
       "    </tr>\n",
       "  </tbody>\n",
       "</table>\n",
       "<p>1152 rows × 4 columns</p>\n",
       "</div>"
      ],
      "text/plain": [
       "      datapointID                                             sample  dialect  \\\n",
       "0             516  $NE$ $NE$ fin suplinite folosului notificările...        2   \n",
       "1             135  asigurator săgeată, predicție cover înfrângă a...        2   \n",
       "2             568  notificările asigurator importanţei $NE$ $NE$ ...        1   \n",
       "3            1180  $NE$ $NE$ privatizată robotic beijingul \"$NE$ ...        1   \n",
       "4             871  $NE$ $NE$ 1 întocmească saptămână fundaţie mod...        2   \n",
       "...           ...                                                ...      ...   \n",
       "1147         1225  \"$NE$ irite adolescentă ilicită dictatorial \"m...        1   \n",
       "1148          658  ntechne indispensabile $NE$ $NE$ ajutata testa...        1   \n",
       "1149          578  $NE$ $NE$ nerăbdători stadiului $NE$ #$NE$ – $...        2   \n",
       "1150          391  $NE$ $NE$ $NE$ soţii tendinţe - prindea $NE$ $...        1   \n",
       "1151         1044  neamurile - acestă ilicită cosurile împrejur ....        2   \n",
       "\n",
       "      category  \n",
       "0            5  \n",
       "1            2  \n",
       "2            5  \n",
       "3            5  \n",
       "4            3  \n",
       "...        ...  \n",
       "1147         3  \n",
       "1148         5  \n",
       "1149         3  \n",
       "1150         3  \n",
       "1151         5  \n",
       "\n",
       "[1152 rows x 4 columns]"
      ]
     },
     "execution_count": 3,
     "metadata": {},
     "output_type": "execute_result"
    }
   ],
   "source": [
    "train"
   ]
  },
  {
   "cell_type": "code",
   "execution_count": 4,
   "id": "26bfc9a5",
   "metadata": {
    "_cell_guid": "95b8a036-9650-4cf6-8b7f-c944599d787d",
    "_uuid": "ec0543a3-e043-411e-942e-e116bfd5bb30",
    "collapsed": false,
    "execution": {
     "iopub.execute_input": "2025-08-19T13:20:46.587067Z",
     "iopub.status.busy": "2025-08-19T13:20:46.586665Z",
     "iopub.status.idle": "2025-08-19T13:20:46.603372Z",
     "shell.execute_reply": "2025-08-19T13:20:46.601678Z"
    },
    "jupyter": {
     "outputs_hidden": false
    },
    "papermill": {
     "duration": 0.027602,
     "end_time": "2025-08-19T13:20:46.606253",
     "exception": false,
     "start_time": "2025-08-19T13:20:46.578651",
     "status": "completed"
    },
    "tags": []
   },
   "outputs": [
    {
     "data": {
      "text/plain": [
       "array([2, 1])"
      ]
     },
     "execution_count": 4,
     "metadata": {},
     "output_type": "execute_result"
    }
   ],
   "source": [
    "train['dialect'].unique()"
   ]
  },
  {
   "cell_type": "code",
   "execution_count": 5,
   "id": "f4263a8f",
   "metadata": {
    "_cell_guid": "6cdfe4ea-117f-4c94-88c0-4fdbdd1c9960",
    "_uuid": "9fb9d7ba-0768-4967-85dd-ab27aedd2969",
    "collapsed": false,
    "execution": {
     "iopub.execute_input": "2025-08-19T13:20:46.621028Z",
     "iopub.status.busy": "2025-08-19T13:20:46.620258Z",
     "iopub.status.idle": "2025-08-19T13:20:50.818609Z",
     "shell.execute_reply": "2025-08-19T13:20:50.817101Z"
    },
    "jupyter": {
     "outputs_hidden": false
    },
    "papermill": {
     "duration": 4.207625,
     "end_time": "2025-08-19T13:20:50.820874",
     "exception": false,
     "start_time": "2025-08-19T13:20:46.613249",
     "status": "completed"
    },
    "tags": []
   },
   "outputs": [
    {
     "name": "stderr",
     "output_type": "stream",
     "text": [
      "[nltk_data] Downloading package stopwords to /usr/share/nltk_data...\n",
      "[nltk_data]   Package stopwords is already up-to-date!\n"
     ]
    },
    {
     "data": {
      "text/plain": [
       "True"
      ]
     },
     "execution_count": 5,
     "metadata": {},
     "output_type": "execute_result"
    }
   ],
   "source": [
    "import re\n",
    "import nltk\n",
    "from nltk.corpus import stopwords\n",
    "nltk.download('stopwords')"
   ]
  },
  {
   "cell_type": "code",
   "execution_count": null,
   "id": "7a078c18",
   "metadata": {
    "_cell_guid": "b7f8f81c-430a-4706-92a0-cb392544335d",
    "_uuid": "9bfaf545-d3e8-4c9e-9ae8-70c48875be8b",
    "collapsed": false,
    "jupyter": {
     "outputs_hidden": false
    },
    "papermill": {
     "duration": 0.005633,
     "end_time": "2025-08-19T13:20:50.832622",
     "exception": false,
     "start_time": "2025-08-19T13:20:50.826989",
     "status": "completed"
    },
    "tags": []
   },
   "outputs": [],
   "source": []
  },
  {
   "cell_type": "code",
   "execution_count": 6,
   "id": "9eaa4421",
   "metadata": {
    "_cell_guid": "b022de2f-e040-4a15-81a9-078cf76ffc59",
    "_uuid": "9723115e-6bdb-48c9-bf34-e1e2fe029506",
    "collapsed": false,
    "execution": {
     "iopub.execute_input": "2025-08-19T13:20:50.847093Z",
     "iopub.status.busy": "2025-08-19T13:20:50.846459Z",
     "iopub.status.idle": "2025-08-19T13:20:50.855073Z",
     "shell.execute_reply": "2025-08-19T13:20:50.853706Z"
    },
    "jupyter": {
     "outputs_hidden": false
    },
    "papermill": {
     "duration": 0.017712,
     "end_time": "2025-08-19T13:20:50.857128",
     "exception": false,
     "start_time": "2025-08-19T13:20:50.839416",
     "status": "completed"
    },
    "tags": []
   },
   "outputs": [],
   "source": [
    "def dialect(value):\n",
    "    if value == 1:\n",
    "        return 1\n",
    "    else:\n",
    "        return 0\n",
    "def cleantext(text):\n",
    "    text = re.sub(r'[^a-z0-9\\s]', '', text)\n",
    "    text = text.replace('$NE$', '')    \n",
    "    text = text.lower()\n",
    "\n",
    "    return text\n",
    "\n",
    "def prep(df, mode = 'train'):\n",
    "    df = df.copy()\n",
    "    df.bfill(inplace = True)\n",
    "    df['sample'] = df['sample'].apply(cleantext)\n",
    "    if mode == 'train':\n",
    "        df['dialect'] = df['dialect'].apply(dialect)\n",
    "\n",
    "    return df"
   ]
  },
  {
   "cell_type": "code",
   "execution_count": 7,
   "id": "846a6fa2",
   "metadata": {
    "_cell_guid": "b717c1bb-d671-4207-b192-64e2cfed9550",
    "_uuid": "4614006f-c3a2-4fdf-80c3-8eaecaf12eb7",
    "collapsed": false,
    "execution": {
     "iopub.execute_input": "2025-08-19T13:20:50.873096Z",
     "iopub.status.busy": "2025-08-19T13:20:50.872625Z",
     "iopub.status.idle": "2025-08-19T13:20:51.033623Z",
     "shell.execute_reply": "2025-08-19T13:20:51.031968Z"
    },
    "jupyter": {
     "outputs_hidden": false
    },
    "papermill": {
     "duration": 0.171347,
     "end_time": "2025-08-19T13:20:51.035812",
     "exception": false,
     "start_time": "2025-08-19T13:20:50.864465",
     "status": "completed"
    },
    "tags": []
   },
   "outputs": [],
   "source": [
    "train = prep(train)"
   ]
  },
  {
   "cell_type": "code",
   "execution_count": 8,
   "id": "252cfc54",
   "metadata": {
    "_cell_guid": "7b6d1d2b-666c-4591-8b91-be6af994da85",
    "_uuid": "a8031c9a-dade-4b4d-93b4-66feff85d110",
    "collapsed": false,
    "execution": {
     "iopub.execute_input": "2025-08-19T13:20:51.049167Z",
     "iopub.status.busy": "2025-08-19T13:20:51.048780Z",
     "iopub.status.idle": "2025-08-19T13:20:51.412171Z",
     "shell.execute_reply": "2025-08-19T13:20:51.410449Z"
    },
    "jupyter": {
     "outputs_hidden": false
    },
    "papermill": {
     "duration": 0.373016,
     "end_time": "2025-08-19T13:20:51.414843",
     "exception": false,
     "start_time": "2025-08-19T13:20:51.041827",
     "status": "completed"
    },
    "tags": []
   },
   "outputs": [],
   "source": [
    "from sklearn.feature_extraction.text import TfidfVectorizer\n",
    "vectorizer = TfidfVectorizer()\n",
    "vectorized = vectorizer.fit_transform(train['sample'])"
   ]
  },
  {
   "cell_type": "code",
   "execution_count": 9,
   "id": "0bae03b2",
   "metadata": {
    "_cell_guid": "5efcca26-b928-4960-b716-f827c240b5a9",
    "_uuid": "cf23ba50-bb6b-43c8-9972-e0c67808c0ef",
    "collapsed": false,
    "execution": {
     "iopub.execute_input": "2025-08-19T13:20:51.428688Z",
     "iopub.status.busy": "2025-08-19T13:20:51.428277Z",
     "iopub.status.idle": "2025-08-19T13:21:00.772651Z",
     "shell.execute_reply": "2025-08-19T13:21:00.771328Z"
    },
    "jupyter": {
     "outputs_hidden": false
    },
    "papermill": {
     "duration": 9.353666,
     "end_time": "2025-08-19T13:21:00.774811",
     "exception": false,
     "start_time": "2025-08-19T13:20:51.421145",
     "status": "completed"
    },
    "tags": []
   },
   "outputs": [],
   "source": [
    "import xgboost as xgb\n",
    "import lightgbm as lgb\n",
    "\n",
    "xgb = xgb.XGBClassifier()\n",
    "\n",
    "lgbm = lgb.LGBMClassifier(\n",
    "    num_leaves=31,\n",
    "    learning_rate=0.05,\n",
    "    n_estimators=500,\n",
    "    random_state=42\n",
    ")"
   ]
  },
  {
   "cell_type": "code",
   "execution_count": 10,
   "id": "f45827d5",
   "metadata": {
    "_cell_guid": "6cd289c2-0296-4dae-bbf7-9f6483f6e83b",
    "_uuid": "59fb9c25-a5eb-4ac7-b7f3-ff1f203f32ef",
    "collapsed": false,
    "execution": {
     "iopub.execute_input": "2025-08-19T13:21:00.788648Z",
     "iopub.status.busy": "2025-08-19T13:21:00.787833Z",
     "iopub.status.idle": "2025-08-19T13:21:11.721095Z",
     "shell.execute_reply": "2025-08-19T13:21:11.719922Z"
    },
    "jupyter": {
     "outputs_hidden": false
    },
    "papermill": {
     "duration": 10.942661,
     "end_time": "2025-08-19T13:21:11.723408",
     "exception": false,
     "start_time": "2025-08-19T13:21:00.780747",
     "status": "completed"
    },
    "tags": []
   },
   "outputs": [
    {
     "name": "stdout",
     "output_type": "stream",
     "text": [
      "[LightGBM] [Info] Number of positive: 521, number of negative: 631\n",
      "[LightGBM] [Info] Auto-choosing col-wise multi-threading, the overhead of testing was 0.015316 seconds.\n",
      "You can set `force_col_wise=true` to remove the overhead.\n",
      "[LightGBM] [Info] Total Bins 29987\n",
      "[LightGBM] [Info] Number of data points in the train set: 1152, number of used features: 1184\n",
      "[LightGBM] [Info] [binary:BoostFromScore]: pavg=0.452257 -> initscore=-0.191556\n",
      "[LightGBM] [Info] Start training from score -0.191556\n"
     ]
    },
    {
     "data": {
      "text/html": [
       "<style>#sk-container-id-1 {color: black;background-color: white;}#sk-container-id-1 pre{padding: 0;}#sk-container-id-1 div.sk-toggleable {background-color: white;}#sk-container-id-1 label.sk-toggleable__label {cursor: pointer;display: block;width: 100%;margin-bottom: 0;padding: 0.3em;box-sizing: border-box;text-align: center;}#sk-container-id-1 label.sk-toggleable__label-arrow:before {content: \"▸\";float: left;margin-right: 0.25em;color: #696969;}#sk-container-id-1 label.sk-toggleable__label-arrow:hover:before {color: black;}#sk-container-id-1 div.sk-estimator:hover label.sk-toggleable__label-arrow:before {color: black;}#sk-container-id-1 div.sk-toggleable__content {max-height: 0;max-width: 0;overflow: hidden;text-align: left;background-color: #f0f8ff;}#sk-container-id-1 div.sk-toggleable__content pre {margin: 0.2em;color: black;border-radius: 0.25em;background-color: #f0f8ff;}#sk-container-id-1 input.sk-toggleable__control:checked~div.sk-toggleable__content {max-height: 200px;max-width: 100%;overflow: auto;}#sk-container-id-1 input.sk-toggleable__control:checked~label.sk-toggleable__label-arrow:before {content: \"▾\";}#sk-container-id-1 div.sk-estimator input.sk-toggleable__control:checked~label.sk-toggleable__label {background-color: #d4ebff;}#sk-container-id-1 div.sk-label input.sk-toggleable__control:checked~label.sk-toggleable__label {background-color: #d4ebff;}#sk-container-id-1 input.sk-hidden--visually {border: 0;clip: rect(1px 1px 1px 1px);clip: rect(1px, 1px, 1px, 1px);height: 1px;margin: -1px;overflow: hidden;padding: 0;position: absolute;width: 1px;}#sk-container-id-1 div.sk-estimator {font-family: monospace;background-color: #f0f8ff;border: 1px dotted black;border-radius: 0.25em;box-sizing: border-box;margin-bottom: 0.5em;}#sk-container-id-1 div.sk-estimator:hover {background-color: #d4ebff;}#sk-container-id-1 div.sk-parallel-item::after {content: \"\";width: 100%;border-bottom: 1px solid gray;flex-grow: 1;}#sk-container-id-1 div.sk-label:hover label.sk-toggleable__label {background-color: #d4ebff;}#sk-container-id-1 div.sk-serial::before {content: \"\";position: absolute;border-left: 1px solid gray;box-sizing: border-box;top: 0;bottom: 0;left: 50%;z-index: 0;}#sk-container-id-1 div.sk-serial {display: flex;flex-direction: column;align-items: center;background-color: white;padding-right: 0.2em;padding-left: 0.2em;position: relative;}#sk-container-id-1 div.sk-item {position: relative;z-index: 1;}#sk-container-id-1 div.sk-parallel {display: flex;align-items: stretch;justify-content: center;background-color: white;position: relative;}#sk-container-id-1 div.sk-item::before, #sk-container-id-1 div.sk-parallel-item::before {content: \"\";position: absolute;border-left: 1px solid gray;box-sizing: border-box;top: 0;bottom: 0;left: 50%;z-index: -1;}#sk-container-id-1 div.sk-parallel-item {display: flex;flex-direction: column;z-index: 1;position: relative;background-color: white;}#sk-container-id-1 div.sk-parallel-item:first-child::after {align-self: flex-end;width: 50%;}#sk-container-id-1 div.sk-parallel-item:last-child::after {align-self: flex-start;width: 50%;}#sk-container-id-1 div.sk-parallel-item:only-child::after {width: 0;}#sk-container-id-1 div.sk-dashed-wrapped {border: 1px dashed gray;margin: 0 0.4em 0.5em 0.4em;box-sizing: border-box;padding-bottom: 0.4em;background-color: white;}#sk-container-id-1 div.sk-label label {font-family: monospace;font-weight: bold;display: inline-block;line-height: 1.2em;}#sk-container-id-1 div.sk-label-container {text-align: center;}#sk-container-id-1 div.sk-container {/* jupyter's `normalize.less` sets `[hidden] { display: none; }` but bootstrap.min.css set `[hidden] { display: none !important; }` so we also need the `!important` here to be able to override the default hidden behavior on the sphinx rendered scikit-learn.org. See: https://github.com/scikit-learn/scikit-learn/issues/21755 */display: inline-block !important;position: relative;}#sk-container-id-1 div.sk-text-repr-fallback {display: none;}</style><div id=\"sk-container-id-1\" class=\"sk-top-container\"><div class=\"sk-text-repr-fallback\"><pre>LGBMClassifier(learning_rate=0.05, n_estimators=500, random_state=42)</pre><b>In a Jupyter environment, please rerun this cell to show the HTML representation or trust the notebook. <br />On GitHub, the HTML representation is unable to render, please try loading this page with nbviewer.org.</b></div><div class=\"sk-container\" hidden><div class=\"sk-item\"><div class=\"sk-estimator sk-toggleable\"><input class=\"sk-toggleable__control sk-hidden--visually\" id=\"sk-estimator-id-1\" type=\"checkbox\" checked><label for=\"sk-estimator-id-1\" class=\"sk-toggleable__label sk-toggleable__label-arrow\">LGBMClassifier</label><div class=\"sk-toggleable__content\"><pre>LGBMClassifier(learning_rate=0.05, n_estimators=500, random_state=42)</pre></div></div></div></div></div>"
      ],
      "text/plain": [
       "LGBMClassifier(learning_rate=0.05, n_estimators=500, random_state=42)"
      ]
     },
     "execution_count": 10,
     "metadata": {},
     "output_type": "execute_result"
    }
   ],
   "source": [
    "x_train = vectorized\n",
    "y_train = train['dialect']\n",
    "\n",
    "xgb.fit(x_train,y_train)\n",
    "lgbm.fit(x_train,y_train)"
   ]
  },
  {
   "cell_type": "code",
   "execution_count": 11,
   "id": "40394e3d",
   "metadata": {
    "_cell_guid": "23e143a4-6b73-4555-85ec-d0626283ffa4",
    "_uuid": "476ef467-0473-4105-b420-0762fa885924",
    "collapsed": false,
    "execution": {
     "iopub.execute_input": "2025-08-19T13:21:11.739845Z",
     "iopub.status.busy": "2025-08-19T13:21:11.739492Z",
     "iopub.status.idle": "2025-08-19T13:21:11.947142Z",
     "shell.execute_reply": "2025-08-19T13:21:11.945223Z"
    },
    "jupyter": {
     "outputs_hidden": false
    },
    "papermill": {
     "duration": 0.218948,
     "end_time": "2025-08-19T13:21:11.949821",
     "exception": false,
     "start_time": "2025-08-19T13:21:11.730873",
     "status": "completed"
    },
    "tags": []
   },
   "outputs": [],
   "source": [
    "test = prep(test, 'test')\n",
    "x_test = vectorizer.transform(test['sample'])"
   ]
  },
  {
   "cell_type": "code",
   "execution_count": 12,
   "id": "3a1611be",
   "metadata": {
    "_cell_guid": "36a2f1a6-a950-4aac-a38c-9819dc6b1dd3",
    "_uuid": "f982b0d6-5b23-4c18-973e-92b7a4118682",
    "collapsed": false,
    "execution": {
     "iopub.execute_input": "2025-08-19T13:21:11.964370Z",
     "iopub.status.busy": "2025-08-19T13:21:11.963986Z",
     "iopub.status.idle": "2025-08-19T13:21:12.019925Z",
     "shell.execute_reply": "2025-08-19T13:21:12.018561Z"
    },
    "jupyter": {
     "outputs_hidden": false
    },
    "papermill": {
     "duration": 0.066691,
     "end_time": "2025-08-19T13:21:12.022617",
     "exception": false,
     "start_time": "2025-08-19T13:21:11.955926",
     "status": "completed"
    },
    "tags": []
   },
   "outputs": [],
   "source": [
    "preds = xgb.predict(x_test)\n",
    "preds2 = lgbm.predict(x_test)\n",
    "\n",
    "\n",
    "for i in range(0, len(preds2)):\n",
    "    if preds2[i]==1 or preds2[i] == True:\n",
    "        preds2[i] = 1\n",
    "    else:\n",
    "        preds2[i] = 2"
   ]
  },
  {
   "cell_type": "raw",
   "id": "c9edfd66",
   "metadata": {
    "_cell_guid": "355d3597-824b-4151-8046-eccba57776ba",
    "_uuid": "f8531c98-f45a-4dca-9f77-ad20dcc38a5b",
    "collapsed": false,
    "jupyter": {
     "outputs_hidden": false
    },
    "papermill": {
     "duration": 0.005541,
     "end_time": "2025-08-19T13:21:12.034514",
     "exception": false,
     "start_time": "2025-08-19T13:21:12.028973",
     "status": "completed"
    },
    "tags": []
   },
   "source": [
    "preds2"
   ]
  },
  {
   "cell_type": "raw",
   "id": "49efc0dd",
   "metadata": {
    "_cell_guid": "477e35df-479f-4d38-9579-7e83ff58ebf8",
    "_uuid": "88c0b40d-4eaa-4ff4-9d90-aacf07569242",
    "collapsed": false,
    "jupyter": {
     "outputs_hidden": false
    },
    "papermill": {
     "duration": 0.007399,
     "end_time": "2025-08-19T13:21:12.048592",
     "exception": false,
     "start_time": "2025-08-19T13:21:12.041193",
     "status": "completed"
    },
    "tags": []
   },
   "source": []
  },
  {
   "cell_type": "code",
   "execution_count": 13,
   "id": "af8f372e",
   "metadata": {
    "_cell_guid": "d73486f5-088a-4d1e-9ce9-bc249dc42d43",
    "_uuid": "f3ce6645-8e3f-419f-8726-80bc2fe86f13",
    "collapsed": false,
    "execution": {
     "iopub.execute_input": "2025-08-19T13:21:12.063441Z",
     "iopub.status.busy": "2025-08-19T13:21:12.063024Z",
     "iopub.status.idle": "2025-08-19T13:21:12.069581Z",
     "shell.execute_reply": "2025-08-19T13:21:12.068425Z"
    },
    "jupyter": {
     "outputs_hidden": false
    },
    "papermill": {
     "duration": 0.017117,
     "end_time": "2025-08-19T13:21:12.071854",
     "exception": false,
     "start_time": "2025-08-19T13:21:12.054737",
     "status": "completed"
    },
    "tags": []
   },
   "outputs": [],
   "source": [
    "for i in range(0, len(preds)):\n",
    "    if preds[i]==1 or preds[i] == True:\n",
    "        preds[i] = 1\n",
    "    else:\n",
    "        preds[i] = 2"
   ]
  },
  {
   "cell_type": "code",
   "execution_count": 14,
   "id": "8aae2e8a",
   "metadata": {
    "_cell_guid": "b57201c1-b2e8-4907-bb66-88fafd62b187",
    "_uuid": "9874b90b-97e2-48dd-82d9-7d34cf293849",
    "collapsed": false,
    "execution": {
     "iopub.execute_input": "2025-08-19T13:21:12.088243Z",
     "iopub.status.busy": "2025-08-19T13:21:12.087301Z",
     "iopub.status.idle": "2025-08-19T13:21:12.105104Z",
     "shell.execute_reply": "2025-08-19T13:21:12.103319Z"
    },
    "jupyter": {
     "outputs_hidden": false
    },
    "papermill": {
     "duration": 0.029329,
     "end_time": "2025-08-19T13:21:12.107755",
     "exception": false,
     "start_time": "2025-08-19T13:21:12.078426",
     "status": "completed"
    },
    "tags": []
   },
   "outputs": [
    {
     "data": {
      "text/plain": [
       "array([2, 1, 2, 1, 1, 1, 1, 2, 1, 1, 1, 1, 1, 1, 1, 1, 2, 1, 1, 2, 1, 2,\n",
       "       1, 2, 1, 1, 1, 1, 1, 2, 1, 2, 2, 2, 2, 1, 2, 1, 2, 2, 1, 1, 2, 2,\n",
       "       1, 2, 1, 2, 2, 2, 2, 2, 2, 1, 1, 2, 2, 2, 1, 2, 2, 2, 2, 2, 2, 1,\n",
       "       1, 2, 2, 1, 1, 1, 2, 1, 2, 1, 2, 2, 1, 2, 2, 2, 2, 2, 2, 2, 1, 2,\n",
       "       2, 2, 2, 1, 1, 1, 2, 2, 1, 1, 1, 1, 1, 2, 2, 2, 2, 1, 1, 1, 2, 2,\n",
       "       1, 2, 2, 1, 2, 2, 1, 1, 1, 1, 1, 1, 1, 1, 1, 2, 2, 2, 1, 2, 1, 2,\n",
       "       1, 2, 1, 2, 2, 2, 1, 1, 1, 2, 1, 2, 1, 1, 1, 2, 2, 1, 1, 2, 1, 1,\n",
       "       2, 2, 2, 2, 2, 1, 1, 2, 2, 2, 2, 2, 2, 2, 2, 2, 2, 2, 2, 1, 2, 1,\n",
       "       2, 1, 1, 1, 2, 2, 2, 2, 2, 2, 2, 1, 2, 2, 2, 1, 2, 1, 1, 1, 1, 1,\n",
       "       1, 1, 1, 2, 1, 1, 2, 2, 1, 2, 1, 2, 1, 1, 1, 1, 2, 2, 2, 2, 2, 1,\n",
       "       1, 2, 1, 1, 2, 2, 1, 2, 2, 2, 1, 1, 2, 2, 1, 1, 2, 2, 1, 1, 2, 1,\n",
       "       2, 1, 2, 2, 2, 2, 2, 2, 1, 1, 1, 2, 1, 2, 2, 2, 2, 1, 2, 2, 2, 2,\n",
       "       2, 2, 2, 1, 2, 2, 1, 2, 1, 1, 2, 1, 2, 2, 1, 2, 2, 2, 1, 2, 2, 2,\n",
       "       1, 2, 2, 2, 1, 2, 1, 1, 1, 1, 1, 1, 2, 2, 1, 2, 2, 2, 1, 2, 2, 1,\n",
       "       2, 2, 2, 2, 1, 1, 2, 1, 2, 2, 1, 1, 2, 1, 2, 2, 2, 2, 2, 2, 2, 1,\n",
       "       1, 2, 1, 2, 2, 1, 2, 2, 1, 2, 2, 2, 1, 2, 1, 2, 1, 1, 1, 2, 2, 2,\n",
       "       1, 2, 1, 2, 2, 2, 2, 2, 2, 2, 2, 2, 1, 1, 2, 1, 2, 1, 1, 2, 1, 1,\n",
       "       1, 1, 1, 2, 2, 1, 1, 2, 2, 2, 1, 1, 1, 2, 2, 2, 1, 1, 2, 1, 2, 1,\n",
       "       2, 1, 2, 2, 2, 2, 2, 1, 2, 1, 2, 2, 1, 2, 2, 2, 1, 1, 2, 1, 1, 1,\n",
       "       1, 1, 1, 1, 2, 2, 1, 2, 1, 1, 2, 2, 2, 1, 2, 1, 2, 2, 2, 2, 2, 1,\n",
       "       1, 2, 1, 1, 2, 2, 1, 2, 2, 2, 1, 1, 2, 2, 1, 2, 2, 2, 2, 2, 2, 1,\n",
       "       2, 2, 2, 2, 1, 1, 2, 2, 2, 2, 2, 1, 1, 2, 2, 2, 1, 2, 1, 1, 2, 2,\n",
       "       1, 2, 1, 1, 1, 2, 2, 2, 2, 2, 1, 2, 1, 1, 2, 1, 1, 2, 2, 2, 1, 2,\n",
       "       2, 2, 1, 1, 2, 2, 2, 2, 1, 1, 1, 2, 2, 1, 1, 2, 1, 2, 2, 2, 2, 2,\n",
       "       1, 1, 2, 2, 2, 1, 2, 1, 1, 2, 1, 2, 2, 1, 2, 1, 2, 1, 2, 2, 2, 1,\n",
       "       2, 1, 2, 1, 1, 2, 2, 1, 2, 2, 2, 1, 2, 2, 2, 2, 2, 1])"
      ]
     },
     "execution_count": 14,
     "metadata": {},
     "output_type": "execute_result"
    }
   ],
   "source": [
    "preds"
   ]
  },
  {
   "cell_type": "raw",
   "id": "5b24cdc6",
   "metadata": {
    "_cell_guid": "a62252ee-85cd-40bc-bc9f-c78eb3bfe601",
    "_uuid": "31771e6c-875e-483f-a92b-23ca74bc18fe",
    "collapsed": false,
    "jupyter": {
     "outputs_hidden": false
    },
    "papermill": {
     "duration": 0.007645,
     "end_time": "2025-08-19T13:21:12.123741",
     "exception": false,
     "start_time": "2025-08-19T13:21:12.116096",
     "status": "completed"
    },
    "tags": []
   },
   "source": [
    "preds"
   ]
  },
  {
   "cell_type": "code",
   "execution_count": 15,
   "id": "6e203f5d",
   "metadata": {
    "_cell_guid": "1382f13c-d397-4c7a-804b-15d350e0adb4",
    "_uuid": "2de71d11-90e3-4b62-bfe0-85a39be207ef",
    "collapsed": false,
    "execution": {
     "iopub.execute_input": "2025-08-19T13:21:12.138024Z",
     "iopub.status.busy": "2025-08-19T13:21:12.137680Z",
     "iopub.status.idle": "2025-08-19T13:21:12.147979Z",
     "shell.execute_reply": "2025-08-19T13:21:12.146399Z"
    },
    "jupyter": {
     "outputs_hidden": false
    },
    "papermill": {
     "duration": 0.020184,
     "end_time": "2025-08-19T13:21:12.150103",
     "exception": false,
     "start_time": "2025-08-19T13:21:12.129919",
     "status": "completed"
    },
    "tags": []
   },
   "outputs": [],
   "source": [
    "submission = pd.DataFrame({\n",
    "    'subtaskID' : (['1'] * len(test)) + (['2'] * len(test)),\n",
    "    'datapointID' : test['datapointID'].tolist() + test['datapointID'].tolist(),\n",
    "    'answer' : preds2.tolist() + preds2.tolist()\n",
    "})"
   ]
  },
  {
   "cell_type": "code",
   "execution_count": 16,
   "id": "7c9c1257",
   "metadata": {
    "_cell_guid": "97fb9dba-bb62-4ab8-a693-db2bade1737f",
    "_uuid": "236eaaaa-b3e0-4356-a3ea-3dd8c453a7d3",
    "collapsed": false,
    "execution": {
     "iopub.execute_input": "2025-08-19T13:21:12.164736Z",
     "iopub.status.busy": "2025-08-19T13:21:12.164374Z",
     "iopub.status.idle": "2025-08-19T13:21:12.180642Z",
     "shell.execute_reply": "2025-08-19T13:21:12.178745Z"
    },
    "jupyter": {
     "outputs_hidden": false
    },
    "papermill": {
     "duration": 0.026778,
     "end_time": "2025-08-19T13:21:12.183318",
     "exception": false,
     "start_time": "2025-08-19T13:21:12.156540",
     "status": "completed"
    },
    "tags": []
   },
   "outputs": [],
   "source": [
    "submission.to_csv('submission.csv', index = False)"
   ]
  },
  {
   "cell_type": "code",
   "execution_count": 17,
   "id": "714add2a",
   "metadata": {
    "_cell_guid": "33de3de4-214e-48d4-a0c0-6bb0be37bea8",
    "_uuid": "0fb07165-fdb1-425e-8431-9d1a4f640185",
    "collapsed": false,
    "execution": {
     "iopub.execute_input": "2025-08-19T13:21:12.198072Z",
     "iopub.status.busy": "2025-08-19T13:21:12.197697Z",
     "iopub.status.idle": "2025-08-19T13:21:12.204394Z",
     "shell.execute_reply": "2025-08-19T13:21:12.202480Z"
    },
    "jupyter": {
     "outputs_hidden": false
    },
    "papermill": {
     "duration": 0.017561,
     "end_time": "2025-08-19T13:21:12.207186",
     "exception": false,
     "start_time": "2025-08-19T13:21:12.189625",
     "status": "completed"
    },
    "tags": []
   },
   "outputs": [],
   "source": [
    "#t:nitro nlp\n",
    "\n",
    "#problema propusa de ales set de date"
   ]
  }
 ],
 "metadata": {
  "kaggle": {
   "accelerator": "none",
   "dataSources": [
    {
     "datasetId": 8097341,
     "sourceId": 12806212,
     "sourceType": "datasetVersion"
    }
   ],
   "dockerImageVersionId": 31089,
   "isGpuEnabled": false,
   "isInternetEnabled": true,
   "language": "python",
   "sourceType": "notebook"
  },
  "kernelspec": {
   "display_name": "Python 3",
   "language": "python",
   "name": "python3"
  },
  "language_info": {
   "codemirror_mode": {
    "name": "ipython",
    "version": 3
   },
   "file_extension": ".py",
   "mimetype": "text/x-python",
   "name": "python",
   "nbconvert_exporter": "python",
   "pygments_lexer": "ipython3",
   "version": "3.11.13"
  },
  "papermill": {
   "default_parameters": {},
   "duration": 36.977931,
   "end_time": "2025-08-19T13:21:13.644238",
   "environment_variables": {},
   "exception": null,
   "input_path": "__notebook__.ipynb",
   "output_path": "__notebook__.ipynb",
   "parameters": {},
   "start_time": "2025-08-19T13:20:36.666307",
   "version": "2.6.0"
  }
 },
 "nbformat": 4,
 "nbformat_minor": 5
}
