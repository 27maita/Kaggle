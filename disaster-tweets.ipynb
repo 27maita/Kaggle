{
 "cells": [
  {
   "cell_type": "code",
   "execution_count": 1,
   "id": "b6bf913b",
   "metadata": {
    "_cell_guid": "b1076dfc-b9ad-4769-8c92-a6c4dae69d19",
    "_uuid": "8f2839f25d086af736a60e9eeb907d3b93b6e0e5",
    "execution": {
     "iopub.execute_input": "2025-07-18T05:05:49.765867Z",
     "iopub.status.busy": "2025-07-18T05:05:49.764974Z",
     "iopub.status.idle": "2025-07-18T05:05:51.684075Z",
     "shell.execute_reply": "2025-07-18T05:05:51.683093Z"
    },
    "papermill": {
     "duration": 1.926781,
     "end_time": "2025-07-18T05:05:51.685610",
     "exception": false,
     "start_time": "2025-07-18T05:05:49.758829",
     "status": "completed"
    },
    "tags": []
   },
   "outputs": [
    {
     "name": "stdout",
     "output_type": "stream",
     "text": [
      "/kaggle/input/nlp-getting-started/sample_submission.csv\n",
      "/kaggle/input/nlp-getting-started/train.csv\n",
      "/kaggle/input/nlp-getting-started/test.csv\n"
     ]
    }
   ],
   "source": [
    "# This Python 3 environment comes with many helpful analytics libraries installed\n",
    "# It is defined by the kaggle/python Docker image: https://github.com/kaggle/docker-python\n",
    "# For example, here's several helpful packages to load\n",
    "\n",
    "import numpy as np # linear algebra\n",
    "import pandas as pd # data processing, CSV file I/O (e.g. pd.read_csv)\n",
    "\n",
    "# Input data files are available in the read-only \"../input/\" directory\n",
    "# For example, running this (by clicking run or pressing Shift+Enter) will list all files under the input directory\n",
    "\n",
    "import os\n",
    "for dirname, _, filenames in os.walk('/kaggle/input'):\n",
    "    for filename in filenames:\n",
    "        print(os.path.join(dirname, filename))\n",
    "\n",
    "# You can write up to 20GB to the current directory (/kaggle/working/) that gets preserved as output when you create a version using \"Save & Run All\" \n",
    "# You can also write temporary files to /kaggle/temp/, but they won't be saved outside of the current session"
   ]
  },
  {
   "cell_type": "code",
   "execution_count": 2,
   "id": "d5d29808",
   "metadata": {
    "execution": {
     "iopub.execute_input": "2025-07-18T05:05:51.695619Z",
     "iopub.status.busy": "2025-07-18T05:05:51.695167Z",
     "iopub.status.idle": "2025-07-18T05:05:54.039727Z",
     "shell.execute_reply": "2025-07-18T05:05:54.038741Z"
    },
    "papermill": {
     "duration": 2.35141,
     "end_time": "2025-07-18T05:05:54.041548",
     "exception": false,
     "start_time": "2025-07-18T05:05:51.690138",
     "status": "completed"
    },
    "tags": []
   },
   "outputs": [],
   "source": [
    "import pandas as pd\n",
    "from sklearn.impute import SimpleImputer\n",
    "import re\n",
    "import string\n",
    "import nltk\n",
    "from nltk.corpus import stopwords"
   ]
  },
  {
   "cell_type": "code",
   "execution_count": 3,
   "id": "94d5f53a",
   "metadata": {
    "execution": {
     "iopub.execute_input": "2025-07-18T05:05:54.051402Z",
     "iopub.status.busy": "2025-07-18T05:05:54.050949Z",
     "iopub.status.idle": "2025-07-18T05:05:54.151744Z",
     "shell.execute_reply": "2025-07-18T05:05:54.150542Z"
    },
    "papermill": {
     "duration": 0.109134,
     "end_time": "2025-07-18T05:05:54.155220",
     "exception": false,
     "start_time": "2025-07-18T05:05:54.046086",
     "status": "completed"
    },
    "tags": []
   },
   "outputs": [
    {
     "name": "stderr",
     "output_type": "stream",
     "text": [
      "[nltk_data] Downloading package stopwords to /usr/share/nltk_data...\n",
      "[nltk_data]   Package stopwords is already up-to-date!\n"
     ]
    },
    {
     "data": {
      "text/plain": [
       "True"
      ]
     },
     "execution_count": 3,
     "metadata": {},
     "output_type": "execute_result"
    }
   ],
   "source": [
    "nltk.download('stopwords')"
   ]
  },
  {
   "cell_type": "code",
   "execution_count": 4,
   "id": "706e5be4",
   "metadata": {
    "execution": {
     "iopub.execute_input": "2025-07-18T05:05:54.166625Z",
     "iopub.status.busy": "2025-07-18T05:05:54.165769Z",
     "iopub.status.idle": "2025-07-18T05:05:54.252805Z",
     "shell.execute_reply": "2025-07-18T05:05:54.251925Z"
    },
    "papermill": {
     "duration": 0.094508,
     "end_time": "2025-07-18T05:05:54.254428",
     "exception": false,
     "start_time": "2025-07-18T05:05:54.159920",
     "status": "completed"
    },
    "tags": []
   },
   "outputs": [],
   "source": [
    "df_train = pd.read_csv('/kaggle/input/nlp-getting-started/train.csv')\n",
    "df_test = pd.read_csv('/kaggle/input/nlp-getting-started/test.csv')"
   ]
  },
  {
   "cell_type": "code",
   "execution_count": 5,
   "id": "51e48398",
   "metadata": {
    "execution": {
     "iopub.execute_input": "2025-07-18T05:05:54.264550Z",
     "iopub.status.busy": "2025-07-18T05:05:54.263723Z",
     "iopub.status.idle": "2025-07-18T05:05:54.269257Z",
     "shell.execute_reply": "2025-07-18T05:05:54.268528Z"
    },
    "papermill": {
     "duration": 0.011704,
     "end_time": "2025-07-18T05:05:54.270513",
     "exception": false,
     "start_time": "2025-07-18T05:05:54.258809",
     "status": "completed"
    },
    "tags": []
   },
   "outputs": [
    {
     "data": {
      "text/plain": [
       "(7613, 5)"
      ]
     },
     "execution_count": 5,
     "metadata": {},
     "output_type": "execute_result"
    }
   ],
   "source": [
    "df_train.shape"
   ]
  },
  {
   "cell_type": "code",
   "execution_count": 6,
   "id": "a2ca8ad6",
   "metadata": {
    "execution": {
     "iopub.execute_input": "2025-07-18T05:05:54.279968Z",
     "iopub.status.busy": "2025-07-18T05:05:54.279639Z",
     "iopub.status.idle": "2025-07-18T05:05:54.304927Z",
     "shell.execute_reply": "2025-07-18T05:05:54.304019Z"
    },
    "papermill": {
     "duration": 0.031654,
     "end_time": "2025-07-18T05:05:54.306493",
     "exception": false,
     "start_time": "2025-07-18T05:05:54.274839",
     "status": "completed"
    },
    "tags": []
   },
   "outputs": [
    {
     "data": {
      "text/html": [
       "<div>\n",
       "<style scoped>\n",
       "    .dataframe tbody tr th:only-of-type {\n",
       "        vertical-align: middle;\n",
       "    }\n",
       "\n",
       "    .dataframe tbody tr th {\n",
       "        vertical-align: top;\n",
       "    }\n",
       "\n",
       "    .dataframe thead th {\n",
       "        text-align: right;\n",
       "    }\n",
       "</style>\n",
       "<table border=\"1\" class=\"dataframe\">\n",
       "  <thead>\n",
       "    <tr style=\"text-align: right;\">\n",
       "      <th></th>\n",
       "      <th>id</th>\n",
       "      <th>keyword</th>\n",
       "      <th>location</th>\n",
       "      <th>text</th>\n",
       "      <th>target</th>\n",
       "    </tr>\n",
       "  </thead>\n",
       "  <tbody>\n",
       "    <tr>\n",
       "      <th>0</th>\n",
       "      <td>1</td>\n",
       "      <td>NaN</td>\n",
       "      <td>NaN</td>\n",
       "      <td>Our Deeds are the Reason of this #earthquake M...</td>\n",
       "      <td>1</td>\n",
       "    </tr>\n",
       "    <tr>\n",
       "      <th>1</th>\n",
       "      <td>4</td>\n",
       "      <td>NaN</td>\n",
       "      <td>NaN</td>\n",
       "      <td>Forest fire near La Ronge Sask. Canada</td>\n",
       "      <td>1</td>\n",
       "    </tr>\n",
       "    <tr>\n",
       "      <th>2</th>\n",
       "      <td>5</td>\n",
       "      <td>NaN</td>\n",
       "      <td>NaN</td>\n",
       "      <td>All residents asked to 'shelter in place' are ...</td>\n",
       "      <td>1</td>\n",
       "    </tr>\n",
       "    <tr>\n",
       "      <th>3</th>\n",
       "      <td>6</td>\n",
       "      <td>NaN</td>\n",
       "      <td>NaN</td>\n",
       "      <td>13,000 people receive #wildfires evacuation or...</td>\n",
       "      <td>1</td>\n",
       "    </tr>\n",
       "    <tr>\n",
       "      <th>4</th>\n",
       "      <td>7</td>\n",
       "      <td>NaN</td>\n",
       "      <td>NaN</td>\n",
       "      <td>Just got sent this photo from Ruby #Alaska as ...</td>\n",
       "      <td>1</td>\n",
       "    </tr>\n",
       "  </tbody>\n",
       "</table>\n",
       "</div>"
      ],
      "text/plain": [
       "   id keyword location                                               text  \\\n",
       "0   1     NaN      NaN  Our Deeds are the Reason of this #earthquake M...   \n",
       "1   4     NaN      NaN             Forest fire near La Ronge Sask. Canada   \n",
       "2   5     NaN      NaN  All residents asked to 'shelter in place' are ...   \n",
       "3   6     NaN      NaN  13,000 people receive #wildfires evacuation or...   \n",
       "4   7     NaN      NaN  Just got sent this photo from Ruby #Alaska as ...   \n",
       "\n",
       "   target  \n",
       "0       1  \n",
       "1       1  \n",
       "2       1  \n",
       "3       1  \n",
       "4       1  "
      ]
     },
     "execution_count": 6,
     "metadata": {},
     "output_type": "execute_result"
    }
   ],
   "source": [
    "df_train.head()"
   ]
  },
  {
   "cell_type": "code",
   "execution_count": 7,
   "id": "9cd40749",
   "metadata": {
    "execution": {
     "iopub.execute_input": "2025-07-18T05:05:54.317551Z",
     "iopub.status.busy": "2025-07-18T05:05:54.316767Z",
     "iopub.status.idle": "2025-07-18T05:05:54.332803Z",
     "shell.execute_reply": "2025-07-18T05:05:54.332054Z"
    },
    "papermill": {
     "duration": 0.022708,
     "end_time": "2025-07-18T05:05:54.334129",
     "exception": false,
     "start_time": "2025-07-18T05:05:54.311421",
     "status": "completed"
    },
    "tags": []
   },
   "outputs": [],
   "source": [
    "imputer = SimpleImputer(strategy='most_frequent')\n",
    "df_train[['keyword']] = imputer.fit_transform(df_train[['keyword']])\n"
   ]
  },
  {
   "cell_type": "code",
   "execution_count": 8,
   "id": "c50ebbd2",
   "metadata": {
    "execution": {
     "iopub.execute_input": "2025-07-18T05:05:54.344412Z",
     "iopub.status.busy": "2025-07-18T05:05:54.344076Z",
     "iopub.status.idle": "2025-07-18T05:05:54.354547Z",
     "shell.execute_reply": "2025-07-18T05:05:54.353529Z"
    },
    "papermill": {
     "duration": 0.017339,
     "end_time": "2025-07-18T05:05:54.356000",
     "exception": false,
     "start_time": "2025-07-18T05:05:54.338661",
     "status": "completed"
    },
    "tags": []
   },
   "outputs": [
    {
     "data": {
      "text/html": [
       "<div>\n",
       "<style scoped>\n",
       "    .dataframe tbody tr th:only-of-type {\n",
       "        vertical-align: middle;\n",
       "    }\n",
       "\n",
       "    .dataframe tbody tr th {\n",
       "        vertical-align: top;\n",
       "    }\n",
       "\n",
       "    .dataframe thead th {\n",
       "        text-align: right;\n",
       "    }\n",
       "</style>\n",
       "<table border=\"1\" class=\"dataframe\">\n",
       "  <thead>\n",
       "    <tr style=\"text-align: right;\">\n",
       "      <th></th>\n",
       "      <th>id</th>\n",
       "      <th>keyword</th>\n",
       "      <th>location</th>\n",
       "      <th>text</th>\n",
       "      <th>target</th>\n",
       "    </tr>\n",
       "  </thead>\n",
       "  <tbody>\n",
       "    <tr>\n",
       "      <th>0</th>\n",
       "      <td>1</td>\n",
       "      <td>fatalities</td>\n",
       "      <td>NaN</td>\n",
       "      <td>Our Deeds are the Reason of this #earthquake M...</td>\n",
       "      <td>1</td>\n",
       "    </tr>\n",
       "    <tr>\n",
       "      <th>1</th>\n",
       "      <td>4</td>\n",
       "      <td>fatalities</td>\n",
       "      <td>NaN</td>\n",
       "      <td>Forest fire near La Ronge Sask. Canada</td>\n",
       "      <td>1</td>\n",
       "    </tr>\n",
       "    <tr>\n",
       "      <th>2</th>\n",
       "      <td>5</td>\n",
       "      <td>fatalities</td>\n",
       "      <td>NaN</td>\n",
       "      <td>All residents asked to 'shelter in place' are ...</td>\n",
       "      <td>1</td>\n",
       "    </tr>\n",
       "    <tr>\n",
       "      <th>3</th>\n",
       "      <td>6</td>\n",
       "      <td>fatalities</td>\n",
       "      <td>NaN</td>\n",
       "      <td>13,000 people receive #wildfires evacuation or...</td>\n",
       "      <td>1</td>\n",
       "    </tr>\n",
       "    <tr>\n",
       "      <th>4</th>\n",
       "      <td>7</td>\n",
       "      <td>fatalities</td>\n",
       "      <td>NaN</td>\n",
       "      <td>Just got sent this photo from Ruby #Alaska as ...</td>\n",
       "      <td>1</td>\n",
       "    </tr>\n",
       "  </tbody>\n",
       "</table>\n",
       "</div>"
      ],
      "text/plain": [
       "   id     keyword location                                               text  \\\n",
       "0   1  fatalities      NaN  Our Deeds are the Reason of this #earthquake M...   \n",
       "1   4  fatalities      NaN             Forest fire near La Ronge Sask. Canada   \n",
       "2   5  fatalities      NaN  All residents asked to 'shelter in place' are ...   \n",
       "3   6  fatalities      NaN  13,000 people receive #wildfires evacuation or...   \n",
       "4   7  fatalities      NaN  Just got sent this photo from Ruby #Alaska as ...   \n",
       "\n",
       "   target  \n",
       "0       1  \n",
       "1       1  \n",
       "2       1  \n",
       "3       1  \n",
       "4       1  "
      ]
     },
     "execution_count": 8,
     "metadata": {},
     "output_type": "execute_result"
    }
   ],
   "source": [
    "df_train.head()"
   ]
  },
  {
   "cell_type": "code",
   "execution_count": 9,
   "id": "dbb494ec",
   "metadata": {
    "execution": {
     "iopub.execute_input": "2025-07-18T05:05:54.367178Z",
     "iopub.status.busy": "2025-07-18T05:05:54.366854Z",
     "iopub.status.idle": "2025-07-18T05:05:54.373162Z",
     "shell.execute_reply": "2025-07-18T05:05:54.372515Z"
    },
    "papermill": {
     "duration": 0.012903,
     "end_time": "2025-07-18T05:05:54.374439",
     "exception": false,
     "start_time": "2025-07-18T05:05:54.361536",
     "status": "completed"
    },
    "tags": []
   },
   "outputs": [
    {
     "data": {
      "text/plain": [
       "3342"
      ]
     },
     "execution_count": 9,
     "metadata": {},
     "output_type": "execute_result"
    }
   ],
   "source": [
    "len(df_train['location'].unique())"
   ]
  },
  {
   "cell_type": "code",
   "execution_count": 10,
   "id": "744bec18",
   "metadata": {
    "execution": {
     "iopub.execute_input": "2025-07-18T05:05:54.384498Z",
     "iopub.status.busy": "2025-07-18T05:05:54.384230Z",
     "iopub.status.idle": "2025-07-18T05:05:54.394513Z",
     "shell.execute_reply": "2025-07-18T05:05:54.393646Z"
    },
    "papermill": {
     "duration": 0.017027,
     "end_time": "2025-07-18T05:05:54.396023",
     "exception": false,
     "start_time": "2025-07-18T05:05:54.378996",
     "status": "completed"
    },
    "tags": []
   },
   "outputs": [],
   "source": [
    "imputer2 = SimpleImputer(strategy = 'most_frequent')\n",
    "df_train['location'] = imputer2.fit_transform(df_train[['location']])[:, 0]"
   ]
  },
  {
   "cell_type": "code",
   "execution_count": 11,
   "id": "a604ef6c",
   "metadata": {
    "execution": {
     "iopub.execute_input": "2025-07-18T05:05:54.406147Z",
     "iopub.status.busy": "2025-07-18T05:05:54.405853Z",
     "iopub.status.idle": "2025-07-18T05:05:54.412429Z",
     "shell.execute_reply": "2025-07-18T05:05:54.411552Z"
    },
    "papermill": {
     "duration": 0.013303,
     "end_time": "2025-07-18T05:05:54.413892",
     "exception": false,
     "start_time": "2025-07-18T05:05:54.400589",
     "status": "completed"
    },
    "tags": []
   },
   "outputs": [],
   "source": [
    "def text_preprocess(text):\n",
    "    text = text.lower()\n",
    "    text = text.strip()\n",
    "    text = re.compile('<.*?>').sub('', text)\n",
    "    text = re.compile('[%s]' % re.escape(string.punctuation)).sub(' ', text)  \n",
    "    text = re.sub('\\s+', ' ', text)  \n",
    "    text = re.sub(r'\\[[0-9]*\\]',' ',text) \n",
    "    text=re.sub(r'[^\\w\\s]', '', str(text).lower().strip())\n",
    "    text = re.sub(r'\\d',' ',text) \n",
    "    text = re.sub(r'\\s+',' ',text) \n",
    "    return text\n",
    "\n",
    "def stopword(string):\n",
    "    a= [i for i in string.split() if i not in stopwords.words('english')]\n",
    "    return ' '.join(a)"
   ]
  },
  {
   "cell_type": "code",
   "execution_count": 12,
   "id": "f342f502",
   "metadata": {
    "execution": {
     "iopub.execute_input": "2025-07-18T05:05:54.424797Z",
     "iopub.status.busy": "2025-07-18T05:05:54.424465Z",
     "iopub.status.idle": "2025-07-18T05:05:54.429249Z",
     "shell.execute_reply": "2025-07-18T05:05:54.428499Z"
    },
    "papermill": {
     "duration": 0.012138,
     "end_time": "2025-07-18T05:05:54.430580",
     "exception": false,
     "start_time": "2025-07-18T05:05:54.418442",
     "status": "completed"
    },
    "tags": []
   },
   "outputs": [],
   "source": [
    "text = df_train['text'].to_list()\n",
    "labels = df_train['target'].to_list()"
   ]
  },
  {
   "cell_type": "code",
   "execution_count": 13,
   "id": "de9b99bb",
   "metadata": {
    "execution": {
     "iopub.execute_input": "2025-07-18T05:05:54.440825Z",
     "iopub.status.busy": "2025-07-18T05:05:54.440483Z",
     "iopub.status.idle": "2025-07-18T05:05:54.445885Z",
     "shell.execute_reply": "2025-07-18T05:05:54.445177Z"
    },
    "papermill": {
     "duration": 0.011854,
     "end_time": "2025-07-18T05:05:54.447108",
     "exception": false,
     "start_time": "2025-07-18T05:05:54.435254",
     "status": "completed"
    },
    "tags": []
   },
   "outputs": [
    {
     "data": {
      "text/plain": [
       "1.0"
      ]
     },
     "execution_count": 13,
     "metadata": {},
     "output_type": "execute_result"
    }
   ],
   "source": [
    "len(text)/len(labels) #same lengths "
   ]
  },
  {
   "cell_type": "code",
   "execution_count": 14,
   "id": "caffe918",
   "metadata": {
    "execution": {
     "iopub.execute_input": "2025-07-18T05:05:54.457580Z",
     "iopub.status.busy": "2025-07-18T05:05:54.457284Z",
     "iopub.status.idle": "2025-07-18T05:06:05.680636Z",
     "shell.execute_reply": "2025-07-18T05:06:05.679877Z"
    },
    "papermill": {
     "duration": 11.23045,
     "end_time": "2025-07-18T05:06:05.682194",
     "exception": false,
     "start_time": "2025-07-18T05:05:54.451744",
     "status": "completed"
    },
    "tags": []
   },
   "outputs": [],
   "source": [
    "text = [text_preprocess(t) for t in text] #apply preprocess function\n",
    "text = [stopword(t) for t in text] #remove stop words"
   ]
  },
  {
   "cell_type": "code",
   "execution_count": 15,
   "id": "0729e478",
   "metadata": {
    "execution": {
     "iopub.execute_input": "2025-07-18T05:06:05.693796Z",
     "iopub.status.busy": "2025-07-18T05:06:05.693420Z",
     "iopub.status.idle": "2025-07-18T05:06:06.628000Z",
     "shell.execute_reply": "2025-07-18T05:06:06.627120Z"
    },
    "papermill": {
     "duration": 0.942251,
     "end_time": "2025-07-18T05:06:06.629878",
     "exception": false,
     "start_time": "2025-07-18T05:06:05.687627",
     "status": "completed"
    },
    "tags": []
   },
   "outputs": [
    {
     "data": {
      "text/html": [
       "<style>#sk-container-id-1 {color: black;background-color: white;}#sk-container-id-1 pre{padding: 0;}#sk-container-id-1 div.sk-toggleable {background-color: white;}#sk-container-id-1 label.sk-toggleable__label {cursor: pointer;display: block;width: 100%;margin-bottom: 0;padding: 0.3em;box-sizing: border-box;text-align: center;}#sk-container-id-1 label.sk-toggleable__label-arrow:before {content: \"▸\";float: left;margin-right: 0.25em;color: #696969;}#sk-container-id-1 label.sk-toggleable__label-arrow:hover:before {color: black;}#sk-container-id-1 div.sk-estimator:hover label.sk-toggleable__label-arrow:before {color: black;}#sk-container-id-1 div.sk-toggleable__content {max-height: 0;max-width: 0;overflow: hidden;text-align: left;background-color: #f0f8ff;}#sk-container-id-1 div.sk-toggleable__content pre {margin: 0.2em;color: black;border-radius: 0.25em;background-color: #f0f8ff;}#sk-container-id-1 input.sk-toggleable__control:checked~div.sk-toggleable__content {max-height: 200px;max-width: 100%;overflow: auto;}#sk-container-id-1 input.sk-toggleable__control:checked~label.sk-toggleable__label-arrow:before {content: \"▾\";}#sk-container-id-1 div.sk-estimator input.sk-toggleable__control:checked~label.sk-toggleable__label {background-color: #d4ebff;}#sk-container-id-1 div.sk-label input.sk-toggleable__control:checked~label.sk-toggleable__label {background-color: #d4ebff;}#sk-container-id-1 input.sk-hidden--visually {border: 0;clip: rect(1px 1px 1px 1px);clip: rect(1px, 1px, 1px, 1px);height: 1px;margin: -1px;overflow: hidden;padding: 0;position: absolute;width: 1px;}#sk-container-id-1 div.sk-estimator {font-family: monospace;background-color: #f0f8ff;border: 1px dotted black;border-radius: 0.25em;box-sizing: border-box;margin-bottom: 0.5em;}#sk-container-id-1 div.sk-estimator:hover {background-color: #d4ebff;}#sk-container-id-1 div.sk-parallel-item::after {content: \"\";width: 100%;border-bottom: 1px solid gray;flex-grow: 1;}#sk-container-id-1 div.sk-label:hover label.sk-toggleable__label {background-color: #d4ebff;}#sk-container-id-1 div.sk-serial::before {content: \"\";position: absolute;border-left: 1px solid gray;box-sizing: border-box;top: 0;bottom: 0;left: 50%;z-index: 0;}#sk-container-id-1 div.sk-serial {display: flex;flex-direction: column;align-items: center;background-color: white;padding-right: 0.2em;padding-left: 0.2em;position: relative;}#sk-container-id-1 div.sk-item {position: relative;z-index: 1;}#sk-container-id-1 div.sk-parallel {display: flex;align-items: stretch;justify-content: center;background-color: white;position: relative;}#sk-container-id-1 div.sk-item::before, #sk-container-id-1 div.sk-parallel-item::before {content: \"\";position: absolute;border-left: 1px solid gray;box-sizing: border-box;top: 0;bottom: 0;left: 50%;z-index: -1;}#sk-container-id-1 div.sk-parallel-item {display: flex;flex-direction: column;z-index: 1;position: relative;background-color: white;}#sk-container-id-1 div.sk-parallel-item:first-child::after {align-self: flex-end;width: 50%;}#sk-container-id-1 div.sk-parallel-item:last-child::after {align-self: flex-start;width: 50%;}#sk-container-id-1 div.sk-parallel-item:only-child::after {width: 0;}#sk-container-id-1 div.sk-dashed-wrapped {border: 1px dashed gray;margin: 0 0.4em 0.5em 0.4em;box-sizing: border-box;padding-bottom: 0.4em;background-color: white;}#sk-container-id-1 div.sk-label label {font-family: monospace;font-weight: bold;display: inline-block;line-height: 1.2em;}#sk-container-id-1 div.sk-label-container {text-align: center;}#sk-container-id-1 div.sk-container {/* jupyter's `normalize.less` sets `[hidden] { display: none; }` but bootstrap.min.css set `[hidden] { display: none !important; }` so we also need the `!important` here to be able to override the default hidden behavior on the sphinx rendered scikit-learn.org. See: https://github.com/scikit-learn/scikit-learn/issues/21755 */display: inline-block !important;position: relative;}#sk-container-id-1 div.sk-text-repr-fallback {display: none;}</style><div id=\"sk-container-id-1\" class=\"sk-top-container\"><div class=\"sk-text-repr-fallback\"><pre>LogisticRegression(max_iter=1000)</pre><b>In a Jupyter environment, please rerun this cell to show the HTML representation or trust the notebook. <br />On GitHub, the HTML representation is unable to render, please try loading this page with nbviewer.org.</b></div><div class=\"sk-container\" hidden><div class=\"sk-item\"><div class=\"sk-estimator sk-toggleable\"><input class=\"sk-toggleable__control sk-hidden--visually\" id=\"sk-estimator-id-1\" type=\"checkbox\" checked><label for=\"sk-estimator-id-1\" class=\"sk-toggleable__label sk-toggleable__label-arrow\">LogisticRegression</label><div class=\"sk-toggleable__content\"><pre>LogisticRegression(max_iter=1000)</pre></div></div></div></div></div>"
      ],
      "text/plain": [
       "LogisticRegression(max_iter=1000)"
      ]
     },
     "execution_count": 15,
     "metadata": {},
     "output_type": "execute_result"
    }
   ],
   "source": [
    "from sklearn.feature_extraction.text import TfidfVectorizer\n",
    "from sklearn.linear_model import LogisticRegression\n",
    "\n",
    "vectorizer = TfidfVectorizer(max_features = 10000, ngram_range = (1,2))\n",
    "x_train = vectorizer.fit_transform(text)\n",
    "\n",
    "model = LogisticRegression(max_iter = 1000)\n",
    "model.fit(x_train, labels)"
   ]
  },
  {
   "cell_type": "code",
   "execution_count": 16,
   "id": "ced0fd1b",
   "metadata": {
    "execution": {
     "iopub.execute_input": "2025-07-18T05:06:06.646982Z",
     "iopub.status.busy": "2025-07-18T05:06:06.646620Z",
     "iopub.status.idle": "2025-07-18T05:06:11.721501Z",
     "shell.execute_reply": "2025-07-18T05:06:11.720574Z"
    },
    "papermill": {
     "duration": 5.085475,
     "end_time": "2025-07-18T05:06:11.723341",
     "exception": false,
     "start_time": "2025-07-18T05:06:06.637866",
     "status": "completed"
    },
    "tags": []
   },
   "outputs": [],
   "source": [
    "test_texts = df_test['text']\n",
    "test_texts = [text_preprocess(t) for t in test_texts]\n",
    "test_texts = [stopword(t) for t in test_texts]\n",
    "\n",
    "x_test = vectorizer.fit_transform(test_texts)"
   ]
  },
  {
   "cell_type": "code",
   "execution_count": 17,
   "id": "9219efa1",
   "metadata": {
    "execution": {
     "iopub.execute_input": "2025-07-18T05:06:11.735957Z",
     "iopub.status.busy": "2025-07-18T05:06:11.735230Z",
     "iopub.status.idle": "2025-07-18T05:06:11.741558Z",
     "shell.execute_reply": "2025-07-18T05:06:11.740478Z"
    },
    "papermill": {
     "duration": 0.014633,
     "end_time": "2025-07-18T05:06:11.743280",
     "exception": false,
     "start_time": "2025-07-18T05:06:11.728647",
     "status": "completed"
    },
    "tags": []
   },
   "outputs": [],
   "source": [
    "preds = model.predict(x_test)"
   ]
  },
  {
   "cell_type": "code",
   "execution_count": 18,
   "id": "65b3ec64",
   "metadata": {
    "execution": {
     "iopub.execute_input": "2025-07-18T05:06:11.754877Z",
     "iopub.status.busy": "2025-07-18T05:06:11.754507Z",
     "iopub.status.idle": "2025-07-18T05:06:11.769039Z",
     "shell.execute_reply": "2025-07-18T05:06:11.768029Z"
    },
    "papermill": {
     "duration": 0.022197,
     "end_time": "2025-07-18T05:06:11.770692",
     "exception": false,
     "start_time": "2025-07-18T05:06:11.748495",
     "status": "completed"
    },
    "tags": []
   },
   "outputs": [],
   "source": [
    "submission = pd.DataFrame({\n",
    "    'id' : df_test['id'].to_list(),\n",
    "    'target' : preds\n",
    "})\n",
    "\n",
    "submission.to_csv('submission.csv', index = False)"
   ]
  },
  {
   "cell_type": "code",
   "execution_count": null,
   "id": "875f96f1",
   "metadata": {
    "papermill": {
     "duration": 0.004831,
     "end_time": "2025-07-18T05:06:11.780780",
     "exception": false,
     "start_time": "2025-07-18T05:06:11.775949",
     "status": "completed"
    },
    "tags": []
   },
   "outputs": [],
   "source": []
  }
 ],
 "metadata": {
  "kaggle": {
   "accelerator": "none",
   "dataSources": [
    {
     "databundleVersionId": 869809,
     "sourceId": 17777,
     "sourceType": "competition"
    }
   ],
   "dockerImageVersionId": 31089,
   "isGpuEnabled": false,
   "isInternetEnabled": true,
   "language": "python",
   "sourceType": "notebook"
  },
  "kernelspec": {
   "display_name": "Python 3",
   "language": "python",
   "name": "python3"
  },
  "language_info": {
   "codemirror_mode": {
    "name": "ipython",
    "version": 3
   },
   "file_extension": ".py",
   "mimetype": "text/x-python",
   "name": "python",
   "nbconvert_exporter": "python",
   "pygments_lexer": "ipython3",
   "version": "3.11.13"
  },
  "papermill": {
   "default_parameters": {},
   "duration": 28.555575,
   "end_time": "2025-07-18T05:06:12.405639",
   "environment_variables": {},
   "exception": null,
   "input_path": "__notebook__.ipynb",
   "output_path": "__notebook__.ipynb",
   "parameters": {},
   "start_time": "2025-07-18T05:05:43.850064",
   "version": "2.6.0"
  }
 },
 "nbformat": 4,
 "nbformat_minor": 5
}
