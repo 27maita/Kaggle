{
 "cells": [
  {
   "cell_type": "code",
   "execution_count": 1,
   "id": "49dcaaa5",
   "metadata": {
    "_cell_guid": "b1076dfc-b9ad-4769-8c92-a6c4dae69d19",
    "_uuid": "8f2839f25d086af736a60e9eeb907d3b93b6e0e5",
    "execution": {
     "iopub.execute_input": "2025-08-05T14:14:43.594642Z",
     "iopub.status.busy": "2025-08-05T14:14:43.594204Z",
     "iopub.status.idle": "2025-08-05T14:14:45.416041Z",
     "shell.execute_reply": "2025-08-05T14:14:45.414392Z"
    },
    "papermill": {
     "duration": 1.829935,
     "end_time": "2025-08-05T14:14:45.417990",
     "exception": false,
     "start_time": "2025-08-05T14:14:43.588055",
     "status": "completed"
    },
    "tags": []
   },
   "outputs": [
    {
     "name": "stdout",
     "output_type": "stream",
     "text": [
      "/kaggle/input/playground-series-s5e6/sample_submission.csv\n",
      "/kaggle/input/playground-series-s5e6/train.csv\n",
      "/kaggle/input/playground-series-s5e6/test.csv\n"
     ]
    }
   ],
   "source": [
    "# This Python 3 environment comes with many helpful analytics libraries installed\n",
    "# It is defined by the kaggle/python Docker image: https://github.com/kaggle/docker-python\n",
    "# For example, here's several helpful packages to load\n",
    "\n",
    "import numpy as np # linear algebra\n",
    "import pandas as pd # data processing, CSV file I/O (e.g. pd.read_csv)\n",
    "\n",
    "# Input data files are available in the read-only \"../input/\" directory\n",
    "# For example, running this (by clicking run or pressing Shift+Enter) will list all files under the input directory\n",
    "\n",
    "import os\n",
    "for dirname, _, filenames in os.walk('/kaggle/input'):\n",
    "    for filename in filenames:\n",
    "        print(os.path.join(dirname, filename))\n",
    "\n",
    "# You can write up to 20GB to the current directory (/kaggle/working/) that gets preserved as output when you create a version using \"Save & Run All\" \n",
    "# You can also write temporary files to /kaggle/temp/, but they won't be saved outside of the current session"
   ]
  },
  {
   "cell_type": "code",
   "execution_count": 2,
   "id": "195322d9",
   "metadata": {
    "execution": {
     "iopub.execute_input": "2025-08-05T14:14:45.430265Z",
     "iopub.status.busy": "2025-08-05T14:14:45.429204Z",
     "iopub.status.idle": "2025-08-05T14:14:47.138788Z",
     "shell.execute_reply": "2025-08-05T14:14:47.137820Z"
    },
    "papermill": {
     "duration": 1.717868,
     "end_time": "2025-08-05T14:14:47.140798",
     "exception": false,
     "start_time": "2025-08-05T14:14:45.422930",
     "status": "completed"
    },
    "tags": []
   },
   "outputs": [],
   "source": [
    "train = pd.read_csv(\"/kaggle/input/playground-series-s5e6/train.csv\")\n",
    "test = pd.read_csv('/kaggle/input/playground-series-s5e6/test.csv')"
   ]
  },
  {
   "cell_type": "code",
   "execution_count": 3,
   "id": "b1bd3002",
   "metadata": {
    "execution": {
     "iopub.execute_input": "2025-08-05T14:14:47.150509Z",
     "iopub.status.busy": "2025-08-05T14:14:47.150116Z",
     "iopub.status.idle": "2025-08-05T14:14:47.183575Z",
     "shell.execute_reply": "2025-08-05T14:14:47.182621Z"
    },
    "papermill": {
     "duration": 0.0401,
     "end_time": "2025-08-05T14:14:47.185209",
     "exception": false,
     "start_time": "2025-08-05T14:14:47.145109",
     "status": "completed"
    },
    "tags": []
   },
   "outputs": [
    {
     "data": {
      "text/html": [
       "<div>\n",
       "<style scoped>\n",
       "    .dataframe tbody tr th:only-of-type {\n",
       "        vertical-align: middle;\n",
       "    }\n",
       "\n",
       "    .dataframe tbody tr th {\n",
       "        vertical-align: top;\n",
       "    }\n",
       "\n",
       "    .dataframe thead th {\n",
       "        text-align: right;\n",
       "    }\n",
       "</style>\n",
       "<table border=\"1\" class=\"dataframe\">\n",
       "  <thead>\n",
       "    <tr style=\"text-align: right;\">\n",
       "      <th></th>\n",
       "      <th>id</th>\n",
       "      <th>Temparature</th>\n",
       "      <th>Humidity</th>\n",
       "      <th>Moisture</th>\n",
       "      <th>Soil Type</th>\n",
       "      <th>Crop Type</th>\n",
       "      <th>Nitrogen</th>\n",
       "      <th>Potassium</th>\n",
       "      <th>Phosphorous</th>\n",
       "      <th>Fertilizer Name</th>\n",
       "    </tr>\n",
       "  </thead>\n",
       "  <tbody>\n",
       "    <tr>\n",
       "      <th>0</th>\n",
       "      <td>0</td>\n",
       "      <td>37</td>\n",
       "      <td>70</td>\n",
       "      <td>36</td>\n",
       "      <td>Clayey</td>\n",
       "      <td>Sugarcane</td>\n",
       "      <td>36</td>\n",
       "      <td>4</td>\n",
       "      <td>5</td>\n",
       "      <td>28-28</td>\n",
       "    </tr>\n",
       "    <tr>\n",
       "      <th>1</th>\n",
       "      <td>1</td>\n",
       "      <td>27</td>\n",
       "      <td>69</td>\n",
       "      <td>65</td>\n",
       "      <td>Sandy</td>\n",
       "      <td>Millets</td>\n",
       "      <td>30</td>\n",
       "      <td>6</td>\n",
       "      <td>18</td>\n",
       "      <td>28-28</td>\n",
       "    </tr>\n",
       "    <tr>\n",
       "      <th>2</th>\n",
       "      <td>2</td>\n",
       "      <td>29</td>\n",
       "      <td>63</td>\n",
       "      <td>32</td>\n",
       "      <td>Sandy</td>\n",
       "      <td>Millets</td>\n",
       "      <td>24</td>\n",
       "      <td>12</td>\n",
       "      <td>16</td>\n",
       "      <td>17-17-17</td>\n",
       "    </tr>\n",
       "    <tr>\n",
       "      <th>3</th>\n",
       "      <td>3</td>\n",
       "      <td>35</td>\n",
       "      <td>62</td>\n",
       "      <td>54</td>\n",
       "      <td>Sandy</td>\n",
       "      <td>Barley</td>\n",
       "      <td>39</td>\n",
       "      <td>12</td>\n",
       "      <td>4</td>\n",
       "      <td>10-26-26</td>\n",
       "    </tr>\n",
       "    <tr>\n",
       "      <th>4</th>\n",
       "      <td>4</td>\n",
       "      <td>35</td>\n",
       "      <td>58</td>\n",
       "      <td>43</td>\n",
       "      <td>Red</td>\n",
       "      <td>Paddy</td>\n",
       "      <td>37</td>\n",
       "      <td>2</td>\n",
       "      <td>16</td>\n",
       "      <td>DAP</td>\n",
       "    </tr>\n",
       "    <tr>\n",
       "      <th>...</th>\n",
       "      <td>...</td>\n",
       "      <td>...</td>\n",
       "      <td>...</td>\n",
       "      <td>...</td>\n",
       "      <td>...</td>\n",
       "      <td>...</td>\n",
       "      <td>...</td>\n",
       "      <td>...</td>\n",
       "      <td>...</td>\n",
       "      <td>...</td>\n",
       "    </tr>\n",
       "    <tr>\n",
       "      <th>749995</th>\n",
       "      <td>749995</td>\n",
       "      <td>25</td>\n",
       "      <td>69</td>\n",
       "      <td>30</td>\n",
       "      <td>Clayey</td>\n",
       "      <td>Maize</td>\n",
       "      <td>8</td>\n",
       "      <td>16</td>\n",
       "      <td>6</td>\n",
       "      <td>28-28</td>\n",
       "    </tr>\n",
       "    <tr>\n",
       "      <th>749996</th>\n",
       "      <td>749996</td>\n",
       "      <td>37</td>\n",
       "      <td>64</td>\n",
       "      <td>58</td>\n",
       "      <td>Loamy</td>\n",
       "      <td>Sugarcane</td>\n",
       "      <td>38</td>\n",
       "      <td>8</td>\n",
       "      <td>20</td>\n",
       "      <td>17-17-17</td>\n",
       "    </tr>\n",
       "    <tr>\n",
       "      <th>749997</th>\n",
       "      <td>749997</td>\n",
       "      <td>35</td>\n",
       "      <td>68</td>\n",
       "      <td>59</td>\n",
       "      <td>Sandy</td>\n",
       "      <td>Ground Nuts</td>\n",
       "      <td>6</td>\n",
       "      <td>11</td>\n",
       "      <td>29</td>\n",
       "      <td>10-26-26</td>\n",
       "    </tr>\n",
       "    <tr>\n",
       "      <th>749998</th>\n",
       "      <td>749998</td>\n",
       "      <td>31</td>\n",
       "      <td>68</td>\n",
       "      <td>29</td>\n",
       "      <td>Red</td>\n",
       "      <td>Cotton</td>\n",
       "      <td>9</td>\n",
       "      <td>11</td>\n",
       "      <td>12</td>\n",
       "      <td>20-20</td>\n",
       "    </tr>\n",
       "    <tr>\n",
       "      <th>749999</th>\n",
       "      <td>749999</td>\n",
       "      <td>33</td>\n",
       "      <td>55</td>\n",
       "      <td>29</td>\n",
       "      <td>Loamy</td>\n",
       "      <td>Cotton</td>\n",
       "      <td>4</td>\n",
       "      <td>10</td>\n",
       "      <td>9</td>\n",
       "      <td>Urea</td>\n",
       "    </tr>\n",
       "  </tbody>\n",
       "</table>\n",
       "<p>750000 rows × 10 columns</p>\n",
       "</div>"
      ],
      "text/plain": [
       "            id  Temparature  Humidity  Moisture Soil Type    Crop Type  \\\n",
       "0            0           37        70        36    Clayey    Sugarcane   \n",
       "1            1           27        69        65     Sandy      Millets   \n",
       "2            2           29        63        32     Sandy      Millets   \n",
       "3            3           35        62        54     Sandy       Barley   \n",
       "4            4           35        58        43       Red        Paddy   \n",
       "...        ...          ...       ...       ...       ...          ...   \n",
       "749995  749995           25        69        30    Clayey        Maize   \n",
       "749996  749996           37        64        58     Loamy    Sugarcane   \n",
       "749997  749997           35        68        59     Sandy  Ground Nuts   \n",
       "749998  749998           31        68        29       Red       Cotton   \n",
       "749999  749999           33        55        29     Loamy       Cotton   \n",
       "\n",
       "        Nitrogen  Potassium  Phosphorous Fertilizer Name  \n",
       "0             36          4            5           28-28  \n",
       "1             30          6           18           28-28  \n",
       "2             24         12           16        17-17-17  \n",
       "3             39         12            4        10-26-26  \n",
       "4             37          2           16             DAP  \n",
       "...          ...        ...          ...             ...  \n",
       "749995         8         16            6           28-28  \n",
       "749996        38          8           20        17-17-17  \n",
       "749997         6         11           29        10-26-26  \n",
       "749998         9         11           12           20-20  \n",
       "749999         4         10            9            Urea  \n",
       "\n",
       "[750000 rows x 10 columns]"
      ]
     },
     "execution_count": 3,
     "metadata": {},
     "output_type": "execute_result"
    }
   ],
   "source": [
    "train"
   ]
  },
  {
   "cell_type": "code",
   "execution_count": 4,
   "id": "8a76c4f2",
   "metadata": {
    "execution": {
     "iopub.execute_input": "2025-08-05T14:14:47.195137Z",
     "iopub.status.busy": "2025-08-05T14:14:47.194818Z",
     "iopub.status.idle": "2025-08-05T14:14:47.200113Z",
     "shell.execute_reply": "2025-08-05T14:14:47.198910Z"
    },
    "papermill": {
     "duration": 0.012522,
     "end_time": "2025-08-05T14:14:47.202116",
     "exception": false,
     "start_time": "2025-08-05T14:14:47.189594",
     "status": "completed"
    },
    "tags": []
   },
   "outputs": [],
   "source": [
    "categorical = ['Soil Type', 'Crop Type']\n",
    "numerical = ['Temperature', 'Humidity', 'Moisture', 'Nitrogen', 'Potassium', 'Phosphorous']"
   ]
  },
  {
   "cell_type": "code",
   "execution_count": 5,
   "id": "ce0e72fe",
   "metadata": {
    "execution": {
     "iopub.execute_input": "2025-08-05T14:14:47.213913Z",
     "iopub.status.busy": "2025-08-05T14:14:47.213598Z",
     "iopub.status.idle": "2025-08-05T14:14:48.601112Z",
     "shell.execute_reply": "2025-08-05T14:14:48.600067Z"
    },
    "papermill": {
     "duration": 1.396191,
     "end_time": "2025-08-05T14:14:48.602997",
     "exception": false,
     "start_time": "2025-08-05T14:14:47.206806",
     "status": "completed"
    },
    "tags": []
   },
   "outputs": [],
   "source": [
    "from sklearn.preprocessing import OneHotEncoder\n",
    "    \n",
    "def preprocess_df(df, categorical, numerical, mode = 'train'):\n",
    "    df = df.copy()\n",
    "    df.ffill(inplace=True)\n",
    "\n",
    "    for column in categorical:\n",
    "        encoder = OneHotEncoder(sparse=False, handle_unknown='ignore')\n",
    "        transformed = encoder.fit_transform(df[[column]])\n",
    "\n",
    "        # Make column names like \"Soil Type_Clay\", \"Soil Type_Sandy\"\n",
    "        col_names = [f\"{column}_{cat}\" for cat in encoder.categories_[0]]\n",
    "        one_hot_df = pd.DataFrame(transformed, columns=col_names, index=df.index)\n",
    "\n",
    "        df = pd.concat([df.drop(columns=[column]), one_hot_df], axis=1)\n",
    "    if mode == 'train':\n",
    "        fertilizer_names = {\n",
    "            '28-28': 0,\n",
    "            '17-17-17': 1,\n",
    "            '10-26-26': 2,\n",
    "            'DAP': 3,\n",
    "            '20-20': 4,\n",
    "            '14-35-14': 5,\n",
    "            'Urea': 6\n",
    "            }\n",
    "        df['Fertilizer Name'] = df['Fertilizer Name'].map(fertilizer_names)\n",
    "\n",
    "    return df"
   ]
  },
  {
   "cell_type": "code",
   "execution_count": 6,
   "id": "271383b3",
   "metadata": {
    "execution": {
     "iopub.execute_input": "2025-08-05T14:14:48.613342Z",
     "iopub.status.busy": "2025-08-05T14:14:48.612794Z",
     "iopub.status.idle": "2025-08-05T14:14:49.893358Z",
     "shell.execute_reply": "2025-08-05T14:14:49.892067Z"
    },
    "papermill": {
     "duration": 1.287718,
     "end_time": "2025-08-05T14:14:49.895257",
     "exception": false,
     "start_time": "2025-08-05T14:14:48.607539",
     "status": "completed"
    },
    "tags": []
   },
   "outputs": [
    {
     "name": "stderr",
     "output_type": "stream",
     "text": [
      "/usr/local/lib/python3.11/dist-packages/sklearn/preprocessing/_encoders.py:868: FutureWarning: `sparse` was renamed to `sparse_output` in version 1.2 and will be removed in 1.4. `sparse_output` is ignored unless you leave `sparse` to its default value.\n",
      "  warnings.warn(\n",
      "/usr/local/lib/python3.11/dist-packages/sklearn/preprocessing/_encoders.py:868: FutureWarning: `sparse` was renamed to `sparse_output` in version 1.2 and will be removed in 1.4. `sparse_output` is ignored unless you leave `sparse` to its default value.\n",
      "  warnings.warn(\n"
     ]
    }
   ],
   "source": [
    "train = preprocess_df(train, categorical, numerical)"
   ]
  },
  {
   "cell_type": "code",
   "execution_count": 7,
   "id": "19d77554",
   "metadata": {
    "execution": {
     "iopub.execute_input": "2025-08-05T14:14:49.905356Z",
     "iopub.status.busy": "2025-08-05T14:14:49.905038Z",
     "iopub.status.idle": "2025-08-05T14:14:50.276195Z",
     "shell.execute_reply": "2025-08-05T14:14:50.275140Z"
    },
    "papermill": {
     "duration": 0.378224,
     "end_time": "2025-08-05T14:14:50.277953",
     "exception": false,
     "start_time": "2025-08-05T14:14:49.899729",
     "status": "completed"
    },
    "tags": []
   },
   "outputs": [
    {
     "data": {
      "text/html": [
       "<div>\n",
       "<style scoped>\n",
       "    .dataframe tbody tr th:only-of-type {\n",
       "        vertical-align: middle;\n",
       "    }\n",
       "\n",
       "    .dataframe tbody tr th {\n",
       "        vertical-align: top;\n",
       "    }\n",
       "\n",
       "    .dataframe thead th {\n",
       "        text-align: right;\n",
       "    }\n",
       "</style>\n",
       "<table border=\"1\" class=\"dataframe\">\n",
       "  <thead>\n",
       "    <tr style=\"text-align: right;\">\n",
       "      <th></th>\n",
       "      <th>id</th>\n",
       "      <th>Temparature</th>\n",
       "      <th>Humidity</th>\n",
       "      <th>Moisture</th>\n",
       "      <th>Nitrogen</th>\n",
       "      <th>Potassium</th>\n",
       "      <th>Phosphorous</th>\n",
       "      <th>Fertilizer Name</th>\n",
       "      <th>Soil Type_Black</th>\n",
       "      <th>Soil Type_Clayey</th>\n",
       "      <th>...</th>\n",
       "      <th>Crop Type_Cotton</th>\n",
       "      <th>Crop Type_Ground Nuts</th>\n",
       "      <th>Crop Type_Maize</th>\n",
       "      <th>Crop Type_Millets</th>\n",
       "      <th>Crop Type_Oil seeds</th>\n",
       "      <th>Crop Type_Paddy</th>\n",
       "      <th>Crop Type_Pulses</th>\n",
       "      <th>Crop Type_Sugarcane</th>\n",
       "      <th>Crop Type_Tobacco</th>\n",
       "      <th>Crop Type_Wheat</th>\n",
       "    </tr>\n",
       "  </thead>\n",
       "  <tbody>\n",
       "    <tr>\n",
       "      <th>0</th>\n",
       "      <td>0</td>\n",
       "      <td>37</td>\n",
       "      <td>70</td>\n",
       "      <td>36</td>\n",
       "      <td>36</td>\n",
       "      <td>4</td>\n",
       "      <td>5</td>\n",
       "      <td>0</td>\n",
       "      <td>0.0</td>\n",
       "      <td>1.0</td>\n",
       "      <td>...</td>\n",
       "      <td>0.0</td>\n",
       "      <td>0.0</td>\n",
       "      <td>0.0</td>\n",
       "      <td>0.0</td>\n",
       "      <td>0.0</td>\n",
       "      <td>0.0</td>\n",
       "      <td>0.0</td>\n",
       "      <td>1.0</td>\n",
       "      <td>0.0</td>\n",
       "      <td>0.0</td>\n",
       "    </tr>\n",
       "    <tr>\n",
       "      <th>1</th>\n",
       "      <td>1</td>\n",
       "      <td>27</td>\n",
       "      <td>69</td>\n",
       "      <td>65</td>\n",
       "      <td>30</td>\n",
       "      <td>6</td>\n",
       "      <td>18</td>\n",
       "      <td>0</td>\n",
       "      <td>0.0</td>\n",
       "      <td>0.0</td>\n",
       "      <td>...</td>\n",
       "      <td>0.0</td>\n",
       "      <td>0.0</td>\n",
       "      <td>0.0</td>\n",
       "      <td>1.0</td>\n",
       "      <td>0.0</td>\n",
       "      <td>0.0</td>\n",
       "      <td>0.0</td>\n",
       "      <td>0.0</td>\n",
       "      <td>0.0</td>\n",
       "      <td>0.0</td>\n",
       "    </tr>\n",
       "    <tr>\n",
       "      <th>2</th>\n",
       "      <td>2</td>\n",
       "      <td>29</td>\n",
       "      <td>63</td>\n",
       "      <td>32</td>\n",
       "      <td>24</td>\n",
       "      <td>12</td>\n",
       "      <td>16</td>\n",
       "      <td>1</td>\n",
       "      <td>0.0</td>\n",
       "      <td>0.0</td>\n",
       "      <td>...</td>\n",
       "      <td>0.0</td>\n",
       "      <td>0.0</td>\n",
       "      <td>0.0</td>\n",
       "      <td>1.0</td>\n",
       "      <td>0.0</td>\n",
       "      <td>0.0</td>\n",
       "      <td>0.0</td>\n",
       "      <td>0.0</td>\n",
       "      <td>0.0</td>\n",
       "      <td>0.0</td>\n",
       "    </tr>\n",
       "    <tr>\n",
       "      <th>3</th>\n",
       "      <td>3</td>\n",
       "      <td>35</td>\n",
       "      <td>62</td>\n",
       "      <td>54</td>\n",
       "      <td>39</td>\n",
       "      <td>12</td>\n",
       "      <td>4</td>\n",
       "      <td>2</td>\n",
       "      <td>0.0</td>\n",
       "      <td>0.0</td>\n",
       "      <td>...</td>\n",
       "      <td>0.0</td>\n",
       "      <td>0.0</td>\n",
       "      <td>0.0</td>\n",
       "      <td>0.0</td>\n",
       "      <td>0.0</td>\n",
       "      <td>0.0</td>\n",
       "      <td>0.0</td>\n",
       "      <td>0.0</td>\n",
       "      <td>0.0</td>\n",
       "      <td>0.0</td>\n",
       "    </tr>\n",
       "    <tr>\n",
       "      <th>4</th>\n",
       "      <td>4</td>\n",
       "      <td>35</td>\n",
       "      <td>58</td>\n",
       "      <td>43</td>\n",
       "      <td>37</td>\n",
       "      <td>2</td>\n",
       "      <td>16</td>\n",
       "      <td>3</td>\n",
       "      <td>0.0</td>\n",
       "      <td>0.0</td>\n",
       "      <td>...</td>\n",
       "      <td>0.0</td>\n",
       "      <td>0.0</td>\n",
       "      <td>0.0</td>\n",
       "      <td>0.0</td>\n",
       "      <td>0.0</td>\n",
       "      <td>1.0</td>\n",
       "      <td>0.0</td>\n",
       "      <td>0.0</td>\n",
       "      <td>0.0</td>\n",
       "      <td>0.0</td>\n",
       "    </tr>\n",
       "    <tr>\n",
       "      <th>...</th>\n",
       "      <td>...</td>\n",
       "      <td>...</td>\n",
       "      <td>...</td>\n",
       "      <td>...</td>\n",
       "      <td>...</td>\n",
       "      <td>...</td>\n",
       "      <td>...</td>\n",
       "      <td>...</td>\n",
       "      <td>...</td>\n",
       "      <td>...</td>\n",
       "      <td>...</td>\n",
       "      <td>...</td>\n",
       "      <td>...</td>\n",
       "      <td>...</td>\n",
       "      <td>...</td>\n",
       "      <td>...</td>\n",
       "      <td>...</td>\n",
       "      <td>...</td>\n",
       "      <td>...</td>\n",
       "      <td>...</td>\n",
       "      <td>...</td>\n",
       "    </tr>\n",
       "    <tr>\n",
       "      <th>749995</th>\n",
       "      <td>749995</td>\n",
       "      <td>25</td>\n",
       "      <td>69</td>\n",
       "      <td>30</td>\n",
       "      <td>8</td>\n",
       "      <td>16</td>\n",
       "      <td>6</td>\n",
       "      <td>0</td>\n",
       "      <td>0.0</td>\n",
       "      <td>1.0</td>\n",
       "      <td>...</td>\n",
       "      <td>0.0</td>\n",
       "      <td>0.0</td>\n",
       "      <td>1.0</td>\n",
       "      <td>0.0</td>\n",
       "      <td>0.0</td>\n",
       "      <td>0.0</td>\n",
       "      <td>0.0</td>\n",
       "      <td>0.0</td>\n",
       "      <td>0.0</td>\n",
       "      <td>0.0</td>\n",
       "    </tr>\n",
       "    <tr>\n",
       "      <th>749996</th>\n",
       "      <td>749996</td>\n",
       "      <td>37</td>\n",
       "      <td>64</td>\n",
       "      <td>58</td>\n",
       "      <td>38</td>\n",
       "      <td>8</td>\n",
       "      <td>20</td>\n",
       "      <td>1</td>\n",
       "      <td>0.0</td>\n",
       "      <td>0.0</td>\n",
       "      <td>...</td>\n",
       "      <td>0.0</td>\n",
       "      <td>0.0</td>\n",
       "      <td>0.0</td>\n",
       "      <td>0.0</td>\n",
       "      <td>0.0</td>\n",
       "      <td>0.0</td>\n",
       "      <td>0.0</td>\n",
       "      <td>1.0</td>\n",
       "      <td>0.0</td>\n",
       "      <td>0.0</td>\n",
       "    </tr>\n",
       "    <tr>\n",
       "      <th>749997</th>\n",
       "      <td>749997</td>\n",
       "      <td>35</td>\n",
       "      <td>68</td>\n",
       "      <td>59</td>\n",
       "      <td>6</td>\n",
       "      <td>11</td>\n",
       "      <td>29</td>\n",
       "      <td>2</td>\n",
       "      <td>0.0</td>\n",
       "      <td>0.0</td>\n",
       "      <td>...</td>\n",
       "      <td>0.0</td>\n",
       "      <td>1.0</td>\n",
       "      <td>0.0</td>\n",
       "      <td>0.0</td>\n",
       "      <td>0.0</td>\n",
       "      <td>0.0</td>\n",
       "      <td>0.0</td>\n",
       "      <td>0.0</td>\n",
       "      <td>0.0</td>\n",
       "      <td>0.0</td>\n",
       "    </tr>\n",
       "    <tr>\n",
       "      <th>749998</th>\n",
       "      <td>749998</td>\n",
       "      <td>31</td>\n",
       "      <td>68</td>\n",
       "      <td>29</td>\n",
       "      <td>9</td>\n",
       "      <td>11</td>\n",
       "      <td>12</td>\n",
       "      <td>4</td>\n",
       "      <td>0.0</td>\n",
       "      <td>0.0</td>\n",
       "      <td>...</td>\n",
       "      <td>1.0</td>\n",
       "      <td>0.0</td>\n",
       "      <td>0.0</td>\n",
       "      <td>0.0</td>\n",
       "      <td>0.0</td>\n",
       "      <td>0.0</td>\n",
       "      <td>0.0</td>\n",
       "      <td>0.0</td>\n",
       "      <td>0.0</td>\n",
       "      <td>0.0</td>\n",
       "    </tr>\n",
       "    <tr>\n",
       "      <th>749999</th>\n",
       "      <td>749999</td>\n",
       "      <td>33</td>\n",
       "      <td>55</td>\n",
       "      <td>29</td>\n",
       "      <td>4</td>\n",
       "      <td>10</td>\n",
       "      <td>9</td>\n",
       "      <td>6</td>\n",
       "      <td>0.0</td>\n",
       "      <td>0.0</td>\n",
       "      <td>...</td>\n",
       "      <td>1.0</td>\n",
       "      <td>0.0</td>\n",
       "      <td>0.0</td>\n",
       "      <td>0.0</td>\n",
       "      <td>0.0</td>\n",
       "      <td>0.0</td>\n",
       "      <td>0.0</td>\n",
       "      <td>0.0</td>\n",
       "      <td>0.0</td>\n",
       "      <td>0.0</td>\n",
       "    </tr>\n",
       "  </tbody>\n",
       "</table>\n",
       "<p>750000 rows × 24 columns</p>\n",
       "</div>"
      ],
      "text/plain": [
       "            id  Temparature  Humidity  Moisture  Nitrogen  Potassium  \\\n",
       "0            0           37        70        36        36          4   \n",
       "1            1           27        69        65        30          6   \n",
       "2            2           29        63        32        24         12   \n",
       "3            3           35        62        54        39         12   \n",
       "4            4           35        58        43        37          2   \n",
       "...        ...          ...       ...       ...       ...        ...   \n",
       "749995  749995           25        69        30         8         16   \n",
       "749996  749996           37        64        58        38          8   \n",
       "749997  749997           35        68        59         6         11   \n",
       "749998  749998           31        68        29         9         11   \n",
       "749999  749999           33        55        29         4         10   \n",
       "\n",
       "        Phosphorous  Fertilizer Name  Soil Type_Black  Soil Type_Clayey  ...  \\\n",
       "0                 5                0              0.0               1.0  ...   \n",
       "1                18                0              0.0               0.0  ...   \n",
       "2                16                1              0.0               0.0  ...   \n",
       "3                 4                2              0.0               0.0  ...   \n",
       "4                16                3              0.0               0.0  ...   \n",
       "...             ...              ...              ...               ...  ...   \n",
       "749995            6                0              0.0               1.0  ...   \n",
       "749996           20                1              0.0               0.0  ...   \n",
       "749997           29                2              0.0               0.0  ...   \n",
       "749998           12                4              0.0               0.0  ...   \n",
       "749999            9                6              0.0               0.0  ...   \n",
       "\n",
       "        Crop Type_Cotton  Crop Type_Ground Nuts  Crop Type_Maize  \\\n",
       "0                    0.0                    0.0              0.0   \n",
       "1                    0.0                    0.0              0.0   \n",
       "2                    0.0                    0.0              0.0   \n",
       "3                    0.0                    0.0              0.0   \n",
       "4                    0.0                    0.0              0.0   \n",
       "...                  ...                    ...              ...   \n",
       "749995               0.0                    0.0              1.0   \n",
       "749996               0.0                    0.0              0.0   \n",
       "749997               0.0                    1.0              0.0   \n",
       "749998               1.0                    0.0              0.0   \n",
       "749999               1.0                    0.0              0.0   \n",
       "\n",
       "        Crop Type_Millets  Crop Type_Oil seeds  Crop Type_Paddy  \\\n",
       "0                     0.0                  0.0              0.0   \n",
       "1                     1.0                  0.0              0.0   \n",
       "2                     1.0                  0.0              0.0   \n",
       "3                     0.0                  0.0              0.0   \n",
       "4                     0.0                  0.0              1.0   \n",
       "...                   ...                  ...              ...   \n",
       "749995                0.0                  0.0              0.0   \n",
       "749996                0.0                  0.0              0.0   \n",
       "749997                0.0                  0.0              0.0   \n",
       "749998                0.0                  0.0              0.0   \n",
       "749999                0.0                  0.0              0.0   \n",
       "\n",
       "        Crop Type_Pulses  Crop Type_Sugarcane  Crop Type_Tobacco  \\\n",
       "0                    0.0                  1.0                0.0   \n",
       "1                    0.0                  0.0                0.0   \n",
       "2                    0.0                  0.0                0.0   \n",
       "3                    0.0                  0.0                0.0   \n",
       "4                    0.0                  0.0                0.0   \n",
       "...                  ...                  ...                ...   \n",
       "749995               0.0                  0.0                0.0   \n",
       "749996               0.0                  1.0                0.0   \n",
       "749997               0.0                  0.0                0.0   \n",
       "749998               0.0                  0.0                0.0   \n",
       "749999               0.0                  0.0                0.0   \n",
       "\n",
       "        Crop Type_Wheat  \n",
       "0                   0.0  \n",
       "1                   0.0  \n",
       "2                   0.0  \n",
       "3                   0.0  \n",
       "4                   0.0  \n",
       "...                 ...  \n",
       "749995              0.0  \n",
       "749996              0.0  \n",
       "749997              0.0  \n",
       "749998              0.0  \n",
       "749999              0.0  \n",
       "\n",
       "[750000 rows x 24 columns]"
      ]
     },
     "execution_count": 7,
     "metadata": {},
     "output_type": "execute_result"
    }
   ],
   "source": [
    "train"
   ]
  },
  {
   "cell_type": "code",
   "execution_count": 8,
   "id": "1424bee4",
   "metadata": {
    "execution": {
     "iopub.execute_input": "2025-08-05T14:14:50.296040Z",
     "iopub.status.busy": "2025-08-05T14:14:50.295645Z",
     "iopub.status.idle": "2025-08-05T14:14:50.357355Z",
     "shell.execute_reply": "2025-08-05T14:14:50.355948Z"
    },
    "papermill": {
     "duration": 0.074451,
     "end_time": "2025-08-05T14:14:50.360716",
     "exception": false,
     "start_time": "2025-08-05T14:14:50.286265",
     "status": "completed"
    },
    "tags": []
   },
   "outputs": [],
   "source": [
    "x_train = train.drop(columns = ['id', 'Fertilizer Name'])\n",
    "y_train = train['Fertilizer Name']"
   ]
  },
  {
   "cell_type": "code",
   "execution_count": 9,
   "id": "4a2a8bf8",
   "metadata": {
    "execution": {
     "iopub.execute_input": "2025-08-05T14:14:50.380177Z",
     "iopub.status.busy": "2025-08-05T14:14:50.379820Z",
     "iopub.status.idle": "2025-08-05T14:15:14.303019Z",
     "shell.execute_reply": "2025-08-05T14:15:14.301916Z"
    },
    "papermill": {
     "duration": 23.933391,
     "end_time": "2025-08-05T14:15:14.304775",
     "exception": false,
     "start_time": "2025-08-05T14:14:50.371384",
     "status": "completed"
    },
    "tags": []
   },
   "outputs": [
    {
     "data": {
      "text/html": [
       "<style>#sk-container-id-1 {color: black;background-color: white;}#sk-container-id-1 pre{padding: 0;}#sk-container-id-1 div.sk-toggleable {background-color: white;}#sk-container-id-1 label.sk-toggleable__label {cursor: pointer;display: block;width: 100%;margin-bottom: 0;padding: 0.3em;box-sizing: border-box;text-align: center;}#sk-container-id-1 label.sk-toggleable__label-arrow:before {content: \"▸\";float: left;margin-right: 0.25em;color: #696969;}#sk-container-id-1 label.sk-toggleable__label-arrow:hover:before {color: black;}#sk-container-id-1 div.sk-estimator:hover label.sk-toggleable__label-arrow:before {color: black;}#sk-container-id-1 div.sk-toggleable__content {max-height: 0;max-width: 0;overflow: hidden;text-align: left;background-color: #f0f8ff;}#sk-container-id-1 div.sk-toggleable__content pre {margin: 0.2em;color: black;border-radius: 0.25em;background-color: #f0f8ff;}#sk-container-id-1 input.sk-toggleable__control:checked~div.sk-toggleable__content {max-height: 200px;max-width: 100%;overflow: auto;}#sk-container-id-1 input.sk-toggleable__control:checked~label.sk-toggleable__label-arrow:before {content: \"▾\";}#sk-container-id-1 div.sk-estimator input.sk-toggleable__control:checked~label.sk-toggleable__label {background-color: #d4ebff;}#sk-container-id-1 div.sk-label input.sk-toggleable__control:checked~label.sk-toggleable__label {background-color: #d4ebff;}#sk-container-id-1 input.sk-hidden--visually {border: 0;clip: rect(1px 1px 1px 1px);clip: rect(1px, 1px, 1px, 1px);height: 1px;margin: -1px;overflow: hidden;padding: 0;position: absolute;width: 1px;}#sk-container-id-1 div.sk-estimator {font-family: monospace;background-color: #f0f8ff;border: 1px dotted black;border-radius: 0.25em;box-sizing: border-box;margin-bottom: 0.5em;}#sk-container-id-1 div.sk-estimator:hover {background-color: #d4ebff;}#sk-container-id-1 div.sk-parallel-item::after {content: \"\";width: 100%;border-bottom: 1px solid gray;flex-grow: 1;}#sk-container-id-1 div.sk-label:hover label.sk-toggleable__label {background-color: #d4ebff;}#sk-container-id-1 div.sk-serial::before {content: \"\";position: absolute;border-left: 1px solid gray;box-sizing: border-box;top: 0;bottom: 0;left: 50%;z-index: 0;}#sk-container-id-1 div.sk-serial {display: flex;flex-direction: column;align-items: center;background-color: white;padding-right: 0.2em;padding-left: 0.2em;position: relative;}#sk-container-id-1 div.sk-item {position: relative;z-index: 1;}#sk-container-id-1 div.sk-parallel {display: flex;align-items: stretch;justify-content: center;background-color: white;position: relative;}#sk-container-id-1 div.sk-item::before, #sk-container-id-1 div.sk-parallel-item::before {content: \"\";position: absolute;border-left: 1px solid gray;box-sizing: border-box;top: 0;bottom: 0;left: 50%;z-index: -1;}#sk-container-id-1 div.sk-parallel-item {display: flex;flex-direction: column;z-index: 1;position: relative;background-color: white;}#sk-container-id-1 div.sk-parallel-item:first-child::after {align-self: flex-end;width: 50%;}#sk-container-id-1 div.sk-parallel-item:last-child::after {align-self: flex-start;width: 50%;}#sk-container-id-1 div.sk-parallel-item:only-child::after {width: 0;}#sk-container-id-1 div.sk-dashed-wrapped {border: 1px dashed gray;margin: 0 0.4em 0.5em 0.4em;box-sizing: border-box;padding-bottom: 0.4em;background-color: white;}#sk-container-id-1 div.sk-label label {font-family: monospace;font-weight: bold;display: inline-block;line-height: 1.2em;}#sk-container-id-1 div.sk-label-container {text-align: center;}#sk-container-id-1 div.sk-container {/* jupyter's `normalize.less` sets `[hidden] { display: none; }` but bootstrap.min.css set `[hidden] { display: none !important; }` so we also need the `!important` here to be able to override the default hidden behavior on the sphinx rendered scikit-learn.org. See: https://github.com/scikit-learn/scikit-learn/issues/21755 */display: inline-block !important;position: relative;}#sk-container-id-1 div.sk-text-repr-fallback {display: none;}</style><div id=\"sk-container-id-1\" class=\"sk-top-container\"><div class=\"sk-text-repr-fallback\"><pre>XGBClassifier(base_score=None, booster=None, callbacks=None,\n",
       "              colsample_bylevel=None, colsample_bynode=None,\n",
       "              colsample_bytree=None, device=None, early_stopping_rounds=None,\n",
       "              enable_categorical=False, eval_metric=None, feature_types=None,\n",
       "              gamma=None, grow_policy=None, importance_type=None,\n",
       "              interaction_constraints=None, learning_rate=1, max_bin=None,\n",
       "              max_cat_threshold=None, max_cat_to_onehot=None,\n",
       "              max_delta_step=None, max_depth=2, max_leaves=None,\n",
       "              min_child_weight=None, missing=nan, monotone_constraints=None,\n",
       "              multi_strategy=None, n_estimators=100, n_jobs=None,\n",
       "              num_parallel_tree=None, objective=&#x27;multi:softprob&#x27;, ...)</pre><b>In a Jupyter environment, please rerun this cell to show the HTML representation or trust the notebook. <br />On GitHub, the HTML representation is unable to render, please try loading this page with nbviewer.org.</b></div><div class=\"sk-container\" hidden><div class=\"sk-item\"><div class=\"sk-estimator sk-toggleable\"><input class=\"sk-toggleable__control sk-hidden--visually\" id=\"sk-estimator-id-1\" type=\"checkbox\" checked><label for=\"sk-estimator-id-1\" class=\"sk-toggleable__label sk-toggleable__label-arrow\">XGBClassifier</label><div class=\"sk-toggleable__content\"><pre>XGBClassifier(base_score=None, booster=None, callbacks=None,\n",
       "              colsample_bylevel=None, colsample_bynode=None,\n",
       "              colsample_bytree=None, device=None, early_stopping_rounds=None,\n",
       "              enable_categorical=False, eval_metric=None, feature_types=None,\n",
       "              gamma=None, grow_policy=None, importance_type=None,\n",
       "              interaction_constraints=None, learning_rate=1, max_bin=None,\n",
       "              max_cat_threshold=None, max_cat_to_onehot=None,\n",
       "              max_delta_step=None, max_depth=2, max_leaves=None,\n",
       "              min_child_weight=None, missing=nan, monotone_constraints=None,\n",
       "              multi_strategy=None, n_estimators=100, n_jobs=None,\n",
       "              num_parallel_tree=None, objective=&#x27;multi:softprob&#x27;, ...)</pre></div></div></div></div></div>"
      ],
      "text/plain": [
       "XGBClassifier(base_score=None, booster=None, callbacks=None,\n",
       "              colsample_bylevel=None, colsample_bynode=None,\n",
       "              colsample_bytree=None, device=None, early_stopping_rounds=None,\n",
       "              enable_categorical=False, eval_metric=None, feature_types=None,\n",
       "              gamma=None, grow_policy=None, importance_type=None,\n",
       "              interaction_constraints=None, learning_rate=1, max_bin=None,\n",
       "              max_cat_threshold=None, max_cat_to_onehot=None,\n",
       "              max_delta_step=None, max_depth=2, max_leaves=None,\n",
       "              min_child_weight=None, missing=nan, monotone_constraints=None,\n",
       "              multi_strategy=None, n_estimators=100, n_jobs=None,\n",
       "              num_parallel_tree=None, objective='multi:softprob', ...)"
      ]
     },
     "execution_count": 9,
     "metadata": {},
     "output_type": "execute_result"
    }
   ],
   "source": [
    "import xgboost as xgb\n",
    "model = xgb.XGBClassifier(n_estimators=100,\n",
    "                          max_depth=2,\n",
    "                          learning_rate=1)\n",
    "\n",
    "model.fit(x_train, y_train)"
   ]
  },
  {
   "cell_type": "code",
   "execution_count": 10,
   "id": "6f24a873",
   "metadata": {
    "execution": {
     "iopub.execute_input": "2025-08-05T14:15:14.318909Z",
     "iopub.status.busy": "2025-08-05T14:15:14.318560Z",
     "iopub.status.idle": "2025-08-05T14:15:14.625777Z",
     "shell.execute_reply": "2025-08-05T14:15:14.624554Z"
    },
    "papermill": {
     "duration": 0.31707,
     "end_time": "2025-08-05T14:15:14.627862",
     "exception": false,
     "start_time": "2025-08-05T14:15:14.310792",
     "status": "completed"
    },
    "tags": []
   },
   "outputs": [
    {
     "name": "stderr",
     "output_type": "stream",
     "text": [
      "/usr/local/lib/python3.11/dist-packages/sklearn/preprocessing/_encoders.py:868: FutureWarning: `sparse` was renamed to `sparse_output` in version 1.2 and will be removed in 1.4. `sparse_output` is ignored unless you leave `sparse` to its default value.\n",
      "  warnings.warn(\n",
      "/usr/local/lib/python3.11/dist-packages/sklearn/preprocessing/_encoders.py:868: FutureWarning: `sparse` was renamed to `sparse_output` in version 1.2 and will be removed in 1.4. `sparse_output` is ignored unless you leave `sparse` to its default value.\n",
      "  warnings.warn(\n"
     ]
    }
   ],
   "source": [
    "test = preprocess_df(test, categorical, numerical, mode = 'test')"
   ]
  },
  {
   "cell_type": "code",
   "execution_count": 11,
   "id": "75b0269e",
   "metadata": {
    "execution": {
     "iopub.execute_input": "2025-08-05T14:15:14.642034Z",
     "iopub.status.busy": "2025-08-05T14:15:14.640955Z",
     "iopub.status.idle": "2025-08-05T14:15:15.197141Z",
     "shell.execute_reply": "2025-08-05T14:15:15.196412Z"
    },
    "papermill": {
     "duration": 0.565277,
     "end_time": "2025-08-05T14:15:15.199107",
     "exception": false,
     "start_time": "2025-08-05T14:15:14.633830",
     "status": "completed"
    },
    "tags": []
   },
   "outputs": [],
   "source": [
    "x_test = test.drop(columns = ['id'])\n",
    "test['preds'] = model.predict(x_test)"
   ]
  },
  {
   "cell_type": "code",
   "execution_count": 12,
   "id": "42d90eb5",
   "metadata": {
    "execution": {
     "iopub.execute_input": "2025-08-05T14:15:15.210543Z",
     "iopub.status.busy": "2025-08-05T14:15:15.210193Z",
     "iopub.status.idle": "2025-08-05T14:15:15.222275Z",
     "shell.execute_reply": "2025-08-05T14:15:15.221111Z"
    },
    "papermill": {
     "duration": 0.019978,
     "end_time": "2025-08-05T14:15:15.224258",
     "exception": false,
     "start_time": "2025-08-05T14:15:15.204280",
     "status": "completed"
    },
    "tags": []
   },
   "outputs": [],
   "source": [
    "fertilizer_numbers = {\n",
    "    0 : '28-28',\n",
    "    1 : '17-17-17',\n",
    "    2 : '10-26-26',\n",
    "    3 : 'DAP',\n",
    "    4 : '20-20',\n",
    "    5 : '14-35-14',\n",
    "    6 : 'Urea'\n",
    "}\n",
    "test['preds'] = test['preds'].map(fertilizer_numbers)"
   ]
  },
  {
   "cell_type": "code",
   "execution_count": 13,
   "id": "8ce463f8",
   "metadata": {
    "execution": {
     "iopub.execute_input": "2025-08-05T14:15:15.236250Z",
     "iopub.status.busy": "2025-08-05T14:15:15.235957Z",
     "iopub.status.idle": "2025-08-05T14:15:15.747001Z",
     "shell.execute_reply": "2025-08-05T14:15:15.746312Z"
    },
    "papermill": {
     "duration": 0.51936,
     "end_time": "2025-08-05T14:15:15.748944",
     "exception": false,
     "start_time": "2025-08-05T14:15:15.229584",
     "status": "completed"
    },
    "tags": []
   },
   "outputs": [],
   "source": [
    "proba = model.predict_proba(x_test)"
   ]
  },
  {
   "cell_type": "code",
   "execution_count": 14,
   "id": "d58acc28",
   "metadata": {
    "execution": {
     "iopub.execute_input": "2025-08-05T14:15:15.762816Z",
     "iopub.status.busy": "2025-08-05T14:15:15.762450Z",
     "iopub.status.idle": "2025-08-05T14:15:15.791794Z",
     "shell.execute_reply": "2025-08-05T14:15:15.790744Z"
    },
    "papermill": {
     "duration": 0.038296,
     "end_time": "2025-08-05T14:15:15.793826",
     "exception": false,
     "start_time": "2025-08-05T14:15:15.755530",
     "status": "completed"
    },
    "tags": []
   },
   "outputs": [],
   "source": [
    "top3 = np.argsort(proba, axis = 1)[:, -3:][:, ::-1]"
   ]
  },
  {
   "cell_type": "code",
   "execution_count": 15,
   "id": "e865397d",
   "metadata": {
    "execution": {
     "iopub.execute_input": "2025-08-05T14:15:15.805631Z",
     "iopub.status.busy": "2025-08-05T14:15:15.805227Z",
     "iopub.status.idle": "2025-08-05T14:15:16.856613Z",
     "shell.execute_reply": "2025-08-05T14:15:16.855329Z"
    },
    "papermill": {
     "duration": 1.059758,
     "end_time": "2025-08-05T14:15:16.858792",
     "exception": false,
     "start_time": "2025-08-05T14:15:15.799034",
     "status": "completed"
    },
    "tags": []
   },
   "outputs": [],
   "source": [
    "mapped_top3 = np.array([[fertilizer_numbers[i] for i in row] for row in top3])"
   ]
  },
  {
   "cell_type": "code",
   "execution_count": 16,
   "id": "b304f1ff",
   "metadata": {
    "execution": {
     "iopub.execute_input": "2025-08-05T14:15:16.871310Z",
     "iopub.status.busy": "2025-08-05T14:15:16.870965Z",
     "iopub.status.idle": "2025-08-05T14:15:17.522624Z",
     "shell.execute_reply": "2025-08-05T14:15:17.521605Z"
    },
    "papermill": {
     "duration": 0.660181,
     "end_time": "2025-08-05T14:15:17.524750",
     "exception": false,
     "start_time": "2025-08-05T14:15:16.864569",
     "status": "completed"
    },
    "tags": []
   },
   "outputs": [],
   "source": [
    "predictions = []\n",
    "for row in mapped_top3:\n",
    "    pred = ''\n",
    "    for string in row:\n",
    "        pred = pred + string + ' '\n",
    "    predictions.append(pred)"
   ]
  },
  {
   "cell_type": "code",
   "execution_count": 17,
   "id": "137749f2",
   "metadata": {
    "execution": {
     "iopub.execute_input": "2025-08-05T14:15:17.536789Z",
     "iopub.status.busy": "2025-08-05T14:15:17.536386Z",
     "iopub.status.idle": "2025-08-05T14:15:17.563703Z",
     "shell.execute_reply": "2025-08-05T14:15:17.562613Z"
    },
    "papermill": {
     "duration": 0.035218,
     "end_time": "2025-08-05T14:15:17.565349",
     "exception": false,
     "start_time": "2025-08-05T14:15:17.530131",
     "status": "completed"
    },
    "tags": []
   },
   "outputs": [],
   "source": [
    "test['preds'] = predictions"
   ]
  },
  {
   "cell_type": "code",
   "execution_count": 18,
   "id": "2fbbcfa5",
   "metadata": {
    "execution": {
     "iopub.execute_input": "2025-08-05T14:15:17.577815Z",
     "iopub.status.busy": "2025-08-05T14:15:17.576911Z",
     "iopub.status.idle": "2025-08-05T14:15:17.587150Z",
     "shell.execute_reply": "2025-08-05T14:15:17.586096Z"
    },
    "papermill": {
     "duration": 0.018441,
     "end_time": "2025-08-05T14:15:17.589017",
     "exception": false,
     "start_time": "2025-08-05T14:15:17.570576",
     "status": "completed"
    },
    "tags": []
   },
   "outputs": [],
   "source": [
    "submission = pd.DataFrame({\n",
    "    'id' : test['id'],\n",
    "    'Fertilizer Name' : test['preds']\n",
    "})"
   ]
  },
  {
   "cell_type": "code",
   "execution_count": 19,
   "id": "aa437578",
   "metadata": {
    "execution": {
     "iopub.execute_input": "2025-08-05T14:15:17.600892Z",
     "iopub.status.busy": "2025-08-05T14:15:17.600364Z",
     "iopub.status.idle": "2025-08-05T14:15:17.981592Z",
     "shell.execute_reply": "2025-08-05T14:15:17.980615Z"
    },
    "papermill": {
     "duration": 0.389341,
     "end_time": "2025-08-05T14:15:17.983385",
     "exception": false,
     "start_time": "2025-08-05T14:15:17.594044",
     "status": "completed"
    },
    "tags": []
   },
   "outputs": [],
   "source": [
    "submission.to_csv('submission.csv', index = False)"
   ]
  },
  {
   "cell_type": "code",
   "execution_count": null,
   "id": "ae2ff7db",
   "metadata": {
    "papermill": {
     "duration": 0.005017,
     "end_time": "2025-08-05T14:15:17.993260",
     "exception": false,
     "start_time": "2025-08-05T14:15:17.988243",
     "status": "completed"
    },
    "tags": []
   },
   "outputs": [],
   "source": []
  }
 ],
 "metadata": {
  "kaggle": {
   "accelerator": "none",
   "dataSources": [
    {
     "databundleVersionId": 12184666,
     "sourceId": 91717,
     "sourceType": "competition"
    }
   ],
   "dockerImageVersionId": 31089,
   "isGpuEnabled": false,
   "isInternetEnabled": true,
   "language": "python",
   "sourceType": "notebook"
  },
  "kernelspec": {
   "display_name": "Python 3",
   "language": "python",
   "name": "python3"
  },
  "language_info": {
   "codemirror_mode": {
    "name": "ipython",
    "version": 3
   },
   "file_extension": ".py",
   "mimetype": "text/x-python",
   "name": "python",
   "nbconvert_exporter": "python",
   "pygments_lexer": "ipython3",
   "version": "3.11.13"
  },
  "papermill": {
   "default_parameters": {},
   "duration": 40.188026,
   "end_time": "2025-08-05T14:15:19.020813",
   "environment_variables": {},
   "exception": null,
   "input_path": "__notebook__.ipynb",
   "output_path": "__notebook__.ipynb",
   "parameters": {},
   "start_time": "2025-08-05T14:14:38.832787",
   "version": "2.6.0"
  }
 },
 "nbformat": 4,
 "nbformat_minor": 5
}
