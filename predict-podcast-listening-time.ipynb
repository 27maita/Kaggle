{
 "cells": [
  {
   "cell_type": "code",
   "execution_count": 1,
   "id": "ef6d2bd4",
   "metadata": {
    "_cell_guid": "5d4ff88d-be27-4b06-a2fc-177b4f781e50",
    "_uuid": "6b9496dd-fc3c-48d7-aaf1-e7ff21a8a9ab",
    "collapsed": false,
    "execution": {
     "iopub.execute_input": "2025-08-05T20:27:05.010102Z",
     "iopub.status.busy": "2025-08-05T20:27:05.009689Z",
     "iopub.status.idle": "2025-08-05T20:27:06.721722Z",
     "shell.execute_reply": "2025-08-05T20:27:06.720869Z"
    },
    "jupyter": {
     "outputs_hidden": false
    },
    "papermill": {
     "duration": 1.718614,
     "end_time": "2025-08-05T20:27:06.723283",
     "exception": false,
     "start_time": "2025-08-05T20:27:05.004669",
     "status": "completed"
    },
    "tags": []
   },
   "outputs": [
    {
     "name": "stdout",
     "output_type": "stream",
     "text": [
      "/kaggle/input/playground-series-s5e4/sample_submission.csv\n",
      "/kaggle/input/playground-series-s5e4/train.csv\n",
      "/kaggle/input/playground-series-s5e4/test.csv\n"
     ]
    }
   ],
   "source": [
    "# This Python 3 environment comes with many helpful analytics libraries installed\n",
    "# It is defined by the kaggle/python Docker image: https://github.com/kaggle/docker-python\n",
    "# For example, here's several helpful packages to load\n",
    "\n",
    "import numpy as np # linear algebra\n",
    "import pandas as pd # data processing, CSV file I/O (e.g. pd.read_csv)\n",
    "\n",
    "# Input data files are available in the read-only \"../input/\" directory\n",
    "# For example, running this (by clicking run or pressing Shift+Enter) will list all files under the input directory\n",
    "\n",
    "import os\n",
    "for dirname, _, filenames in os.walk('/kaggle/input'):\n",
    "    for filename in filenames:\n",
    "        print(os.path.join(dirname, filename))\n",
    "\n",
    "# You can write up to 20GB to the current directory (/kaggle/working/) that gets preserved as output when you create a version using \"Save & Run All\" \n",
    "# You can also write temporary files to /kaggle/temp/, but they won't be saved outside of the current session"
   ]
  },
  {
   "cell_type": "code",
   "execution_count": 2,
   "id": "9d36c691",
   "metadata": {
    "_cell_guid": "df51174c-d26a-4587-9554-eb477ec1ba60",
    "_uuid": "7caf8763-1e6e-46c3-91c4-809cbc9f9b3d",
    "collapsed": false,
    "execution": {
     "iopub.execute_input": "2025-08-05T20:27:06.730666Z",
     "iopub.status.busy": "2025-08-05T20:27:06.730315Z",
     "iopub.status.idle": "2025-08-05T20:27:09.573723Z",
     "shell.execute_reply": "2025-08-05T20:27:09.572878Z"
    },
    "jupyter": {
     "outputs_hidden": false
    },
    "papermill": {
     "duration": 2.848848,
     "end_time": "2025-08-05T20:27:09.575449",
     "exception": false,
     "start_time": "2025-08-05T20:27:06.726601",
     "status": "completed"
    },
    "tags": []
   },
   "outputs": [],
   "source": [
    "train = pd.read_csv('/kaggle/input/playground-series-s5e4/train.csv')\n",
    "test = pd.read_csv('/kaggle/input/playground-series-s5e4/test.csv')"
   ]
  },
  {
   "cell_type": "code",
   "execution_count": 3,
   "id": "839b54bf",
   "metadata": {
    "_cell_guid": "473b3d7c-7c9b-4091-8637-4a0863c8749c",
    "_uuid": "7bfc127b-9d14-4827-9055-90de1a5683a3",
    "collapsed": false,
    "execution": {
     "iopub.execute_input": "2025-08-05T20:27:09.583135Z",
     "iopub.status.busy": "2025-08-05T20:27:09.582610Z",
     "iopub.status.idle": "2025-08-05T20:27:09.586751Z",
     "shell.execute_reply": "2025-08-05T20:27:09.586015Z"
    },
    "jupyter": {
     "outputs_hidden": false
    },
    "papermill": {
     "duration": 0.009323,
     "end_time": "2025-08-05T20:27:09.588210",
     "exception": false,
     "start_time": "2025-08-05T20:27:09.578887",
     "status": "completed"
    },
    "tags": []
   },
   "outputs": [],
   "source": [
    "categorical = ['Podcast_Name', 'Episode_Title', 'Genre', 'Publication_Day', 'Publication_Time', 'Episode_Sentiment']\n",
    "numerical = ['Episode_Length_minutes', 'Host_Popularity_percentage', 'Guest_Popularity_percentage', 'Number_of_Ads', 'Listening_Time_minutes']"
   ]
  },
  {
   "cell_type": "code",
   "execution_count": 4,
   "id": "2183b2e7",
   "metadata": {
    "_cell_guid": "7bc1340c-b5ac-4380-8eed-aed379019488",
    "_uuid": "c1350c8f-4c88-48a6-b8fa-9a39e3aa2701",
    "collapsed": false,
    "execution": {
     "iopub.execute_input": "2025-08-05T20:27:09.595514Z",
     "iopub.status.busy": "2025-08-05T20:27:09.594798Z",
     "iopub.status.idle": "2025-08-05T20:27:10.840101Z",
     "shell.execute_reply": "2025-08-05T20:27:10.839354Z"
    },
    "jupyter": {
     "outputs_hidden": false
    },
    "papermill": {
     "duration": 1.250722,
     "end_time": "2025-08-05T20:27:10.841900",
     "exception": false,
     "start_time": "2025-08-05T20:27:09.591178",
     "status": "completed"
    },
    "tags": []
   },
   "outputs": [],
   "source": [
    "from sklearn.preprocessing import OneHotEncoder\n",
    "\n",
    "def preprocess(df, categorical, numerical):\n",
    "    df = df.copy()\n",
    "    df.bfill(inplace = True)\n",
    "    for column in categorical:\n",
    "        encoder = OneHotEncoder(sparse=False, handle_unknown='ignore')\n",
    "        transformed = encoder.fit_transform(df[[column]])\n",
    "\n",
    "        col_names = [f\"{column}_{cat}\" for cat in encoder.categories_[0]]\n",
    "        one_hot_df = pd.DataFrame(transformed, columns=col_names, index=df.index)\n",
    "\n",
    "        df = pd.concat([df.drop(columns=[column]), one_hot_df], axis=1)\n",
    "    df.ffill(inplace = True)\n",
    "\n",
    "    return df"
   ]
  },
  {
   "cell_type": "code",
   "execution_count": 5,
   "id": "9f857818",
   "metadata": {
    "_cell_guid": "4a82bb5b-b742-4607-852c-7fe245a35cf5",
    "_uuid": "f3dc56bb-3ed7-41d8-a156-7ba5eb6d2528",
    "collapsed": false,
    "execution": {
     "iopub.execute_input": "2025-08-05T20:27:10.849934Z",
     "iopub.status.busy": "2025-08-05T20:27:10.849478Z",
     "iopub.status.idle": "2025-08-05T20:27:23.243645Z",
     "shell.execute_reply": "2025-08-05T20:27:23.242890Z"
    },
    "jupyter": {
     "outputs_hidden": false
    },
    "papermill": {
     "duration": 12.4,
     "end_time": "2025-08-05T20:27:23.245346",
     "exception": false,
     "start_time": "2025-08-05T20:27:10.845346",
     "status": "completed"
    },
    "tags": []
   },
   "outputs": [
    {
     "name": "stderr",
     "output_type": "stream",
     "text": [
      "/usr/local/lib/python3.11/dist-packages/sklearn/preprocessing/_encoders.py:868: FutureWarning: `sparse` was renamed to `sparse_output` in version 1.2 and will be removed in 1.4. `sparse_output` is ignored unless you leave `sparse` to its default value.\n",
      "  warnings.warn(\n",
      "/usr/local/lib/python3.11/dist-packages/sklearn/preprocessing/_encoders.py:868: FutureWarning: `sparse` was renamed to `sparse_output` in version 1.2 and will be removed in 1.4. `sparse_output` is ignored unless you leave `sparse` to its default value.\n",
      "  warnings.warn(\n",
      "/usr/local/lib/python3.11/dist-packages/sklearn/preprocessing/_encoders.py:868: FutureWarning: `sparse` was renamed to `sparse_output` in version 1.2 and will be removed in 1.4. `sparse_output` is ignored unless you leave `sparse` to its default value.\n",
      "  warnings.warn(\n",
      "/usr/local/lib/python3.11/dist-packages/sklearn/preprocessing/_encoders.py:868: FutureWarning: `sparse` was renamed to `sparse_output` in version 1.2 and will be removed in 1.4. `sparse_output` is ignored unless you leave `sparse` to its default value.\n",
      "  warnings.warn(\n",
      "/usr/local/lib/python3.11/dist-packages/sklearn/preprocessing/_encoders.py:868: FutureWarning: `sparse` was renamed to `sparse_output` in version 1.2 and will be removed in 1.4. `sparse_output` is ignored unless you leave `sparse` to its default value.\n",
      "  warnings.warn(\n",
      "/usr/local/lib/python3.11/dist-packages/sklearn/preprocessing/_encoders.py:868: FutureWarning: `sparse` was renamed to `sparse_output` in version 1.2 and will be removed in 1.4. `sparse_output` is ignored unless you leave `sparse` to its default value.\n",
      "  warnings.warn(\n"
     ]
    }
   ],
   "source": [
    "train = preprocess(train, categorical, numerical)"
   ]
  },
  {
   "cell_type": "code",
   "execution_count": 6,
   "id": "5555b7f8",
   "metadata": {
    "execution": {
     "iopub.execute_input": "2025-08-05T20:27:23.253425Z",
     "iopub.status.busy": "2025-08-05T20:27:23.252939Z",
     "iopub.status.idle": "2025-08-05T20:27:23.538353Z",
     "shell.execute_reply": "2025-08-05T20:27:23.537480Z"
    },
    "papermill": {
     "duration": 0.290785,
     "end_time": "2025-08-05T20:27:23.539726",
     "exception": false,
     "start_time": "2025-08-05T20:27:23.248941",
     "status": "completed"
    },
    "tags": []
   },
   "outputs": [
    {
     "data": {
      "text/html": [
       "<div>\n",
       "<style scoped>\n",
       "    .dataframe tbody tr th:only-of-type {\n",
       "        vertical-align: middle;\n",
       "    }\n",
       "\n",
       "    .dataframe tbody tr th {\n",
       "        vertical-align: top;\n",
       "    }\n",
       "\n",
       "    .dataframe thead th {\n",
       "        text-align: right;\n",
       "    }\n",
       "</style>\n",
       "<table border=\"1\" class=\"dataframe\">\n",
       "  <thead>\n",
       "    <tr style=\"text-align: right;\">\n",
       "      <th></th>\n",
       "      <th>id</th>\n",
       "      <th>Episode_Length_minutes</th>\n",
       "      <th>Host_Popularity_percentage</th>\n",
       "      <th>Guest_Popularity_percentage</th>\n",
       "      <th>Number_of_Ads</th>\n",
       "      <th>Listening_Time_minutes</th>\n",
       "      <th>Podcast_Name_Athlete's Arena</th>\n",
       "      <th>Podcast_Name_Brain Boost</th>\n",
       "      <th>Podcast_Name_Business Briefs</th>\n",
       "      <th>Podcast_Name_Business Insights</th>\n",
       "      <th>...</th>\n",
       "      <th>Publication_Day_Thursday</th>\n",
       "      <th>Publication_Day_Tuesday</th>\n",
       "      <th>Publication_Day_Wednesday</th>\n",
       "      <th>Publication_Time_Afternoon</th>\n",
       "      <th>Publication_Time_Evening</th>\n",
       "      <th>Publication_Time_Morning</th>\n",
       "      <th>Publication_Time_Night</th>\n",
       "      <th>Episode_Sentiment_Negative</th>\n",
       "      <th>Episode_Sentiment_Neutral</th>\n",
       "      <th>Episode_Sentiment_Positive</th>\n",
       "    </tr>\n",
       "  </thead>\n",
       "  <tbody>\n",
       "    <tr>\n",
       "      <th>0</th>\n",
       "      <td>0</td>\n",
       "      <td>119.80</td>\n",
       "      <td>74.81</td>\n",
       "      <td>75.95</td>\n",
       "      <td>0.0</td>\n",
       "      <td>31.41998</td>\n",
       "      <td>0.0</td>\n",
       "      <td>0.0</td>\n",
       "      <td>0.0</td>\n",
       "      <td>0.0</td>\n",
       "      <td>...</td>\n",
       "      <td>1.0</td>\n",
       "      <td>0.0</td>\n",
       "      <td>0.0</td>\n",
       "      <td>0.0</td>\n",
       "      <td>0.0</td>\n",
       "      <td>0.0</td>\n",
       "      <td>1.0</td>\n",
       "      <td>0.0</td>\n",
       "      <td>0.0</td>\n",
       "      <td>1.0</td>\n",
       "    </tr>\n",
       "    <tr>\n",
       "      <th>1</th>\n",
       "      <td>1</td>\n",
       "      <td>119.80</td>\n",
       "      <td>66.95</td>\n",
       "      <td>75.95</td>\n",
       "      <td>2.0</td>\n",
       "      <td>88.01241</td>\n",
       "      <td>0.0</td>\n",
       "      <td>0.0</td>\n",
       "      <td>0.0</td>\n",
       "      <td>0.0</td>\n",
       "      <td>...</td>\n",
       "      <td>0.0</td>\n",
       "      <td>0.0</td>\n",
       "      <td>0.0</td>\n",
       "      <td>1.0</td>\n",
       "      <td>0.0</td>\n",
       "      <td>0.0</td>\n",
       "      <td>0.0</td>\n",
       "      <td>1.0</td>\n",
       "      <td>0.0</td>\n",
       "      <td>0.0</td>\n",
       "    </tr>\n",
       "    <tr>\n",
       "      <th>2</th>\n",
       "      <td>2</td>\n",
       "      <td>73.90</td>\n",
       "      <td>69.97</td>\n",
       "      <td>8.97</td>\n",
       "      <td>0.0</td>\n",
       "      <td>44.92531</td>\n",
       "      <td>0.0</td>\n",
       "      <td>0.0</td>\n",
       "      <td>0.0</td>\n",
       "      <td>0.0</td>\n",
       "      <td>...</td>\n",
       "      <td>0.0</td>\n",
       "      <td>1.0</td>\n",
       "      <td>0.0</td>\n",
       "      <td>0.0</td>\n",
       "      <td>1.0</td>\n",
       "      <td>0.0</td>\n",
       "      <td>0.0</td>\n",
       "      <td>1.0</td>\n",
       "      <td>0.0</td>\n",
       "      <td>0.0</td>\n",
       "    </tr>\n",
       "    <tr>\n",
       "      <th>3</th>\n",
       "      <td>3</td>\n",
       "      <td>67.17</td>\n",
       "      <td>57.22</td>\n",
       "      <td>78.70</td>\n",
       "      <td>2.0</td>\n",
       "      <td>46.27824</td>\n",
       "      <td>0.0</td>\n",
       "      <td>0.0</td>\n",
       "      <td>0.0</td>\n",
       "      <td>0.0</td>\n",
       "      <td>...</td>\n",
       "      <td>0.0</td>\n",
       "      <td>0.0</td>\n",
       "      <td>0.0</td>\n",
       "      <td>0.0</td>\n",
       "      <td>0.0</td>\n",
       "      <td>1.0</td>\n",
       "      <td>0.0</td>\n",
       "      <td>0.0</td>\n",
       "      <td>0.0</td>\n",
       "      <td>1.0</td>\n",
       "    </tr>\n",
       "    <tr>\n",
       "      <th>4</th>\n",
       "      <td>4</td>\n",
       "      <td>110.51</td>\n",
       "      <td>80.07</td>\n",
       "      <td>58.68</td>\n",
       "      <td>3.0</td>\n",
       "      <td>75.61031</td>\n",
       "      <td>0.0</td>\n",
       "      <td>0.0</td>\n",
       "      <td>0.0</td>\n",
       "      <td>0.0</td>\n",
       "      <td>...</td>\n",
       "      <td>0.0</td>\n",
       "      <td>0.0</td>\n",
       "      <td>0.0</td>\n",
       "      <td>1.0</td>\n",
       "      <td>0.0</td>\n",
       "      <td>0.0</td>\n",
       "      <td>0.0</td>\n",
       "      <td>0.0</td>\n",
       "      <td>1.0</td>\n",
       "      <td>0.0</td>\n",
       "    </tr>\n",
       "    <tr>\n",
       "      <th>...</th>\n",
       "      <td>...</td>\n",
       "      <td>...</td>\n",
       "      <td>...</td>\n",
       "      <td>...</td>\n",
       "      <td>...</td>\n",
       "      <td>...</td>\n",
       "      <td>...</td>\n",
       "      <td>...</td>\n",
       "      <td>...</td>\n",
       "      <td>...</td>\n",
       "      <td>...</td>\n",
       "      <td>...</td>\n",
       "      <td>...</td>\n",
       "      <td>...</td>\n",
       "      <td>...</td>\n",
       "      <td>...</td>\n",
       "      <td>...</td>\n",
       "      <td>...</td>\n",
       "      <td>...</td>\n",
       "      <td>...</td>\n",
       "      <td>...</td>\n",
       "    </tr>\n",
       "    <tr>\n",
       "      <th>749995</th>\n",
       "      <td>749995</td>\n",
       "      <td>75.66</td>\n",
       "      <td>69.36</td>\n",
       "      <td>84.89</td>\n",
       "      <td>0.0</td>\n",
       "      <td>56.87058</td>\n",
       "      <td>0.0</td>\n",
       "      <td>0.0</td>\n",
       "      <td>0.0</td>\n",
       "      <td>0.0</td>\n",
       "      <td>...</td>\n",
       "      <td>0.0</td>\n",
       "      <td>0.0</td>\n",
       "      <td>0.0</td>\n",
       "      <td>0.0</td>\n",
       "      <td>0.0</td>\n",
       "      <td>1.0</td>\n",
       "      <td>0.0</td>\n",
       "      <td>1.0</td>\n",
       "      <td>0.0</td>\n",
       "      <td>0.0</td>\n",
       "    </tr>\n",
       "    <tr>\n",
       "      <th>749996</th>\n",
       "      <td>749996</td>\n",
       "      <td>75.75</td>\n",
       "      <td>35.21</td>\n",
       "      <td>84.89</td>\n",
       "      <td>2.0</td>\n",
       "      <td>45.46242</td>\n",
       "      <td>0.0</td>\n",
       "      <td>0.0</td>\n",
       "      <td>1.0</td>\n",
       "      <td>0.0</td>\n",
       "      <td>...</td>\n",
       "      <td>0.0</td>\n",
       "      <td>0.0</td>\n",
       "      <td>0.0</td>\n",
       "      <td>0.0</td>\n",
       "      <td>0.0</td>\n",
       "      <td>0.0</td>\n",
       "      <td>1.0</td>\n",
       "      <td>0.0</td>\n",
       "      <td>1.0</td>\n",
       "      <td>0.0</td>\n",
       "    </tr>\n",
       "    <tr>\n",
       "      <th>749997</th>\n",
       "      <td>749997</td>\n",
       "      <td>30.98</td>\n",
       "      <td>78.58</td>\n",
       "      <td>84.89</td>\n",
       "      <td>0.0</td>\n",
       "      <td>15.26000</td>\n",
       "      <td>0.0</td>\n",
       "      <td>0.0</td>\n",
       "      <td>0.0</td>\n",
       "      <td>0.0</td>\n",
       "      <td>...</td>\n",
       "      <td>1.0</td>\n",
       "      <td>0.0</td>\n",
       "      <td>0.0</td>\n",
       "      <td>0.0</td>\n",
       "      <td>0.0</td>\n",
       "      <td>1.0</td>\n",
       "      <td>0.0</td>\n",
       "      <td>1.0</td>\n",
       "      <td>0.0</td>\n",
       "      <td>0.0</td>\n",
       "    </tr>\n",
       "    <tr>\n",
       "      <th>749998</th>\n",
       "      <td>749998</td>\n",
       "      <td>108.98</td>\n",
       "      <td>45.39</td>\n",
       "      <td>93.27</td>\n",
       "      <td>0.0</td>\n",
       "      <td>100.72939</td>\n",
       "      <td>0.0</td>\n",
       "      <td>0.0</td>\n",
       "      <td>0.0</td>\n",
       "      <td>0.0</td>\n",
       "      <td>...</td>\n",
       "      <td>1.0</td>\n",
       "      <td>0.0</td>\n",
       "      <td>0.0</td>\n",
       "      <td>0.0</td>\n",
       "      <td>0.0</td>\n",
       "      <td>1.0</td>\n",
       "      <td>0.0</td>\n",
       "      <td>1.0</td>\n",
       "      <td>0.0</td>\n",
       "      <td>0.0</td>\n",
       "    </tr>\n",
       "    <tr>\n",
       "      <th>749999</th>\n",
       "      <td>749999</td>\n",
       "      <td>24.10</td>\n",
       "      <td>22.45</td>\n",
       "      <td>36.72</td>\n",
       "      <td>0.0</td>\n",
       "      <td>11.94439</td>\n",
       "      <td>0.0</td>\n",
       "      <td>0.0</td>\n",
       "      <td>0.0</td>\n",
       "      <td>0.0</td>\n",
       "      <td>...</td>\n",
       "      <td>0.0</td>\n",
       "      <td>0.0</td>\n",
       "      <td>0.0</td>\n",
       "      <td>0.0</td>\n",
       "      <td>0.0</td>\n",
       "      <td>0.0</td>\n",
       "      <td>1.0</td>\n",
       "      <td>0.0</td>\n",
       "      <td>1.0</td>\n",
       "      <td>0.0</td>\n",
       "    </tr>\n",
       "  </tbody>\n",
       "</table>\n",
       "<p>750000 rows × 178 columns</p>\n",
       "</div>"
      ],
      "text/plain": [
       "            id  Episode_Length_minutes  Host_Popularity_percentage  \\\n",
       "0            0                  119.80                       74.81   \n",
       "1            1                  119.80                       66.95   \n",
       "2            2                   73.90                       69.97   \n",
       "3            3                   67.17                       57.22   \n",
       "4            4                  110.51                       80.07   \n",
       "...        ...                     ...                         ...   \n",
       "749995  749995                   75.66                       69.36   \n",
       "749996  749996                   75.75                       35.21   \n",
       "749997  749997                   30.98                       78.58   \n",
       "749998  749998                  108.98                       45.39   \n",
       "749999  749999                   24.10                       22.45   \n",
       "\n",
       "        Guest_Popularity_percentage  Number_of_Ads  Listening_Time_minutes  \\\n",
       "0                             75.95            0.0                31.41998   \n",
       "1                             75.95            2.0                88.01241   \n",
       "2                              8.97            0.0                44.92531   \n",
       "3                             78.70            2.0                46.27824   \n",
       "4                             58.68            3.0                75.61031   \n",
       "...                             ...            ...                     ...   \n",
       "749995                        84.89            0.0                56.87058   \n",
       "749996                        84.89            2.0                45.46242   \n",
       "749997                        84.89            0.0                15.26000   \n",
       "749998                        93.27            0.0               100.72939   \n",
       "749999                        36.72            0.0                11.94439   \n",
       "\n",
       "        Podcast_Name_Athlete's Arena  Podcast_Name_Brain Boost  \\\n",
       "0                                0.0                       0.0   \n",
       "1                                0.0                       0.0   \n",
       "2                                0.0                       0.0   \n",
       "3                                0.0                       0.0   \n",
       "4                                0.0                       0.0   \n",
       "...                              ...                       ...   \n",
       "749995                           0.0                       0.0   \n",
       "749996                           0.0                       0.0   \n",
       "749997                           0.0                       0.0   \n",
       "749998                           0.0                       0.0   \n",
       "749999                           0.0                       0.0   \n",
       "\n",
       "        Podcast_Name_Business Briefs  Podcast_Name_Business Insights  ...  \\\n",
       "0                                0.0                             0.0  ...   \n",
       "1                                0.0                             0.0  ...   \n",
       "2                                0.0                             0.0  ...   \n",
       "3                                0.0                             0.0  ...   \n",
       "4                                0.0                             0.0  ...   \n",
       "...                              ...                             ...  ...   \n",
       "749995                           0.0                             0.0  ...   \n",
       "749996                           1.0                             0.0  ...   \n",
       "749997                           0.0                             0.0  ...   \n",
       "749998                           0.0                             0.0  ...   \n",
       "749999                           0.0                             0.0  ...   \n",
       "\n",
       "        Publication_Day_Thursday  Publication_Day_Tuesday  \\\n",
       "0                            1.0                      0.0   \n",
       "1                            0.0                      0.0   \n",
       "2                            0.0                      1.0   \n",
       "3                            0.0                      0.0   \n",
       "4                            0.0                      0.0   \n",
       "...                          ...                      ...   \n",
       "749995                       0.0                      0.0   \n",
       "749996                       0.0                      0.0   \n",
       "749997                       1.0                      0.0   \n",
       "749998                       1.0                      0.0   \n",
       "749999                       0.0                      0.0   \n",
       "\n",
       "        Publication_Day_Wednesday  Publication_Time_Afternoon  \\\n",
       "0                             0.0                         0.0   \n",
       "1                             0.0                         1.0   \n",
       "2                             0.0                         0.0   \n",
       "3                             0.0                         0.0   \n",
       "4                             0.0                         1.0   \n",
       "...                           ...                         ...   \n",
       "749995                        0.0                         0.0   \n",
       "749996                        0.0                         0.0   \n",
       "749997                        0.0                         0.0   \n",
       "749998                        0.0                         0.0   \n",
       "749999                        0.0                         0.0   \n",
       "\n",
       "        Publication_Time_Evening  Publication_Time_Morning  \\\n",
       "0                            0.0                       0.0   \n",
       "1                            0.0                       0.0   \n",
       "2                            1.0                       0.0   \n",
       "3                            0.0                       1.0   \n",
       "4                            0.0                       0.0   \n",
       "...                          ...                       ...   \n",
       "749995                       0.0                       1.0   \n",
       "749996                       0.0                       0.0   \n",
       "749997                       0.0                       1.0   \n",
       "749998                       0.0                       1.0   \n",
       "749999                       0.0                       0.0   \n",
       "\n",
       "        Publication_Time_Night  Episode_Sentiment_Negative  \\\n",
       "0                          1.0                         0.0   \n",
       "1                          0.0                         1.0   \n",
       "2                          0.0                         1.0   \n",
       "3                          0.0                         0.0   \n",
       "4                          0.0                         0.0   \n",
       "...                        ...                         ...   \n",
       "749995                     0.0                         1.0   \n",
       "749996                     1.0                         0.0   \n",
       "749997                     0.0                         1.0   \n",
       "749998                     0.0                         1.0   \n",
       "749999                     1.0                         0.0   \n",
       "\n",
       "        Episode_Sentiment_Neutral  Episode_Sentiment_Positive  \n",
       "0                             0.0                         1.0  \n",
       "1                             0.0                         0.0  \n",
       "2                             0.0                         0.0  \n",
       "3                             0.0                         1.0  \n",
       "4                             1.0                         0.0  \n",
       "...                           ...                         ...  \n",
       "749995                        0.0                         0.0  \n",
       "749996                        1.0                         0.0  \n",
       "749997                        0.0                         0.0  \n",
       "749998                        0.0                         0.0  \n",
       "749999                        1.0                         0.0  \n",
       "\n",
       "[750000 rows x 178 columns]"
      ]
     },
     "execution_count": 6,
     "metadata": {},
     "output_type": "execute_result"
    }
   ],
   "source": [
    "train"
   ]
  },
  {
   "cell_type": "code",
   "execution_count": 7,
   "id": "ddb9df6c",
   "metadata": {
    "_cell_guid": "afac538a-4527-47cd-8224-214c32592c8f",
    "_uuid": "fb891fd2-3193-4c45-b6c1-4bb9fc5603f8",
    "collapsed": false,
    "execution": {
     "iopub.execute_input": "2025-08-05T20:27:23.548948Z",
     "iopub.status.busy": "2025-08-05T20:27:23.548636Z",
     "iopub.status.idle": "2025-08-05T20:27:23.857951Z",
     "shell.execute_reply": "2025-08-05T20:27:23.857221Z"
    },
    "jupyter": {
     "outputs_hidden": false
    },
    "papermill": {
     "duration": 0.31546,
     "end_time": "2025-08-05T20:27:23.859620",
     "exception": false,
     "start_time": "2025-08-05T20:27:23.544160",
     "status": "completed"
    },
    "tags": []
   },
   "outputs": [],
   "source": [
    "x_train = train.drop(columns = ['id', 'Listening_Time_minutes'])\n",
    "y_train = train['Listening_Time_minutes']"
   ]
  },
  {
   "cell_type": "code",
   "execution_count": 8,
   "id": "262038ce",
   "metadata": {
    "execution": {
     "iopub.execute_input": "2025-08-05T20:27:23.868668Z",
     "iopub.status.busy": "2025-08-05T20:27:23.868361Z",
     "iopub.status.idle": "2025-08-05T20:27:42.689358Z",
     "shell.execute_reply": "2025-08-05T20:27:42.688323Z"
    },
    "papermill": {
     "duration": 18.827029,
     "end_time": "2025-08-05T20:27:42.690732",
     "exception": false,
     "start_time": "2025-08-05T20:27:23.863703",
     "status": "completed"
    },
    "tags": []
   },
   "outputs": [
    {
     "data": {
      "text/html": [
       "<style>#sk-container-id-1 {color: black;background-color: white;}#sk-container-id-1 pre{padding: 0;}#sk-container-id-1 div.sk-toggleable {background-color: white;}#sk-container-id-1 label.sk-toggleable__label {cursor: pointer;display: block;width: 100%;margin-bottom: 0;padding: 0.3em;box-sizing: border-box;text-align: center;}#sk-container-id-1 label.sk-toggleable__label-arrow:before {content: \"▸\";float: left;margin-right: 0.25em;color: #696969;}#sk-container-id-1 label.sk-toggleable__label-arrow:hover:before {color: black;}#sk-container-id-1 div.sk-estimator:hover label.sk-toggleable__label-arrow:before {color: black;}#sk-container-id-1 div.sk-toggleable__content {max-height: 0;max-width: 0;overflow: hidden;text-align: left;background-color: #f0f8ff;}#sk-container-id-1 div.sk-toggleable__content pre {margin: 0.2em;color: black;border-radius: 0.25em;background-color: #f0f8ff;}#sk-container-id-1 input.sk-toggleable__control:checked~div.sk-toggleable__content {max-height: 200px;max-width: 100%;overflow: auto;}#sk-container-id-1 input.sk-toggleable__control:checked~label.sk-toggleable__label-arrow:before {content: \"▾\";}#sk-container-id-1 div.sk-estimator input.sk-toggleable__control:checked~label.sk-toggleable__label {background-color: #d4ebff;}#sk-container-id-1 div.sk-label input.sk-toggleable__control:checked~label.sk-toggleable__label {background-color: #d4ebff;}#sk-container-id-1 input.sk-hidden--visually {border: 0;clip: rect(1px 1px 1px 1px);clip: rect(1px, 1px, 1px, 1px);height: 1px;margin: -1px;overflow: hidden;padding: 0;position: absolute;width: 1px;}#sk-container-id-1 div.sk-estimator {font-family: monospace;background-color: #f0f8ff;border: 1px dotted black;border-radius: 0.25em;box-sizing: border-box;margin-bottom: 0.5em;}#sk-container-id-1 div.sk-estimator:hover {background-color: #d4ebff;}#sk-container-id-1 div.sk-parallel-item::after {content: \"\";width: 100%;border-bottom: 1px solid gray;flex-grow: 1;}#sk-container-id-1 div.sk-label:hover label.sk-toggleable__label {background-color: #d4ebff;}#sk-container-id-1 div.sk-serial::before {content: \"\";position: absolute;border-left: 1px solid gray;box-sizing: border-box;top: 0;bottom: 0;left: 50%;z-index: 0;}#sk-container-id-1 div.sk-serial {display: flex;flex-direction: column;align-items: center;background-color: white;padding-right: 0.2em;padding-left: 0.2em;position: relative;}#sk-container-id-1 div.sk-item {position: relative;z-index: 1;}#sk-container-id-1 div.sk-parallel {display: flex;align-items: stretch;justify-content: center;background-color: white;position: relative;}#sk-container-id-1 div.sk-item::before, #sk-container-id-1 div.sk-parallel-item::before {content: \"\";position: absolute;border-left: 1px solid gray;box-sizing: border-box;top: 0;bottom: 0;left: 50%;z-index: -1;}#sk-container-id-1 div.sk-parallel-item {display: flex;flex-direction: column;z-index: 1;position: relative;background-color: white;}#sk-container-id-1 div.sk-parallel-item:first-child::after {align-self: flex-end;width: 50%;}#sk-container-id-1 div.sk-parallel-item:last-child::after {align-self: flex-start;width: 50%;}#sk-container-id-1 div.sk-parallel-item:only-child::after {width: 0;}#sk-container-id-1 div.sk-dashed-wrapped {border: 1px dashed gray;margin: 0 0.4em 0.5em 0.4em;box-sizing: border-box;padding-bottom: 0.4em;background-color: white;}#sk-container-id-1 div.sk-label label {font-family: monospace;font-weight: bold;display: inline-block;line-height: 1.2em;}#sk-container-id-1 div.sk-label-container {text-align: center;}#sk-container-id-1 div.sk-container {/* jupyter's `normalize.less` sets `[hidden] { display: none; }` but bootstrap.min.css set `[hidden] { display: none !important; }` so we also need the `!important` here to be able to override the default hidden behavior on the sphinx rendered scikit-learn.org. See: https://github.com/scikit-learn/scikit-learn/issues/21755 */display: inline-block !important;position: relative;}#sk-container-id-1 div.sk-text-repr-fallback {display: none;}</style><div id=\"sk-container-id-1\" class=\"sk-top-container\"><div class=\"sk-text-repr-fallback\"><pre>XGBRegressor(base_score=None, booster=None, callbacks=None,\n",
       "             colsample_bylevel=None, colsample_bynode=None,\n",
       "             colsample_bytree=0.8, device=None, early_stopping_rounds=None,\n",
       "             enable_categorical=False, eval_metric=None, feature_types=None,\n",
       "             gamma=None, grow_policy=None, importance_type=None,\n",
       "             interaction_constraints=None, learning_rate=0.1, max_bin=None,\n",
       "             max_cat_threshold=None, max_cat_to_onehot=None,\n",
       "             max_delta_step=None, max_depth=6, max_leaves=None,\n",
       "             min_child_weight=None, missing=nan, monotone_constraints=None,\n",
       "             multi_strategy=None, n_estimators=100, n_jobs=-1,\n",
       "             num_parallel_tree=None, random_state=42, ...)</pre><b>In a Jupyter environment, please rerun this cell to show the HTML representation or trust the notebook. <br />On GitHub, the HTML representation is unable to render, please try loading this page with nbviewer.org.</b></div><div class=\"sk-container\" hidden><div class=\"sk-item\"><div class=\"sk-estimator sk-toggleable\"><input class=\"sk-toggleable__control sk-hidden--visually\" id=\"sk-estimator-id-1\" type=\"checkbox\" checked><label for=\"sk-estimator-id-1\" class=\"sk-toggleable__label sk-toggleable__label-arrow\">XGBRegressor</label><div class=\"sk-toggleable__content\"><pre>XGBRegressor(base_score=None, booster=None, callbacks=None,\n",
       "             colsample_bylevel=None, colsample_bynode=None,\n",
       "             colsample_bytree=0.8, device=None, early_stopping_rounds=None,\n",
       "             enable_categorical=False, eval_metric=None, feature_types=None,\n",
       "             gamma=None, grow_policy=None, importance_type=None,\n",
       "             interaction_constraints=None, learning_rate=0.1, max_bin=None,\n",
       "             max_cat_threshold=None, max_cat_to_onehot=None,\n",
       "             max_delta_step=None, max_depth=6, max_leaves=None,\n",
       "             min_child_weight=None, missing=nan, monotone_constraints=None,\n",
       "             multi_strategy=None, n_estimators=100, n_jobs=-1,\n",
       "             num_parallel_tree=None, random_state=42, ...)</pre></div></div></div></div></div>"
      ],
      "text/plain": [
       "XGBRegressor(base_score=None, booster=None, callbacks=None,\n",
       "             colsample_bylevel=None, colsample_bynode=None,\n",
       "             colsample_bytree=0.8, device=None, early_stopping_rounds=None,\n",
       "             enable_categorical=False, eval_metric=None, feature_types=None,\n",
       "             gamma=None, grow_policy=None, importance_type=None,\n",
       "             interaction_constraints=None, learning_rate=0.1, max_bin=None,\n",
       "             max_cat_threshold=None, max_cat_to_onehot=None,\n",
       "             max_delta_step=None, max_depth=6, max_leaves=None,\n",
       "             min_child_weight=None, missing=nan, monotone_constraints=None,\n",
       "             multi_strategy=None, n_estimators=100, n_jobs=-1,\n",
       "             num_parallel_tree=None, random_state=42, ...)"
      ]
     },
     "execution_count": 8,
     "metadata": {},
     "output_type": "execute_result"
    }
   ],
   "source": [
    "import xgboost as xgb\n",
    "\n",
    "xgb = xgb.XGBRegressor(\n",
    "    n_estimators=100,       # how many trees to build\n",
    "    learning_rate=0.1,      # how fast we learn; lower = safer\n",
    "    max_depth=6,            # how deep each tree goes\n",
    "    subsample=0.8,          # % of data to sample per tree (boosts generalization)\n",
    "    colsample_bytree=0.8,   # % of features per tree (prevents overfitting)\n",
    "    random_state=42,        # so results don’t change every time\n",
    "    n_jobs=-1,              # use all the cores like a multitasking queen\n",
    "    verbosity=2             # 0 = silent, 1 = warning, 2 = info, 3 = debug\n",
    ")\n",
    "\n",
    "xgb.fit(x_train, y_train)"
   ]
  },
  {
   "cell_type": "code",
   "execution_count": 9,
   "id": "27678f00",
   "metadata": {
    "execution": {
     "iopub.execute_input": "2025-08-05T20:27:42.700165Z",
     "iopub.status.busy": "2025-08-05T20:27:42.699884Z",
     "iopub.status.idle": "2025-08-05T20:27:46.461428Z",
     "shell.execute_reply": "2025-08-05T20:27:46.460691Z"
    },
    "papermill": {
     "duration": 3.76815,
     "end_time": "2025-08-05T20:27:46.463223",
     "exception": false,
     "start_time": "2025-08-05T20:27:42.695073",
     "status": "completed"
    },
    "tags": []
   },
   "outputs": [
    {
     "name": "stderr",
     "output_type": "stream",
     "text": [
      "/usr/local/lib/python3.11/dist-packages/sklearn/preprocessing/_encoders.py:868: FutureWarning: `sparse` was renamed to `sparse_output` in version 1.2 and will be removed in 1.4. `sparse_output` is ignored unless you leave `sparse` to its default value.\n",
      "  warnings.warn(\n",
      "/usr/local/lib/python3.11/dist-packages/sklearn/preprocessing/_encoders.py:868: FutureWarning: `sparse` was renamed to `sparse_output` in version 1.2 and will be removed in 1.4. `sparse_output` is ignored unless you leave `sparse` to its default value.\n",
      "  warnings.warn(\n",
      "/usr/local/lib/python3.11/dist-packages/sklearn/preprocessing/_encoders.py:868: FutureWarning: `sparse` was renamed to `sparse_output` in version 1.2 and will be removed in 1.4. `sparse_output` is ignored unless you leave `sparse` to its default value.\n",
      "  warnings.warn(\n",
      "/usr/local/lib/python3.11/dist-packages/sklearn/preprocessing/_encoders.py:868: FutureWarning: `sparse` was renamed to `sparse_output` in version 1.2 and will be removed in 1.4. `sparse_output` is ignored unless you leave `sparse` to its default value.\n",
      "  warnings.warn(\n",
      "/usr/local/lib/python3.11/dist-packages/sklearn/preprocessing/_encoders.py:868: FutureWarning: `sparse` was renamed to `sparse_output` in version 1.2 and will be removed in 1.4. `sparse_output` is ignored unless you leave `sparse` to its default value.\n",
      "  warnings.warn(\n",
      "/usr/local/lib/python3.11/dist-packages/sklearn/preprocessing/_encoders.py:868: FutureWarning: `sparse` was renamed to `sparse_output` in version 1.2 and will be removed in 1.4. `sparse_output` is ignored unless you leave `sparse` to its default value.\n",
      "  warnings.warn(\n"
     ]
    }
   ],
   "source": [
    "test = preprocess(test, categorical, numerical)"
   ]
  },
  {
   "cell_type": "code",
   "execution_count": 10,
   "id": "9896101d",
   "metadata": {
    "execution": {
     "iopub.execute_input": "2025-08-05T20:27:46.473454Z",
     "iopub.status.busy": "2025-08-05T20:27:46.472690Z",
     "iopub.status.idle": "2025-08-05T20:27:46.581907Z",
     "shell.execute_reply": "2025-08-05T20:27:46.580859Z"
    },
    "papermill": {
     "duration": 0.115932,
     "end_time": "2025-08-05T20:27:46.583688",
     "exception": false,
     "start_time": "2025-08-05T20:27:46.467756",
     "status": "completed"
    },
    "tags": []
   },
   "outputs": [],
   "source": [
    "x_test = test.drop(columns = ['id'])"
   ]
  },
  {
   "cell_type": "code",
   "execution_count": 11,
   "id": "48e89694",
   "metadata": {
    "execution": {
     "iopub.execute_input": "2025-08-05T20:27:46.594777Z",
     "iopub.status.busy": "2025-08-05T20:27:46.594197Z",
     "iopub.status.idle": "2025-08-05T20:27:47.131990Z",
     "shell.execute_reply": "2025-08-05T20:27:47.131319Z"
    },
    "papermill": {
     "duration": 0.544535,
     "end_time": "2025-08-05T20:27:47.133661",
     "exception": false,
     "start_time": "2025-08-05T20:27:46.589126",
     "status": "completed"
    },
    "tags": []
   },
   "outputs": [],
   "source": [
    "preds = xgb.predict(x_test)\n",
    "test['preds'] = preds"
   ]
  },
  {
   "cell_type": "code",
   "execution_count": 12,
   "id": "4c2353b0",
   "metadata": {
    "execution": {
     "iopub.execute_input": "2025-08-05T20:27:47.143783Z",
     "iopub.status.busy": "2025-08-05T20:27:47.143035Z",
     "iopub.status.idle": "2025-08-05T20:27:47.148494Z",
     "shell.execute_reply": "2025-08-05T20:27:47.147623Z"
    },
    "papermill": {
     "duration": 0.011768,
     "end_time": "2025-08-05T20:27:47.149842",
     "exception": false,
     "start_time": "2025-08-05T20:27:47.138074",
     "status": "completed"
    },
    "tags": []
   },
   "outputs": [],
   "source": [
    "submission = pd.DataFrame({\n",
    "    'id' : test['id'],\n",
    "    'Listening_Time_minutes' : test['preds']\n",
    "})"
   ]
  },
  {
   "cell_type": "code",
   "execution_count": 13,
   "id": "e0387b35",
   "metadata": {
    "execution": {
     "iopub.execute_input": "2025-08-05T20:27:47.159657Z",
     "iopub.status.busy": "2025-08-05T20:27:47.159207Z",
     "iopub.status.idle": "2025-08-05T20:27:47.551553Z",
     "shell.execute_reply": "2025-08-05T20:27:47.550671Z"
    },
    "papermill": {
     "duration": 0.399007,
     "end_time": "2025-08-05T20:27:47.553230",
     "exception": false,
     "start_time": "2025-08-05T20:27:47.154223",
     "status": "completed"
    },
    "tags": []
   },
   "outputs": [],
   "source": [
    "submission.to_csv('submission.csv', index = False)"
   ]
  },
  {
   "cell_type": "code",
   "execution_count": null,
   "id": "1c53933d",
   "metadata": {
    "papermill": {
     "duration": 0.003978,
     "end_time": "2025-08-05T20:27:47.561705",
     "exception": false,
     "start_time": "2025-08-05T20:27:47.557727",
     "status": "completed"
    },
    "tags": []
   },
   "outputs": [],
   "source": []
  }
 ],
 "metadata": {
  "kaggle": {
   "accelerator": "none",
   "dataSources": [
    {
     "databundleVersionId": 11351736,
     "sourceId": 91715,
     "sourceType": "competition"
    }
   ],
   "dockerImageVersionId": 31089,
   "isGpuEnabled": false,
   "isInternetEnabled": true,
   "language": "python",
   "sourceType": "notebook"
  },
  "kernelspec": {
   "display_name": "Python 3",
   "language": "python",
   "name": "python3"
  },
  "language_info": {
   "codemirror_mode": {
    "name": "ipython",
    "version": 3
   },
   "file_extension": ".py",
   "mimetype": "text/x-python",
   "name": "python",
   "nbconvert_exporter": "python",
   "pygments_lexer": "ipython3",
   "version": "3.11.13"
  },
  "papermill": {
   "default_parameters": {},
   "duration": 47.707092,
   "end_time": "2025-08-05T20:27:48.184354",
   "environment_variables": {},
   "exception": null,
   "input_path": "__notebook__.ipynb",
   "output_path": "__notebook__.ipynb",
   "parameters": {},
   "start_time": "2025-08-05T20:27:00.477262",
   "version": "2.6.0"
  }
 },
 "nbformat": 4,
 "nbformat_minor": 5
}
