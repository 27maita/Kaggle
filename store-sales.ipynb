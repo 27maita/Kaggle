{
 "cells": [
  {
   "cell_type": "code",
   "execution_count": 1,
   "id": "2920556f",
   "metadata": {
    "_cell_guid": "b1076dfc-b9ad-4769-8c92-a6c4dae69d19",
    "_uuid": "8f2839f25d086af736a60e9eeb907d3b93b6e0e5",
    "execution": {
     "iopub.execute_input": "2025-07-24T20:50:55.809645Z",
     "iopub.status.busy": "2025-07-24T20:50:55.809360Z",
     "iopub.status.idle": "2025-07-24T20:50:57.484658Z",
     "shell.execute_reply": "2025-07-24T20:50:57.483709Z"
    },
    "papermill": {
     "duration": 1.680189,
     "end_time": "2025-07-24T20:50:57.485861",
     "exception": false,
     "start_time": "2025-07-24T20:50:55.805672",
     "status": "completed"
    },
    "tags": []
   },
   "outputs": [
    {
     "name": "stdout",
     "output_type": "stream",
     "text": [
      "/kaggle/input/store-sales-time-series-forecasting/oil.csv\n",
      "/kaggle/input/store-sales-time-series-forecasting/sample_submission.csv\n",
      "/kaggle/input/store-sales-time-series-forecasting/holidays_events.csv\n",
      "/kaggle/input/store-sales-time-series-forecasting/stores.csv\n",
      "/kaggle/input/store-sales-time-series-forecasting/train.csv\n",
      "/kaggle/input/store-sales-time-series-forecasting/test.csv\n",
      "/kaggle/input/store-sales-time-series-forecasting/transactions.csv\n"
     ]
    }
   ],
   "source": [
    "# This Python 3 environment comes with many helpful analytics libraries installed\n",
    "# It is defined by the kaggle/python Docker image: https://github.com/kaggle/docker-python\n",
    "# For example, here's several helpful packages to load\n",
    "\n",
    "import numpy as np # linear algebra\n",
    "import pandas as pd # data processing, CSV file I/O (e.g. pd.read_csv)\n",
    "\n",
    "# Input data files are available in the read-only \"../input/\" directory\n",
    "# For example, running this (by clicking run or pressing Shift+Enter) will list all files under the input directory\n",
    "\n",
    "import os\n",
    "for dirname, _, filenames in os.walk('/kaggle/input'):\n",
    "    for filename in filenames:\n",
    "        print(os.path.join(dirname, filename))\n",
    "\n",
    "# You can write up to 20GB to the current directory (/kaggle/working/) that gets preserved as output when you create a version using \"Save & Run All\" \n",
    "# You can also write temporary files to /kaggle/temp/, but they won't be saved outside of the current session"
   ]
  },
  {
   "cell_type": "code",
   "execution_count": 2,
   "id": "972453a4",
   "metadata": {
    "execution": {
     "iopub.execute_input": "2025-07-24T20:50:57.490521Z",
     "iopub.status.busy": "2025-07-24T20:50:57.490194Z",
     "iopub.status.idle": "2025-07-24T20:50:59.488463Z",
     "shell.execute_reply": "2025-07-24T20:50:59.487738Z"
    },
    "papermill": {
     "duration": 2.002085,
     "end_time": "2025-07-24T20:50:59.490061",
     "exception": false,
     "start_time": "2025-07-24T20:50:57.487976",
     "status": "completed"
    },
    "tags": []
   },
   "outputs": [],
   "source": [
    "import matplotlib.pyplot as plt\n",
    "from sklearn.linear_model import LinearRegression\n",
    "from sklearn.multioutput import RegressorChain\n",
    "from sklearn.preprocessing import LabelEncoder\n",
    "from xgboost import XGBRegressor\n",
    "from sklearn.preprocessing import MinMaxScaler\n",
    "from sklearn.preprocessing import OneHotEncoder"
   ]
  },
  {
   "cell_type": "code",
   "execution_count": 3,
   "id": "b4ea7dc3",
   "metadata": {
    "execution": {
     "iopub.execute_input": "2025-07-24T20:50:59.495072Z",
     "iopub.status.busy": "2025-07-24T20:50:59.494644Z",
     "iopub.status.idle": "2025-07-24T20:51:01.949458Z",
     "shell.execute_reply": "2025-07-24T20:51:01.948266Z"
    },
    "papermill": {
     "duration": 2.45879,
     "end_time": "2025-07-24T20:51:01.950935",
     "exception": false,
     "start_time": "2025-07-24T20:50:59.492145",
     "status": "completed"
    },
    "tags": []
   },
   "outputs": [],
   "source": [
    "train = pd.read_csv('/kaggle/input/store-sales-time-series-forecasting/train.csv')\n",
    "test = pd.read_csv('/kaggle/input/store-sales-time-series-forecasting/test.csv')\n",
    "stores = pd.read_csv('/kaggle/input/store-sales-time-series-forecasting/stores.csv')\n",
    "transactions = pd.read_csv('/kaggle/input/store-sales-time-series-forecasting/transactions.csv')\n",
    "holidays = pd.read_csv('/kaggle/input/store-sales-time-series-forecasting/holidays_events.csv')\n",
    "oil_price = pd.read_csv('/kaggle/input/store-sales-time-series-forecasting/oil.csv')"
   ]
  },
  {
   "cell_type": "code",
   "execution_count": 4,
   "id": "5eb0f580",
   "metadata": {
    "execution": {
     "iopub.execute_input": "2025-07-24T20:51:01.955720Z",
     "iopub.status.busy": "2025-07-24T20:51:01.955441Z",
     "iopub.status.idle": "2025-07-24T20:51:01.976738Z",
     "shell.execute_reply": "2025-07-24T20:51:01.976061Z"
    },
    "papermill": {
     "duration": 0.025361,
     "end_time": "2025-07-24T20:51:01.978269",
     "exception": false,
     "start_time": "2025-07-24T20:51:01.952908",
     "status": "completed"
    },
    "tags": []
   },
   "outputs": [],
   "source": [
    "#preprocessing holidays data\n",
    "holidays.head()\n",
    "#filtering out transferred holidays\n",
    "holidays = holidays[holidays['transferred'] == False]\n",
    "holidays = holidays.replace(to_replace=['Transfer', 'Bridge', 'Additional'], value='Holiday')\n",
    "holidays['Holiday_Gen'] = holidays['type']=='Holiday' #holiday or not\n",
    "holidays['Event_Gen'] = holidays['type']=='Event' #event or not\n",
    "holidays['Work_Day_Gen'] = holidays['type']=='Work Day'\n",
    "holidays.drop(columns=[\"type\", \"transferred\"], inplace=True)"
   ]
  },
  {
   "cell_type": "code",
   "execution_count": 5,
   "id": "e44d2761",
   "metadata": {
    "execution": {
     "iopub.execute_input": "2025-07-24T20:51:01.983146Z",
     "iopub.status.busy": "2025-07-24T20:51:01.982802Z",
     "iopub.status.idle": "2025-07-24T20:51:01.995932Z",
     "shell.execute_reply": "2025-07-24T20:51:01.994764Z"
    },
    "papermill": {
     "duration": 0.017371,
     "end_time": "2025-07-24T20:51:01.997604",
     "exception": false,
     "start_time": "2025-07-24T20:51:01.980233",
     "status": "completed"
    },
    "tags": []
   },
   "outputs": [],
   "source": [
    "#preprocessing oil price data\n",
    "oil_price.loc[0, \"dcoilwtico\"] = oil_price.loc[1, \"dcoilwtico\"] #fill in the only nan\n",
    "oil_price.ffill(inplace=True)\n",
    "oil_price.bfill(inplace=True)"
   ]
  },
  {
   "cell_type": "code",
   "execution_count": 6,
   "id": "56589768",
   "metadata": {
    "execution": {
     "iopub.execute_input": "2025-07-24T20:51:02.002582Z",
     "iopub.status.busy": "2025-07-24T20:51:02.002283Z",
     "iopub.status.idle": "2025-07-24T20:51:02.011621Z",
     "shell.execute_reply": "2025-07-24T20:51:02.010583Z"
    },
    "papermill": {
     "duration": 0.013618,
     "end_time": "2025-07-24T20:51:02.013184",
     "exception": false,
     "start_time": "2025-07-24T20:51:01.999566",
     "status": "completed"
    },
    "tags": []
   },
   "outputs": [],
   "source": [
    "#data preprocessing\n",
    "\n",
    "scalers = {'scaler_onpromotion' : MinMaxScaler(), 'scaler_day' : MinMaxScaler(), 'saler_month' : MinMaxScaler(),\n",
    "           'scaler_year' : MinMaxScaler(), 'scaler_dcoilwtico' : MinMaxScaler(), 'scaler_DoW' : MinMaxScaler()}\n",
    "\n",
    "def preprocess_data(data, stores, transactions, holidays, oil_price, fit_scaler, scalers):\n",
    "    #data will be empty before adding all dfs\n",
    "    #merge stores into data to substitute store ids with location data\n",
    "    data = data.merge(stores, how = 'left', left_on = 'date', right_on = 'date') #left_on = left df (data), right_on = rigt df(stores)\n",
    "    data['Holiday'] = ((data['Holiday_Gen'] == True)\n",
    "                      & ((data['city'] == data['locale_name'])\n",
    "                        | (data['state'] == data['locale_name'])\n",
    "                        | ('Ecuador' == data['locale_name']))).astype(dtype='float64')\n",
    "    data['Event'] = ((data['Event_Gen'] == True)\n",
    "                       & ((data['city'] == data['locale_name'])\n",
    "                          | (data['state'] == data['locale_name'])\n",
    "                          | ('Ecuador' == data['locale_name']))).astype(dtype='float64')\n",
    "    data['Work_Day'] = ((data['Work_Day_Gen'] == True)\n",
    "                        & ((data['city'] == data['locale_name'])\n",
    "                           | (data['state'] == data['locale_name'])\n",
    "                           | ('Ecuador' == data['locale_name']))).astype(dtype='float64')\n",
    "\n",
    "    #add oil prices to data + fill missing values\n",
    "    data = data.merge(oil_price, how = 'left', left_on = 'date', right_on = 'date')\n",
    "    data.sort_values('id', inplace = True) #sort rows by id, modify original df with no copy made\n",
    "    data['dcoilwtico'] = data['dcoilwtico'].ffill() #forward fill\n",
    "\n",
    "    #add transactions to data\n",
    "    data = data.merge(transactions, how = 'left', left_on = ['date', 'store_nbr'], right_on = ['date', 'store_nbr']) #join data and transactions  where date and store_nbr match\n",
    "\n",
    "    #modify date, pay date info\n",
    "    data['date'] = pd.to_datetime(data['date']) #turn into math friendly datetime data\n",
    "    data['day'] = data['date'].dt.day #extract the day from the date and put in a column\n",
    "    data['month'] = data['date'].dt.month #extract month and put in a column\n",
    "    data['year'] = data['date'].dt.year #extract year and put in a column\n",
    "    data['day_of_week'] = data['date'].dt.day_name() #get day of the week NAME (strings)\n",
    "    data['DoW'] = data['date'].dt.dayofweek #get day of the week as number (monday = 0, int)\n",
    "    #pay days are on the first and 16th\n",
    "    data['Pay_Day'] = ((data['date'].dt.day == 1) | (data['date'].dt.day == 16)).astype(float64) #check if the day is 1 or 16 (if its payday)\n",
    "    #there was an earthquake on 2016-04-16\n",
    "    data['Earthquake'] = (data['date'] == '2016-04-16').astype(float64)\n",
    "\n",
    "    #fill nans with proper values\n",
    "    data.fillna({\n",
    "        'Holiday_Gen': False, #fill all holiday gen nans with false etc\n",
    "        'Event_Gen': False,\n",
    "        'Work_Day_Gen': False,\n",
    "        'Holiday': 0.0,\n",
    "        'Event': 0.0,\n",
    "        'Work_Day': 0.0,\n",
    "        'Pay_Day': 0.0,\n",
    "        'Earthquake': 0.0,\n",
    "        'transactions': 0.0\n",
    "    }, inplace=True) #change original df directly, no copy is made\n",
    "\n",
    "    #onehotencoding categorical features: \n",
    "    encoder = OneHotEncoder()\n",
    "    #One_Hot_Encoding = pd.DataFrame(encoder.fit_transform)"
   ]
  },
  {
   "cell_type": "code",
   "execution_count": null,
   "id": "e2f24423",
   "metadata": {
    "papermill": {
     "duration": 0.001439,
     "end_time": "2025-07-24T20:51:02.016561",
     "exception": false,
     "start_time": "2025-07-24T20:51:02.015122",
     "status": "completed"
    },
    "tags": []
   },
   "outputs": [],
   "source": [
    "\n"
   ]
  }
 ],
 "metadata": {
  "kaggle": {
   "accelerator": "none",
   "dataSources": [
    {
     "databundleVersionId": 2887556,
     "sourceId": 29781,
     "sourceType": "competition"
    }
   ],
   "dockerImageVersionId": 31089,
   "isGpuEnabled": false,
   "isInternetEnabled": true,
   "language": "python",
   "sourceType": "notebook"
  },
  "kernelspec": {
   "display_name": "Python 3",
   "language": "python",
   "name": "python3"
  },
  "language_info": {
   "codemirror_mode": {
    "name": "ipython",
    "version": 3
   },
   "file_extension": ".py",
   "mimetype": "text/x-python",
   "name": "python",
   "nbconvert_exporter": "python",
   "pygments_lexer": "ipython3",
   "version": "3.11.13"
  },
  "papermill": {
   "default_parameters": {},
   "duration": 12.522528,
   "end_time": "2025-07-24T20:51:02.638257",
   "environment_variables": {},
   "exception": null,
   "input_path": "__notebook__.ipynb",
   "output_path": "__notebook__.ipynb",
   "parameters": {},
   "start_time": "2025-07-24T20:50:50.115729",
   "version": "2.6.0"
  }
 },
 "nbformat": 4,
 "nbformat_minor": 5
}
