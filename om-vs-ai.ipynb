{
 "cells": [
  {
   "cell_type": "code",
   "execution_count": 1,
   "id": "4e91084e",
   "metadata": {
    "_cell_guid": "dd29555b-f98a-4b4c-89f3-ca701d928c91",
    "_uuid": "33eb2e56-7695-497d-a1cf-03be54ce1546",
    "collapsed": false,
    "execution": {
     "iopub.execute_input": "2025-08-04T15:31:57.820513Z",
     "iopub.status.busy": "2025-08-04T15:31:57.820080Z",
     "iopub.status.idle": "2025-08-04T15:31:59.864560Z",
     "shell.execute_reply": "2025-08-04T15:31:59.863170Z"
    },
    "jupyter": {
     "outputs_hidden": false
    },
    "papermill": {
     "duration": 2.053638,
     "end_time": "2025-08-04T15:31:59.866415",
     "exception": false,
     "start_time": "2025-08-04T15:31:57.812777",
     "status": "completed"
    },
    "tags": []
   },
   "outputs": [
    {
     "name": "stdout",
     "output_type": "stream",
     "text": [
      "/kaggle/input/test-data/test_data (3).csv\n",
      "/kaggle/input/train-data/train_data (2).csv\n",
      "/kaggle/input/sample-output/sample_output(14).csv\n"
     ]
    }
   ],
   "source": [
    "# This Python 3 environment comes with many helpful analytics libraries installed\n",
    "# It is defined by the kaggle/python Docker image: https://github.com/kaggle/docker-python\n",
    "# For example, here's several helpful packages to load\n",
    "\n",
    "import numpy as np # linear algebra\n",
    "import pandas as pd # data processing, CSV file I/O (e.g. pd.read_csv)\n",
    "\n",
    "# Input data files are available in the read-only \"../input/\" directory\n",
    "# For example, running this (by clicking run or pressing Shift+Enter) will list all files under the input directory\n",
    "\n",
    "import os\n",
    "for dirname, _, filenames in os.walk('/kaggle/input'):\n",
    "    for filename in filenames:\n",
    "        print(os.path.join(dirname, filename))\n",
    "\n",
    "# You can write up to 20GB to the current directory (/kaggle/working/) that gets preserved as output when you create a version using \"Save & Run All\" \n",
    "# You can also write temporary files to /kaggle/temp/, but they won't be saved outside of the current session"
   ]
  },
  {
   "cell_type": "code",
   "execution_count": 2,
   "id": "83d9472f",
   "metadata": {
    "_cell_guid": "49a04b54-ea75-467e-ba44-dd9d83a2257d",
    "_uuid": "60770c81-2484-4256-a51f-dcbbd93d56da",
    "collapsed": false,
    "execution": {
     "iopub.execute_input": "2025-08-04T15:31:59.879448Z",
     "iopub.status.busy": "2025-08-04T15:31:59.878312Z",
     "iopub.status.idle": "2025-08-04T15:31:59.883097Z",
     "shell.execute_reply": "2025-08-04T15:31:59.882263Z"
    },
    "jupyter": {
     "outputs_hidden": false
    },
    "papermill": {
     "duration": 0.012709,
     "end_time": "2025-08-04T15:31:59.884741",
     "exception": false,
     "start_time": "2025-08-04T15:31:59.872032",
     "status": "completed"
    },
    "tags": []
   },
   "outputs": [],
   "source": [
    "import re"
   ]
  },
  {
   "cell_type": "code",
   "execution_count": 3,
   "id": "845243a4",
   "metadata": {
    "_cell_guid": "2a6075b2-5d37-4192-8778-2d2143ea4458",
    "_uuid": "085a45fa-cf26-4ec1-ae8e-af1de29d6109",
    "collapsed": false,
    "execution": {
     "iopub.execute_input": "2025-08-04T15:31:59.896555Z",
     "iopub.status.busy": "2025-08-04T15:31:59.896207Z",
     "iopub.status.idle": "2025-08-04T15:32:00.284051Z",
     "shell.execute_reply": "2025-08-04T15:32:00.283007Z"
    },
    "jupyter": {
     "outputs_hidden": false
    },
    "papermill": {
     "duration": 0.395894,
     "end_time": "2025-08-04T15:32:00.285972",
     "exception": false,
     "start_time": "2025-08-04T15:31:59.890078",
     "status": "completed"
    },
    "tags": []
   },
   "outputs": [],
   "source": [
    "train = pd.read_csv('/kaggle/input/train-data/train_data (2).csv')\n",
    "test = pd.read_csv('/kaggle/input/test-data/test_data (3).csv')"
   ]
  },
  {
   "cell_type": "markdown",
   "id": "10117781",
   "metadata": {
    "_cell_guid": "d9fecf70-4dc7-400b-99db-eb40e38cafd2",
    "_uuid": "3328e4e9-ed54-4fe1-aa9f-690197ee8e10",
    "collapsed": false,
    "jupyter": {
     "outputs_hidden": false
    },
    "papermill": {
     "duration": 0.004942,
     "end_time": "2025-08-04T15:32:00.296409",
     "exception": false,
     "start_time": "2025-08-04T15:32:00.291467",
     "status": "completed"
    },
    "tags": []
   },
   "source": [
    "# SUBTASK 1 : HUMAN OR AI"
   ]
  },
  {
   "cell_type": "code",
   "execution_count": 4,
   "id": "1600da12",
   "metadata": {
    "_cell_guid": "ea7228d2-1cce-4283-97fc-77ad7e51e4f0",
    "_uuid": "ec1a9885-b9dc-4c43-a4af-09592dfc1d61",
    "collapsed": false,
    "execution": {
     "iopub.execute_input": "2025-08-04T15:32:00.307991Z",
     "iopub.status.busy": "2025-08-04T15:32:00.307632Z",
     "iopub.status.idle": "2025-08-04T15:32:03.214451Z",
     "shell.execute_reply": "2025-08-04T15:32:03.213321Z"
    },
    "jupyter": {
     "outputs_hidden": false
    },
    "papermill": {
     "duration": 2.914811,
     "end_time": "2025-08-04T15:32:03.216319",
     "exception": false,
     "start_time": "2025-08-04T15:32:00.301508",
     "status": "completed"
    },
    "tags": []
   },
   "outputs": [
    {
     "name": "stderr",
     "output_type": "stream",
     "text": [
      "[nltk_data] Downloading package stopwords to /usr/share/nltk_data...\n",
      "[nltk_data]   Package stopwords is already up-to-date!\n"
     ]
    }
   ],
   "source": [
    "from sklearn.feature_extraction.text import TfidfVectorizer\n",
    "import nltk\n",
    "from nltk.corpus import stopwords\n",
    "nltk.download('stopwords')\n",
    "stopwords = set(stopwords.words('english'))\n",
    "\n",
    "def clean_text(text):\n",
    "    text = re.sub(r'[^a-z0-9\\s]', '', text)\n",
    "    text = text.lower()\n",
    "    words = text.split()\n",
    "    words = [word for word in words if not word in stopwords]\n",
    "    return ' '.join(words)\n",
    "\n",
    "def preprocess_df(df, text_col = 'text', mode = 'train', vectorizer = TfidfVectorizer()):\n",
    "    df[text_col] = df[text_col].apply(clean_text)\n",
    "    if mode == 'train':\n",
    "        vectors = vectorizer.fit_transform(df[text_col])\n",
    "    else:\n",
    "        vectors = vectorizer.transform(df[text_col])\n",
    "\n",
    "\n",
    "    return vectors, vectorizer"
   ]
  },
  {
   "cell_type": "code",
   "execution_count": 5,
   "id": "0720366b",
   "metadata": {
    "_cell_guid": "0ee5260b-05e7-43cc-b202-f9272927a116",
    "_uuid": "34b306dc-fb69-4e39-bb11-350509e13e5a",
    "collapsed": false,
    "execution": {
     "iopub.execute_input": "2025-08-04T15:32:03.229511Z",
     "iopub.status.busy": "2025-08-04T15:32:03.229040Z",
     "iopub.status.idle": "2025-08-04T15:32:03.970208Z",
     "shell.execute_reply": "2025-08-04T15:32:03.969248Z"
    },
    "jupyter": {
     "outputs_hidden": false
    },
    "papermill": {
     "duration": 0.750191,
     "end_time": "2025-08-04T15:32:03.971922",
     "exception": false,
     "start_time": "2025-08-04T15:32:03.221731",
     "status": "completed"
    },
    "tags": []
   },
   "outputs": [],
   "source": [
    "x_train, tfidf = preprocess_df(train)"
   ]
  },
  {
   "cell_type": "code",
   "execution_count": 6,
   "id": "72cae09e",
   "metadata": {
    "_cell_guid": "c5c95757-169f-4b85-9c14-cef8760f8df1",
    "_uuid": "7c4a6ad9-4354-4635-8288-20000141ffb5",
    "collapsed": false,
    "execution": {
     "iopub.execute_input": "2025-08-04T15:32:03.985257Z",
     "iopub.status.busy": "2025-08-04T15:32:03.983862Z",
     "iopub.status.idle": "2025-08-04T15:32:03.989460Z",
     "shell.execute_reply": "2025-08-04T15:32:03.988290Z"
    },
    "jupyter": {
     "outputs_hidden": false
    },
    "papermill": {
     "duration": 0.014684,
     "end_time": "2025-08-04T15:32:03.991704",
     "exception": false,
     "start_time": "2025-08-04T15:32:03.977020",
     "status": "completed"
    },
    "tags": []
   },
   "outputs": [],
   "source": [
    "y_train = train['label']"
   ]
  },
  {
   "cell_type": "code",
   "execution_count": 7,
   "id": "117bbb98",
   "metadata": {
    "_cell_guid": "a1b24f8c-ca43-44fd-a306-86975867e35c",
    "_uuid": "e56ee1d4-7ddf-48bf-8ff1-4e1caa64e2de",
    "collapsed": false,
    "execution": {
     "iopub.execute_input": "2025-08-04T15:32:04.004087Z",
     "iopub.status.busy": "2025-08-04T15:32:04.003665Z",
     "iopub.status.idle": "2025-08-04T15:32:04.008398Z",
     "shell.execute_reply": "2025-08-04T15:32:04.007571Z"
    },
    "jupyter": {
     "outputs_hidden": false
    },
    "papermill": {
     "duration": 0.012605,
     "end_time": "2025-08-04T15:32:04.009939",
     "exception": false,
     "start_time": "2025-08-04T15:32:03.997334",
     "status": "completed"
    },
    "tags": []
   },
   "outputs": [],
   "source": [
    "from sklearn.linear_model import LogisticRegression\n",
    "\n",
    "model = LogisticRegression(max_iter = 1000)"
   ]
  },
  {
   "cell_type": "code",
   "execution_count": 8,
   "id": "a7a3e01a",
   "metadata": {
    "_cell_guid": "b3819657-94ef-480a-973d-ce687d6ea467",
    "_uuid": "f6e48a92-c9cc-461b-9c64-c2b3b5519d69",
    "collapsed": false,
    "execution": {
     "iopub.execute_input": "2025-08-04T15:32:04.021549Z",
     "iopub.status.busy": "2025-08-04T15:32:04.021164Z",
     "iopub.status.idle": "2025-08-04T15:32:04.694547Z",
     "shell.execute_reply": "2025-08-04T15:32:04.692003Z"
    },
    "jupyter": {
     "outputs_hidden": false
    },
    "papermill": {
     "duration": 0.681595,
     "end_time": "2025-08-04T15:32:04.696678",
     "exception": false,
     "start_time": "2025-08-04T15:32:04.015083",
     "status": "completed"
    },
    "tags": []
   },
   "outputs": [
    {
     "data": {
      "text/html": [
       "<style>#sk-container-id-1 {color: black;background-color: white;}#sk-container-id-1 pre{padding: 0;}#sk-container-id-1 div.sk-toggleable {background-color: white;}#sk-container-id-1 label.sk-toggleable__label {cursor: pointer;display: block;width: 100%;margin-bottom: 0;padding: 0.3em;box-sizing: border-box;text-align: center;}#sk-container-id-1 label.sk-toggleable__label-arrow:before {content: \"▸\";float: left;margin-right: 0.25em;color: #696969;}#sk-container-id-1 label.sk-toggleable__label-arrow:hover:before {color: black;}#sk-container-id-1 div.sk-estimator:hover label.sk-toggleable__label-arrow:before {color: black;}#sk-container-id-1 div.sk-toggleable__content {max-height: 0;max-width: 0;overflow: hidden;text-align: left;background-color: #f0f8ff;}#sk-container-id-1 div.sk-toggleable__content pre {margin: 0.2em;color: black;border-radius: 0.25em;background-color: #f0f8ff;}#sk-container-id-1 input.sk-toggleable__control:checked~div.sk-toggleable__content {max-height: 200px;max-width: 100%;overflow: auto;}#sk-container-id-1 input.sk-toggleable__control:checked~label.sk-toggleable__label-arrow:before {content: \"▾\";}#sk-container-id-1 div.sk-estimator input.sk-toggleable__control:checked~label.sk-toggleable__label {background-color: #d4ebff;}#sk-container-id-1 div.sk-label input.sk-toggleable__control:checked~label.sk-toggleable__label {background-color: #d4ebff;}#sk-container-id-1 input.sk-hidden--visually {border: 0;clip: rect(1px 1px 1px 1px);clip: rect(1px, 1px, 1px, 1px);height: 1px;margin: -1px;overflow: hidden;padding: 0;position: absolute;width: 1px;}#sk-container-id-1 div.sk-estimator {font-family: monospace;background-color: #f0f8ff;border: 1px dotted black;border-radius: 0.25em;box-sizing: border-box;margin-bottom: 0.5em;}#sk-container-id-1 div.sk-estimator:hover {background-color: #d4ebff;}#sk-container-id-1 div.sk-parallel-item::after {content: \"\";width: 100%;border-bottom: 1px solid gray;flex-grow: 1;}#sk-container-id-1 div.sk-label:hover label.sk-toggleable__label {background-color: #d4ebff;}#sk-container-id-1 div.sk-serial::before {content: \"\";position: absolute;border-left: 1px solid gray;box-sizing: border-box;top: 0;bottom: 0;left: 50%;z-index: 0;}#sk-container-id-1 div.sk-serial {display: flex;flex-direction: column;align-items: center;background-color: white;padding-right: 0.2em;padding-left: 0.2em;position: relative;}#sk-container-id-1 div.sk-item {position: relative;z-index: 1;}#sk-container-id-1 div.sk-parallel {display: flex;align-items: stretch;justify-content: center;background-color: white;position: relative;}#sk-container-id-1 div.sk-item::before, #sk-container-id-1 div.sk-parallel-item::before {content: \"\";position: absolute;border-left: 1px solid gray;box-sizing: border-box;top: 0;bottom: 0;left: 50%;z-index: -1;}#sk-container-id-1 div.sk-parallel-item {display: flex;flex-direction: column;z-index: 1;position: relative;background-color: white;}#sk-container-id-1 div.sk-parallel-item:first-child::after {align-self: flex-end;width: 50%;}#sk-container-id-1 div.sk-parallel-item:last-child::after {align-self: flex-start;width: 50%;}#sk-container-id-1 div.sk-parallel-item:only-child::after {width: 0;}#sk-container-id-1 div.sk-dashed-wrapped {border: 1px dashed gray;margin: 0 0.4em 0.5em 0.4em;box-sizing: border-box;padding-bottom: 0.4em;background-color: white;}#sk-container-id-1 div.sk-label label {font-family: monospace;font-weight: bold;display: inline-block;line-height: 1.2em;}#sk-container-id-1 div.sk-label-container {text-align: center;}#sk-container-id-1 div.sk-container {/* jupyter's `normalize.less` sets `[hidden] { display: none; }` but bootstrap.min.css set `[hidden] { display: none !important; }` so we also need the `!important` here to be able to override the default hidden behavior on the sphinx rendered scikit-learn.org. See: https://github.com/scikit-learn/scikit-learn/issues/21755 */display: inline-block !important;position: relative;}#sk-container-id-1 div.sk-text-repr-fallback {display: none;}</style><div id=\"sk-container-id-1\" class=\"sk-top-container\"><div class=\"sk-text-repr-fallback\"><pre>LogisticRegression(max_iter=1000)</pre><b>In a Jupyter environment, please rerun this cell to show the HTML representation or trust the notebook. <br />On GitHub, the HTML representation is unable to render, please try loading this page with nbviewer.org.</b></div><div class=\"sk-container\" hidden><div class=\"sk-item\"><div class=\"sk-estimator sk-toggleable\"><input class=\"sk-toggleable__control sk-hidden--visually\" id=\"sk-estimator-id-1\" type=\"checkbox\" checked><label for=\"sk-estimator-id-1\" class=\"sk-toggleable__label sk-toggleable__label-arrow\">LogisticRegression</label><div class=\"sk-toggleable__content\"><pre>LogisticRegression(max_iter=1000)</pre></div></div></div></div></div>"
      ],
      "text/plain": [
       "LogisticRegression(max_iter=1000)"
      ]
     },
     "execution_count": 8,
     "metadata": {},
     "output_type": "execute_result"
    }
   ],
   "source": [
    "model.fit(x_train, y_train)"
   ]
  },
  {
   "cell_type": "code",
   "execution_count": 9,
   "id": "5616821e",
   "metadata": {
    "_cell_guid": "16a2df9d-c65a-4c76-99fc-217924ad385b",
    "_uuid": "bdabf944-4bc0-462a-9b6b-8147677f6fdc",
    "collapsed": false,
    "execution": {
     "iopub.execute_input": "2025-08-04T15:32:04.715223Z",
     "iopub.status.busy": "2025-08-04T15:32:04.714883Z",
     "iopub.status.idle": "2025-08-04T15:32:05.061452Z",
     "shell.execute_reply": "2025-08-04T15:32:05.060449Z"
    },
    "jupyter": {
     "outputs_hidden": false
    },
    "papermill": {
     "duration": 0.357902,
     "end_time": "2025-08-04T15:32:05.063281",
     "exception": false,
     "start_time": "2025-08-04T15:32:04.705379",
     "status": "completed"
    },
    "tags": []
   },
   "outputs": [
    {
     "name": "stderr",
     "output_type": "stream",
     "text": [
      "/tmp/ipykernel_13/3255200116.py:15: SettingWithCopyWarning: \n",
      "A value is trying to be set on a copy of a slice from a DataFrame.\n",
      "Try using .loc[row_indexer,col_indexer] = value instead\n",
      "\n",
      "See the caveats in the documentation: https://pandas.pydata.org/pandas-docs/stable/user_guide/indexing.html#returning-a-view-versus-a-copy\n",
      "  df[text_col] = df[text_col].apply(clean_text)\n"
     ]
    }
   ],
   "source": [
    "x_test = test[test['subtaskID'] == 1]\n",
    "x_test, tfidf = preprocess_df(x_test, mode = 'test', vectorizer = tfidf)"
   ]
  },
  {
   "cell_type": "code",
   "execution_count": 10,
   "id": "9a0e3173",
   "metadata": {
    "_cell_guid": "b8fa4e40-0f18-449c-84a5-59c252f0ab29",
    "_uuid": "c9366f30-d849-43d7-aaca-a868a250b22b",
    "collapsed": false,
    "execution": {
     "iopub.execute_input": "2025-08-04T15:32:05.075624Z",
     "iopub.status.busy": "2025-08-04T15:32:05.075280Z",
     "iopub.status.idle": "2025-08-04T15:32:05.081370Z",
     "shell.execute_reply": "2025-08-04T15:32:05.080277Z"
    },
    "jupyter": {
     "outputs_hidden": false
    },
    "papermill": {
     "duration": 0.014221,
     "end_time": "2025-08-04T15:32:05.083222",
     "exception": false,
     "start_time": "2025-08-04T15:32:05.069001",
     "status": "completed"
    },
    "tags": []
   },
   "outputs": [],
   "source": [
    "y_pred = model.predict(x_test)"
   ]
  },
  {
   "cell_type": "code",
   "execution_count": 11,
   "id": "78502c3a",
   "metadata": {
    "_cell_guid": "e9bdefbf-8dfb-4a22-ab6f-71872839b50f",
    "_uuid": "1f88d80b-e1d3-451b-a3dc-82b860f9e37f",
    "collapsed": false,
    "execution": {
     "iopub.execute_input": "2025-08-04T15:32:05.095453Z",
     "iopub.status.busy": "2025-08-04T15:32:05.095118Z",
     "iopub.status.idle": "2025-08-04T15:32:05.110002Z",
     "shell.execute_reply": "2025-08-04T15:32:05.108974Z"
    },
    "jupyter": {
     "outputs_hidden": false
    },
    "papermill": {
     "duration": 0.023058,
     "end_time": "2025-08-04T15:32:05.111769",
     "exception": false,
     "start_time": "2025-08-04T15:32:05.088711",
     "status": "completed"
    },
    "tags": []
   },
   "outputs": [],
   "source": [
    "\n",
    "\n",
    "submission_1 = pd.DataFrame({\n",
    "    'subtaskID' : [1] * len(y_pred),\n",
    "    'datapointID' : test.head(test['subtaskID'].value_counts()[1])['ID'],\n",
    "    'answer' : y_pred\n",
    "})"
   ]
  },
  {
   "cell_type": "markdown",
   "id": "090e4d63",
   "metadata": {
    "_cell_guid": "f817932c-9910-4833-b301-1365cfa88c84",
    "_uuid": "ea800ef0-c72c-4b0d-b85f-aa3d557f5c40",
    "collapsed": false,
    "jupyter": {
     "outputs_hidden": false
    },
    "papermill": {
     "duration": 0.005082,
     "end_time": "2025-08-04T15:32:05.122165",
     "exception": false,
     "start_time": "2025-08-04T15:32:05.117083",
     "status": "completed"
    },
    "tags": []
   },
   "source": [
    "# SUBTASK 2: TEXT THEME CLASSIFICATION"
   ]
  },
  {
   "cell_type": "code",
   "execution_count": 12,
   "id": "9b6f7c27",
   "metadata": {
    "_cell_guid": "afad2078-65ef-4599-adc0-e6116c56428e",
    "_uuid": "5e05faf1-a731-4247-a8d4-033133aadedd",
    "collapsed": false,
    "execution": {
     "iopub.execute_input": "2025-08-04T15:32:05.133890Z",
     "iopub.status.busy": "2025-08-04T15:32:05.133537Z",
     "iopub.status.idle": "2025-08-04T15:32:05.139983Z",
     "shell.execute_reply": "2025-08-04T15:32:05.138877Z"
    },
    "jupyter": {
     "outputs_hidden": false
    },
    "papermill": {
     "duration": 0.014509,
     "end_time": "2025-08-04T15:32:05.141738",
     "exception": false,
     "start_time": "2025-08-04T15:32:05.127229",
     "status": "completed"
    },
    "tags": []
   },
   "outputs": [
    {
     "data": {
      "text/plain": [
       "5563"
      ]
     },
     "execution_count": 12,
     "metadata": {},
     "output_type": "execute_result"
    }
   ],
   "source": [
    "len(test)"
   ]
  },
  {
   "cell_type": "code",
   "execution_count": 13,
   "id": "100f7e21",
   "metadata": {
    "_cell_guid": "646a7b13-6178-4949-abc9-2e92095e3af8",
    "_uuid": "8ae28afd-3d55-4040-9199-2b865caadf2e",
    "collapsed": false,
    "execution": {
     "iopub.execute_input": "2025-08-04T15:32:05.156327Z",
     "iopub.status.busy": "2025-08-04T15:32:05.155381Z",
     "iopub.status.idle": "2025-08-04T15:32:05.698472Z",
     "shell.execute_reply": "2025-08-04T15:32:05.697251Z"
    },
    "jupyter": {
     "outputs_hidden": false
    },
    "papermill": {
     "duration": 0.552681,
     "end_time": "2025-08-04T15:32:05.700545",
     "exception": false,
     "start_time": "2025-08-04T15:32:05.147864",
     "status": "completed"
    },
    "tags": []
   },
   "outputs": [
    {
     "name": "stderr",
     "output_type": "stream",
     "text": [
      "/tmp/ipykernel_13/3255200116.py:15: SettingWithCopyWarning: \n",
      "A value is trying to be set on a copy of a slice from a DataFrame.\n",
      "Try using .loc[row_indexer,col_indexer] = value instead\n",
      "\n",
      "See the caveats in the documentation: https://pandas.pydata.org/pandas-docs/stable/user_guide/indexing.html#returning-a-view-versus-a-copy\n",
      "  df[text_col] = df[text_col].apply(clean_text)\n"
     ]
    }
   ],
   "source": [
    "s2_test = test[test['subtaskID'] == 2]\n",
    "s2_df = test[test['subtaskID'] == 2]\n",
    "\n",
    "s2_test, tfidf = preprocess_df(s2_test, vectorizer = tfidf)"
   ]
  },
  {
   "cell_type": "code",
   "execution_count": 14,
   "id": "ef106b29",
   "metadata": {
    "_cell_guid": "fc9faa4b-885a-4b8b-ba2a-214fa376029c",
    "_uuid": "e5f820bb-2ad9-4fd5-b34f-88dc71d3a158",
    "collapsed": false,
    "execution": {
     "iopub.execute_input": "2025-08-04T15:32:05.713088Z",
     "iopub.status.busy": "2025-08-04T15:32:05.712753Z",
     "iopub.status.idle": "2025-08-04T15:32:06.765195Z",
     "shell.execute_reply": "2025-08-04T15:32:06.764055Z"
    },
    "jupyter": {
     "outputs_hidden": false
    },
    "papermill": {
     "duration": 1.061043,
     "end_time": "2025-08-04T15:32:06.767170",
     "exception": false,
     "start_time": "2025-08-04T15:32:05.706127",
     "status": "completed"
    },
    "tags": []
   },
   "outputs": [
    {
     "name": "stderr",
     "output_type": "stream",
     "text": [
      "/usr/local/lib/python3.11/dist-packages/sklearn/cluster/_kmeans.py:870: FutureWarning: The default value of `n_init` will change from 10 to 'auto' in 1.4. Set the value of `n_init` explicitly to suppress the warning\n",
      "  warnings.warn(\n",
      "/tmp/ipykernel_13/1561467368.py:7: SettingWithCopyWarning: \n",
      "A value is trying to be set on a copy of a slice from a DataFrame.\n",
      "Try using .loc[row_indexer,col_indexer] = value instead\n",
      "\n",
      "See the caveats in the documentation: https://pandas.pydata.org/pandas-docs/stable/user_guide/indexing.html#returning-a-view-versus-a-copy\n",
      "  s2_df['label'] = labels\n"
     ]
    }
   ],
   "source": [
    "from sklearn.cluster import KMeans\n",
    "kmeans = KMeans(n_clusters = 4, random_state = 42)\n",
    "\n",
    "kmeans.fit(s2_test)\n",
    "\n",
    "labels = kmeans.labels_\n",
    "s2_df['label'] = labels"
   ]
  },
  {
   "cell_type": "code",
   "execution_count": 15,
   "id": "567d03c2",
   "metadata": {
    "_cell_guid": "935dcec8-afc7-4147-b1b4-824cfa42a995",
    "_uuid": "498df660-54fd-4943-8e8f-dcd2ddfde90f",
    "collapsed": false,
    "execution": {
     "iopub.execute_input": "2025-08-04T15:32:06.790506Z",
     "iopub.status.busy": "2025-08-04T15:32:06.790150Z",
     "iopub.status.idle": "2025-08-04T15:32:06.796000Z",
     "shell.execute_reply": "2025-08-04T15:32:06.795212Z"
    },
    "jupyter": {
     "outputs_hidden": false
    },
    "papermill": {
     "duration": 0.018269,
     "end_time": "2025-08-04T15:32:06.797415",
     "exception": false,
     "start_time": "2025-08-04T15:32:06.779146",
     "status": "completed"
    },
    "tags": []
   },
   "outputs": [],
   "source": [
    "def get_keywords(tfidf_vectorizer, kmeans_model, n_terms = 10):\n",
    "    centroids = kmeans_model.cluster_centers_\n",
    "    terms = tfidf_vectorizer.get_feature_names_out()\n",
    "\n",
    "    for i, centroid in enumerate(centroids):\n",
    "        print(f'Top words of cluster {i}:')\n",
    "        top_terms_idx = centroid.argsort()[-n_terms:][::-1]\n",
    "        top_terms = [terms[ind] for ind in top_terms_idx]\n",
    "        print(', '.join(top_terms))"
   ]
  },
  {
   "cell_type": "code",
   "execution_count": 16,
   "id": "6c4534a7",
   "metadata": {
    "_cell_guid": "e78327a0-e683-4e3a-9a92-c2cc27d5dca0",
    "_uuid": "23ad1461-3bf0-410d-a1c1-7a3a76e43eaa",
    "collapsed": false,
    "execution": {
     "iopub.execute_input": "2025-08-04T15:32:06.812392Z",
     "iopub.status.busy": "2025-08-04T15:32:06.812053Z",
     "iopub.status.idle": "2025-08-04T15:32:06.861333Z",
     "shell.execute_reply": "2025-08-04T15:32:06.859892Z"
    },
    "jupyter": {
     "outputs_hidden": false
    },
    "papermill": {
     "duration": 0.058989,
     "end_time": "2025-08-04T15:32:06.864107",
     "exception": false,
     "start_time": "2025-08-04T15:32:06.805118",
     "status": "completed"
    },
    "tags": []
   },
   "outputs": [
    {
     "name": "stdout",
     "output_type": "stream",
     "text": [
      "Top words of cluster 0:\n",
      "od, religious, church, esus, people, white, hristian, us, faith, said\n",
      "Top words of cluster 1:\n",
      "science, scientists, arth, ars, pace, said, climate, space, moon, research\n",
      "Top words of cluster 2:\n",
      "company, said, percent, ber, business, women, companies, mazon, employees, workers\n",
      "Top words of cluster 3:\n",
      "said, police, shooting, olice, told, school, according, ounty, osby, suspect\n"
     ]
    }
   ],
   "source": [
    "get_keywords(tfidf, kmeans)"
   ]
  },
  {
   "cell_type": "code",
   "execution_count": 17,
   "id": "d4d25291",
   "metadata": {
    "_cell_guid": "36fec434-52bc-4398-ac70-718968f229d4",
    "_uuid": "e7f34171-4056-447e-ac2b-8d86c98e1572",
    "collapsed": false,
    "execution": {
     "iopub.execute_input": "2025-08-04T15:32:06.877960Z",
     "iopub.status.busy": "2025-08-04T15:32:06.877608Z",
     "iopub.status.idle": "2025-08-04T15:32:06.889658Z",
     "shell.execute_reply": "2025-08-04T15:32:06.888489Z"
    },
    "jupyter": {
     "outputs_hidden": false
    },
    "papermill": {
     "duration": 0.021531,
     "end_time": "2025-08-04T15:32:06.892366",
     "exception": false,
     "start_time": "2025-08-04T15:32:06.870835",
     "status": "completed"
    },
    "tags": []
   },
   "outputs": [
    {
     "name": "stderr",
     "output_type": "stream",
     "text": [
      "/tmp/ipykernel_13/3562609387.py:8: SettingWithCopyWarning: \n",
      "A value is trying to be set on a copy of a slice from a DataFrame.\n",
      "Try using .loc[row_indexer,col_indexer] = value instead\n",
      "\n",
      "See the caveats in the documentation: https://pandas.pydata.org/pandas-docs/stable/user_guide/indexing.html#returning-a-view-versus-a-copy\n",
      "  s2_df['label'] = s2_df['label'].map(cluster_names)\n"
     ]
    }
   ],
   "source": [
    "cluster_names = { \n",
    "    0 : 'RELIGION', \n",
    "    1 : 'SCIENCE', #Religion\n",
    "    2 : 'BUSINESS', #crime\n",
    "    3 : 'CRIME' #business\n",
    "}\n",
    "\n",
    "s2_df['label'] = s2_df['label'].map(cluster_names)"
   ]
  },
  {
   "cell_type": "code",
   "execution_count": 18,
   "id": "389b7eea",
   "metadata": {
    "_cell_guid": "b1c555fd-a0c1-48ce-8b8e-30e6f85c335e",
    "_uuid": "ed121660-2470-49e8-9603-b1ecc79a312f",
    "collapsed": false,
    "execution": {
     "iopub.execute_input": "2025-08-04T15:32:06.906524Z",
     "iopub.status.busy": "2025-08-04T15:32:06.906137Z",
     "iopub.status.idle": "2025-08-04T15:32:06.912881Z",
     "shell.execute_reply": "2025-08-04T15:32:06.911672Z"
    },
    "jupyter": {
     "outputs_hidden": false
    },
    "papermill": {
     "duration": 0.015714,
     "end_time": "2025-08-04T15:32:06.914692",
     "exception": false,
     "start_time": "2025-08-04T15:32:06.898978",
     "status": "completed"
    },
    "tags": []
   },
   "outputs": [],
   "source": [
    "submission_2 = pd.DataFrame({\n",
    "    'subtaskID' : [2] * len(s2_df),\n",
    "    'datapointID' : s2_df['ID'],\n",
    "    'answer' : s2_df['label']\n",
    "})"
   ]
  },
  {
   "cell_type": "code",
   "execution_count": 19,
   "id": "356eda71",
   "metadata": {
    "_cell_guid": "bb4ee1a6-929b-4708-a3b3-ea14b09f0666",
    "_uuid": "de6f32bb-6577-49d3-b513-b8b93a87780f",
    "collapsed": false,
    "execution": {
     "iopub.execute_input": "2025-08-04T15:32:06.928318Z",
     "iopub.status.busy": "2025-08-04T15:32:06.927956Z",
     "iopub.status.idle": "2025-08-04T15:32:06.934390Z",
     "shell.execute_reply": "2025-08-04T15:32:06.933495Z"
    },
    "jupyter": {
     "outputs_hidden": false
    },
    "papermill": {
     "duration": 0.015221,
     "end_time": "2025-08-04T15:32:06.936185",
     "exception": false,
     "start_time": "2025-08-04T15:32:06.920964",
     "status": "completed"
    },
    "tags": []
   },
   "outputs": [],
   "source": [
    "submission = pd.concat([submission_1, submission_2], axis = 0)"
   ]
  },
  {
   "cell_type": "code",
   "execution_count": 20,
   "id": "3f3506bd",
   "metadata": {
    "_cell_guid": "e0000315-9e61-4ae1-8281-57d00382e28b",
    "_uuid": "28735f09-21f1-49a8-8e30-df6b08f9a85a",
    "collapsed": false,
    "execution": {
     "iopub.execute_input": "2025-08-04T15:32:06.950218Z",
     "iopub.status.busy": "2025-08-04T15:32:06.949299Z",
     "iopub.status.idle": "2025-08-04T15:32:06.977147Z",
     "shell.execute_reply": "2025-08-04T15:32:06.975330Z"
    },
    "jupyter": {
     "outputs_hidden": false
    },
    "papermill": {
     "duration": 0.037652,
     "end_time": "2025-08-04T15:32:06.979676",
     "exception": false,
     "start_time": "2025-08-04T15:32:06.942024",
     "status": "completed"
    },
    "tags": []
   },
   "outputs": [
    {
     "data": {
      "text/html": [
       "<div>\n",
       "<style scoped>\n",
       "    .dataframe tbody tr th:only-of-type {\n",
       "        vertical-align: middle;\n",
       "    }\n",
       "\n",
       "    .dataframe tbody tr th {\n",
       "        vertical-align: top;\n",
       "    }\n",
       "\n",
       "    .dataframe thead th {\n",
       "        text-align: right;\n",
       "    }\n",
       "</style>\n",
       "<table border=\"1\" class=\"dataframe\">\n",
       "  <thead>\n",
       "    <tr style=\"text-align: right;\">\n",
       "      <th></th>\n",
       "      <th>subtaskID</th>\n",
       "      <th>datapointID</th>\n",
       "      <th>answer</th>\n",
       "    </tr>\n",
       "  </thead>\n",
       "  <tbody>\n",
       "    <tr>\n",
       "      <th>0</th>\n",
       "      <td>1</td>\n",
       "      <td>10001</td>\n",
       "      <td>1.0</td>\n",
       "    </tr>\n",
       "    <tr>\n",
       "      <th>1</th>\n",
       "      <td>1</td>\n",
       "      <td>10002</td>\n",
       "      <td>0.0</td>\n",
       "    </tr>\n",
       "    <tr>\n",
       "      <th>2</th>\n",
       "      <td>1</td>\n",
       "      <td>10003</td>\n",
       "      <td>1.0</td>\n",
       "    </tr>\n",
       "    <tr>\n",
       "      <th>3</th>\n",
       "      <td>1</td>\n",
       "      <td>10004</td>\n",
       "      <td>0.0</td>\n",
       "    </tr>\n",
       "    <tr>\n",
       "      <th>4</th>\n",
       "      <td>1</td>\n",
       "      <td>10005</td>\n",
       "      <td>1.0</td>\n",
       "    </tr>\n",
       "    <tr>\n",
       "      <th>...</th>\n",
       "      <td>...</td>\n",
       "      <td>...</td>\n",
       "      <td>...</td>\n",
       "    </tr>\n",
       "    <tr>\n",
       "      <th>5558</th>\n",
       "      <td>2</td>\n",
       "      <td>15796</td>\n",
       "      <td>CRIME</td>\n",
       "    </tr>\n",
       "    <tr>\n",
       "      <th>5559</th>\n",
       "      <td>2</td>\n",
       "      <td>15797</td>\n",
       "      <td>RELIGION</td>\n",
       "    </tr>\n",
       "    <tr>\n",
       "      <th>5560</th>\n",
       "      <td>2</td>\n",
       "      <td>15798</td>\n",
       "      <td>SCIENCE</td>\n",
       "    </tr>\n",
       "    <tr>\n",
       "      <th>5561</th>\n",
       "      <td>2</td>\n",
       "      <td>15799</td>\n",
       "      <td>BUSINESS</td>\n",
       "    </tr>\n",
       "    <tr>\n",
       "      <th>5562</th>\n",
       "      <td>2</td>\n",
       "      <td>15800</td>\n",
       "      <td>SCIENCE</td>\n",
       "    </tr>\n",
       "  </tbody>\n",
       "</table>\n",
       "<p>5563 rows × 3 columns</p>\n",
       "</div>"
      ],
      "text/plain": [
       "      subtaskID  datapointID    answer\n",
       "0             1        10001       1.0\n",
       "1             1        10002       0.0\n",
       "2             1        10003       1.0\n",
       "3             1        10004       0.0\n",
       "4             1        10005       1.0\n",
       "...         ...          ...       ...\n",
       "5558          2        15796     CRIME\n",
       "5559          2        15797  RELIGION\n",
       "5560          2        15798   SCIENCE\n",
       "5561          2        15799  BUSINESS\n",
       "5562          2        15800   SCIENCE\n",
       "\n",
       "[5563 rows x 3 columns]"
      ]
     },
     "execution_count": 20,
     "metadata": {},
     "output_type": "execute_result"
    }
   ],
   "source": [
    "submission"
   ]
  },
  {
   "cell_type": "code",
   "execution_count": 21,
   "id": "353d0406",
   "metadata": {
    "_cell_guid": "2a3539c5-5d74-4b93-9c62-a841b5cbad01",
    "_uuid": "3929620c-4a82-4a84-a8c2-2ba29c966340",
    "collapsed": false,
    "execution": {
     "iopub.execute_input": "2025-08-04T15:32:06.993938Z",
     "iopub.status.busy": "2025-08-04T15:32:06.993611Z",
     "iopub.status.idle": "2025-08-04T15:32:07.012652Z",
     "shell.execute_reply": "2025-08-04T15:32:07.011632Z"
    },
    "jupyter": {
     "outputs_hidden": false
    },
    "papermill": {
     "duration": 0.028301,
     "end_time": "2025-08-04T15:32:07.014852",
     "exception": false,
     "start_time": "2025-08-04T15:32:06.986551",
     "status": "completed"
    },
    "tags": []
   },
   "outputs": [],
   "source": [
    "submission.to_csv('submission.csv', index = False)"
   ]
  },
  {
   "cell_type": "code",
   "execution_count": null,
   "id": "118e8295",
   "metadata": {
    "_cell_guid": "7f4d7a04-2ede-4cca-b71d-25a52d74cf79",
    "_uuid": "0fee8308-39d5-4306-96ea-404ccfca40ef",
    "collapsed": false,
    "jupyter": {
     "outputs_hidden": false
    },
    "papermill": {
     "duration": 0.006069,
     "end_time": "2025-08-04T15:32:07.027821",
     "exception": false,
     "start_time": "2025-08-04T15:32:07.021752",
     "status": "completed"
    },
    "tags": []
   },
   "outputs": [],
   "source": []
  }
 ],
 "metadata": {
  "kaggle": {
   "accelerator": "none",
   "dataSources": [
    {
     "datasetId": 8006307,
     "sourceId": 12669387,
     "sourceType": "datasetVersion"
    },
    {
     "datasetId": 8006309,
     "sourceId": 12669390,
     "sourceType": "datasetVersion"
    },
    {
     "datasetId": 8006311,
     "sourceId": 12669392,
     "sourceType": "datasetVersion"
    }
   ],
   "dockerImageVersionId": 31089,
   "isGpuEnabled": false,
   "isInternetEnabled": true,
   "language": "python",
   "sourceType": "notebook"
  },
  "kernelspec": {
   "display_name": "Python 3",
   "language": "python",
   "name": "python3"
  },
  "language_info": {
   "codemirror_mode": {
    "name": "ipython",
    "version": 3
   },
   "file_extension": ".py",
   "mimetype": "text/x-python",
   "name": "python",
   "nbconvert_exporter": "python",
   "pygments_lexer": "ipython3",
   "version": "3.11.13"
  },
  "papermill": {
   "default_parameters": {},
   "duration": 16.564836,
   "end_time": "2025-08-04T15:32:07.857885",
   "environment_variables": {},
   "exception": null,
   "input_path": "__notebook__.ipynb",
   "output_path": "__notebook__.ipynb",
   "parameters": {},
   "start_time": "2025-08-04T15:31:51.293049",
   "version": "2.6.0"
  }
 },
 "nbformat": 4,
 "nbformat_minor": 5
}
